{
 "cells": [
  {
   "cell_type": "code",
   "execution_count": 2,
   "metadata": {},
   "outputs": [],
   "source": [
    "import pandas as pd\n",
    "import matplotlib.pyplot as plt\n",
    "\n",
    "import seaborn as sns\n",
    "from wordcloud import WordCloud\n",
    "import re\n",
    "from collections import Counter"
   ]
  },
  {
   "cell_type": "code",
   "execution_count": 3,
   "metadata": {},
   "outputs": [],
   "source": [
    "url_prefix = 'https://t.me/'\n",
    "sources = [\n",
    "    'kommersant',\n",
    "    'rian_ru',\n",
    "    'tass_agency',\n",
    "    'd_code',\n",
    "    'ENews112',\n",
    "    'aviadispet4er',\n",
    "    'headlines_for_traders',\n",
    "    'mosrutop',\n",
    "    'rbc_news',\n",
    "]"
   ]
  },
  {
   "cell_type": "code",
   "execution_count": 4,
   "metadata": {},
   "outputs": [],
   "source": [
    "parsing_dir = '../data'\n",
    "data_path = f'{parsing_dir}/{sources[0]}.csv'"
   ]
  },
  {
   "cell_type": "code",
   "execution_count": 5,
   "metadata": {},
   "outputs": [],
   "source": [
    "df = pd.read_csv(data_path)"
   ]
  },
  {
   "cell_type": "code",
   "execution_count": 6,
   "metadata": {},
   "outputs": [
    {
     "data": {
      "text/html": [
       "<div>\n",
       "<style scoped>\n",
       "    .dataframe tbody tr th:only-of-type {\n",
       "        vertical-align: middle;\n",
       "    }\n",
       "\n",
       "    .dataframe tbody tr th {\n",
       "        vertical-align: top;\n",
       "    }\n",
       "\n",
       "    .dataframe thead th {\n",
       "        text-align: right;\n",
       "    }\n",
       "</style>\n",
       "<table border=\"1\" class=\"dataframe\">\n",
       "  <thead>\n",
       "    <tr style=\"text-align: right;\">\n",
       "      <th></th>\n",
       "      <th>id</th>\n",
       "      <th>date</th>\n",
       "      <th>text</th>\n",
       "      <th>views</th>\n",
       "      <th>forwards</th>\n",
       "      <th>replies</th>\n",
       "    </tr>\n",
       "  </thead>\n",
       "  <tbody>\n",
       "    <tr>\n",
       "      <th>0</th>\n",
       "      <td>94463</td>\n",
       "      <td>2025-11-01T18:01:06+00:00</td>\n",
       "      <td>🌒 **Главные новости к вечеру **\\n\\n▪️ Правител...</td>\n",
       "      <td>4179</td>\n",
       "      <td>3</td>\n",
       "      <td>NaN</td>\n",
       "    </tr>\n",
       "    <tr>\n",
       "      <th>1</th>\n",
       "      <td>94462</td>\n",
       "      <td>2025-11-01T17:34:42+00:00</td>\n",
       "      <td>**Атомная подводная лодка «Хабаровск» спущена ...</td>\n",
       "      <td>8137</td>\n",
       "      <td>40</td>\n",
       "      <td>NaN</td>\n",
       "    </tr>\n",
       "    <tr>\n",
       "      <th>2</th>\n",
       "      <td>94461</td>\n",
       "      <td>2025-11-01T17:14:39+00:00</td>\n",
       "      <td>**Онлайн-банк Revolut начал блокировать счета ...</td>\n",
       "      <td>10314</td>\n",
       "      <td>81</td>\n",
       "      <td>NaN</td>\n",
       "    </tr>\n",
       "    <tr>\n",
       "      <th>3</th>\n",
       "      <td>94460</td>\n",
       "      <td>2025-11-01T16:24:55+00:00</td>\n",
       "      <td>⭐️⭐️⭐️⭐️⭐️⭐️**Образование, ЖКХ, здравоохранени...</td>\n",
       "      <td>12698</td>\n",
       "      <td>42</td>\n",
       "      <td>NaN</td>\n",
       "    </tr>\n",
       "    <tr>\n",
       "      <th>4</th>\n",
       "      <td>94459</td>\n",
       "      <td>2025-11-01T16:09:31+00:00</td>\n",
       "      <td>Премьер-министр Венгрии Виктор Обран **назвал ...</td>\n",
       "      <td>12344</td>\n",
       "      <td>11</td>\n",
       "      <td>NaN</td>\n",
       "    </tr>\n",
       "  </tbody>\n",
       "</table>\n",
       "</div>"
      ],
      "text/plain": [
       "      id                       date  \\\n",
       "0  94463  2025-11-01T18:01:06+00:00   \n",
       "1  94462  2025-11-01T17:34:42+00:00   \n",
       "2  94461  2025-11-01T17:14:39+00:00   \n",
       "3  94460  2025-11-01T16:24:55+00:00   \n",
       "4  94459  2025-11-01T16:09:31+00:00   \n",
       "\n",
       "                                                text  views  forwards  replies  \n",
       "0  🌒 **Главные новости к вечеру **\\n\\n▪️ Правител...   4179         3      NaN  \n",
       "1  **Атомная подводная лодка «Хабаровск» спущена ...   8137        40      NaN  \n",
       "2  **Онлайн-банк Revolut начал блокировать счета ...  10314        81      NaN  \n",
       "3  ⭐️⭐️⭐️⭐️⭐️⭐️**Образование, ЖКХ, здравоохранени...  12698        42      NaN  \n",
       "4  Премьер-министр Венгрии Виктор Обран **назвал ...  12344        11      NaN  "
      ]
     },
     "execution_count": 6,
     "metadata": {},
     "output_type": "execute_result"
    }
   ],
   "source": [
    "df.head()"
   ]
  },
  {
   "cell_type": "code",
   "execution_count": 7,
   "metadata": {},
   "outputs": [
    {
     "name": "stdout",
     "output_type": "stream",
     "text": [
      "✓ Loaded kommersant with 1000 rows\n",
      "✓ Loaded rian_ru with 1000 rows\n",
      "✓ Loaded tass_agency with 1000 rows\n",
      "✓ Loaded d_code with 1000 rows\n",
      "✓ Loaded ENews112 with 1000 rows\n",
      "✓ Loaded aviadispet4er with 1000 rows\n",
      "✓ Loaded headlines_for_traders with 1000 rows\n",
      "✓ Loaded mosrutop with 1000 rows\n",
      "✓ Loaded rbc_news with 1000 rows\n",
      "\n",
      "Combined DataFrame shape: (9000, 7)\n",
      "Total rows: 9000\n",
      "Channels included: ['kommersant', 'rian_ru', 'tass_agency', 'd_code', 'ENews112', 'aviadispet4er', 'headlines_for_traders', 'mosrutop', 'rbc_news']\n",
      "\n",
      "First few rows of combined DataFrame:\n",
      "      id                       date  \\\n",
      "0  94463  2025-11-01T18:01:06+00:00   \n",
      "1  94462  2025-11-01T17:34:42+00:00   \n",
      "2  94461  2025-11-01T17:14:39+00:00   \n",
      "3  94460  2025-11-01T16:24:55+00:00   \n",
      "4  94459  2025-11-01T16:09:31+00:00   \n",
      "\n",
      "                                                text    views  forwards  \\\n",
      "0  🌒 **Главные новости к вечеру **\\n\\n▪️ Правител...   4179.0       3.0   \n",
      "1  **Атомная подводная лодка «Хабаровск» спущена ...   8137.0      40.0   \n",
      "2  **Онлайн-банк Revolut начал блокировать счета ...  10314.0      81.0   \n",
      "3  ⭐️⭐️⭐️⭐️⭐️⭐️**Образование, ЖКХ, здравоохранени...  12698.0      42.0   \n",
      "4  Премьер-министр Венгрии Виктор Обран **назвал ...  12344.0      11.0   \n",
      "\n",
      "   replies channel_short  \n",
      "0      NaN    kommersant  \n",
      "1      NaN    kommersant  \n",
      "2      NaN    kommersant  \n",
      "3      NaN    kommersant  \n",
      "4      NaN    kommersant  \n",
      "\n",
      "✓ Combined data saved to: ../data/all_channels_combined.csv\n"
     ]
    }
   ],
   "source": [
    "import os\n",
    "\n",
    "all_dfs = []\n",
    "\n",
    "# Loop through all sources and read each CSV file\n",
    "for source in sources:\n",
    "    data_path = f'{parsing_dir}/{source}.csv'\n",
    "    \n",
    "    # Check if file exists before reading\n",
    "    if os.path.exists(data_path):\n",
    "        df_temp = pd.read_csv(data_path)\n",
    "        \n",
    "        # Add channel short name column\n",
    "        df_temp['channel_short'] = source\n",
    "        \n",
    "        # Append to the list\n",
    "        all_dfs.append(df_temp)\n",
    "        print(f\"✓ Loaded {source} with {len(df_temp)} rows\")\n",
    "    else:\n",
    "        print(f\"✗ File not found: {data_path}\")\n",
    "\n",
    "# Combine all DataFrames into one\n",
    "if all_dfs:\n",
    "    combined_df = pd.concat(all_dfs, ignore_index=True)\n",
    "    \n",
    "    # Display the combined DataFrame info and first few rows\n",
    "    print(f\"\\nCombined DataFrame shape: {combined_df.shape}\")\n",
    "    print(f\"Total rows: {len(combined_df)}\")\n",
    "    print(f\"Channels included: {combined_df['channel_short'].unique().tolist()}\")\n",
    "    \n",
    "    print(\"\\nFirst few rows of combined DataFrame:\")\n",
    "    print(combined_df.head())\n",
    "    \n",
    "    # Optional: Save the combined DataFrame to a new CSV file\n",
    "    combined_df.to_csv(f'{parsing_dir}/all_channels_combined.csv', index=False)\n",
    "    print(f\"\\n✓ Combined data saved to: {parsing_dir}/all_channels_combined.csv\")\n",
    "else:\n",
    "    print(\"No data was loaded. Please check if the CSV files exist.\")"
   ]
  },
  {
   "cell_type": "code",
   "execution_count": 8,
   "metadata": {},
   "outputs": [],
   "source": [
    "df = combined_df"
   ]
  },
  {
   "cell_type": "code",
   "execution_count": 9,
   "metadata": {},
   "outputs": [],
   "source": [
    "df = df.sample(frac=1).reset_index(drop=True)\n"
   ]
  },
  {
   "cell_type": "code",
   "execution_count": 10,
   "metadata": {},
   "outputs": [
    {
     "data": {
      "text/html": [
       "<div>\n",
       "<style scoped>\n",
       "    .dataframe tbody tr th:only-of-type {\n",
       "        vertical-align: middle;\n",
       "    }\n",
       "\n",
       "    .dataframe tbody tr th {\n",
       "        vertical-align: top;\n",
       "    }\n",
       "\n",
       "    .dataframe thead th {\n",
       "        text-align: right;\n",
       "    }\n",
       "</style>\n",
       "<table border=\"1\" class=\"dataframe\">\n",
       "  <thead>\n",
       "    <tr style=\"text-align: right;\">\n",
       "      <th></th>\n",
       "      <th>id</th>\n",
       "      <th>date</th>\n",
       "      <th>text</th>\n",
       "      <th>views</th>\n",
       "      <th>forwards</th>\n",
       "      <th>replies</th>\n",
       "      <th>channel_short</th>\n",
       "    </tr>\n",
       "  </thead>\n",
       "  <tbody>\n",
       "    <tr>\n",
       "      <th>0</th>\n",
       "      <td>24148</td>\n",
       "      <td>2025-10-31T21:54:26+00:00</td>\n",
       "      <td>🎃 **Бу-у-у-у-у-у-у**\\n\\nНовые коллекционные по...</td>\n",
       "      <td>43147.0</td>\n",
       "      <td>68.0</td>\n",
       "      <td>110.0</td>\n",
       "      <td>d_code</td>\n",
       "    </tr>\n",
       "    <tr>\n",
       "      <th>1</th>\n",
       "      <td>134680</td>\n",
       "      <td>2025-10-30T17:20:55+00:00</td>\n",
       "      <td>Более 1 тыс. артефактов [исчезло](https://www....</td>\n",
       "      <td>109582.0</td>\n",
       "      <td>127.0</td>\n",
       "      <td>NaN</td>\n",
       "      <td>rbc_news</td>\n",
       "    </tr>\n",
       "    <tr>\n",
       "      <th>2</th>\n",
       "      <td>23355</td>\n",
       "      <td>2025-08-13T20:50:11+00:00</td>\n",
       "      <td>⚡️** «Это вопрос национальной безопасности»**\\...</td>\n",
       "      <td>44366.0</td>\n",
       "      <td>122.0</td>\n",
       "      <td>68.0</td>\n",
       "      <td>d_code</td>\n",
       "    </tr>\n",
       "    <tr>\n",
       "      <th>3</th>\n",
       "      <td>23227</td>\n",
       "      <td>2025-07-31T15:08:19+00:00</td>\n",
       "      <td>🤗 **Затарился Звёздочками**\\n\\nПавел Дуров еди...</td>\n",
       "      <td>41547.0</td>\n",
       "      <td>105.0</td>\n",
       "      <td>79.0</td>\n",
       "      <td>d_code</td>\n",
       "    </tr>\n",
       "    <tr>\n",
       "      <th>4</th>\n",
       "      <td>134098</td>\n",
       "      <td>2025-10-23T09:16:16+00:00</td>\n",
       "      <td>**Пекин **[**выразил протест**](https://www.rb...</td>\n",
       "      <td>109100.0</td>\n",
       "      <td>134.0</td>\n",
       "      <td>NaN</td>\n",
       "      <td>rbc_news</td>\n",
       "    </tr>\n",
       "    <tr>\n",
       "      <th>5</th>\n",
       "      <td>324815</td>\n",
       "      <td>2025-10-31T13:42:28+00:00</td>\n",
       "      <td>ВТБ расширил возможности \"семейного банка\": те...</td>\n",
       "      <td>486927.0</td>\n",
       "      <td>722.0</td>\n",
       "      <td>NaN</td>\n",
       "      <td>rian_ru</td>\n",
       "    </tr>\n",
       "    <tr>\n",
       "      <th>6</th>\n",
       "      <td>93680</td>\n",
       "      <td>2025-10-23T06:25:04+00:00</td>\n",
       "      <td>❗️ Уголовное дело о нарушении требований промы...</td>\n",
       "      <td>26547.0</td>\n",
       "      <td>22.0</td>\n",
       "      <td>NaN</td>\n",
       "      <td>kommersant</td>\n",
       "    </tr>\n",
       "  </tbody>\n",
       "</table>\n",
       "</div>"
      ],
      "text/plain": [
       "       id                       date  \\\n",
       "0   24148  2025-10-31T21:54:26+00:00   \n",
       "1  134680  2025-10-30T17:20:55+00:00   \n",
       "2   23355  2025-08-13T20:50:11+00:00   \n",
       "3   23227  2025-07-31T15:08:19+00:00   \n",
       "4  134098  2025-10-23T09:16:16+00:00   \n",
       "5  324815  2025-10-31T13:42:28+00:00   \n",
       "6   93680  2025-10-23T06:25:04+00:00   \n",
       "\n",
       "                                                text     views  forwards  \\\n",
       "0  🎃 **Бу-у-у-у-у-у-у**\\n\\nНовые коллекционные по...   43147.0      68.0   \n",
       "1  Более 1 тыс. артефактов [исчезло](https://www....  109582.0     127.0   \n",
       "2  ⚡️** «Это вопрос национальной безопасности»**\\...   44366.0     122.0   \n",
       "3  🤗 **Затарился Звёздочками**\\n\\nПавел Дуров еди...   41547.0     105.0   \n",
       "4  **Пекин **[**выразил протест**](https://www.rb...  109100.0     134.0   \n",
       "5  ВТБ расширил возможности \"семейного банка\": те...  486927.0     722.0   \n",
       "6  ❗️ Уголовное дело о нарушении требований промы...   26547.0      22.0   \n",
       "\n",
       "   replies channel_short  \n",
       "0    110.0        d_code  \n",
       "1      NaN      rbc_news  \n",
       "2     68.0        d_code  \n",
       "3     79.0        d_code  \n",
       "4      NaN      rbc_news  \n",
       "5      NaN       rian_ru  \n",
       "6      NaN    kommersant  "
      ]
     },
     "execution_count": 10,
     "metadata": {},
     "output_type": "execute_result"
    }
   ],
   "source": [
    "df.head(7)"
   ]
  },
  {
   "cell_type": "code",
   "execution_count": 11,
   "metadata": {},
   "outputs": [
    {
     "name": "stdout",
     "output_type": "stream",
     "text": [
      "🎃 **Бу-у-у-у-у-у-у**\n",
      "\n",
      "Новые коллекционные подарки Telegram в честь Хэллоуина.\n",
      "\n",
      "💻  [**Подписаться**](https://t.me/d_code)\n",
      "Более 1 тыс. артефактов [исчезло](https://www.rbc.ru/rbcfreenews/690379619a79475bead09714?utm_source=telegram&utm_medium=messenger&utm_campaign=rbc_news&utm_content=690379619a79475bead09714) после кражи со взломом в Оклендском музее в Калифорнии, сообщила полиция города, передает The Oakland Side.\n",
      "\n",
      "Инцидент произошел в середине октября. Преступники проникли в хранилище музея за пределами основного здания. Они похитили разные предметы, в том числе ювелирные изделия, корзины коренных американцев и дагерротипы.\n",
      "\n",
      "На момент кражи в хранилище не было сотрудников, хотя в здании работали камеры видеонаблюдения и сигнализация, сообщила исполнительный директор музея Лори Фогарти.\n",
      "\n",
      "Сотрудники музея определяют общую стоимость украденных артефактов. Коллекция культурного учреждения, насчитывающая более 2 млн артефактов, принадлежит Окленду.\n",
      "\n",
      "Это не первый случай ограбления Оклендского музея. В конце 2012 года и в начале 2013 года музей дважды подвергался ограблению. Одним из виновных признали Андре Тэйра Франклина, которого приговорили в 2014 году к четырем годам тюремного заключения за продажу шкатулки для драгоценностей эпохи Золотой лихорадки стоимостью $800 тыс., а также других предметов, украденных из музея.\n",
      "\n",
      "__Фото: Oakland Museum of California__\n",
      "\n",
      "🐚 [Картина дня — в телеграм-канале РБК](https://t.me/+zg-Fowhl7vk5OGEy)\n",
      "⚡️** «Это вопрос национальной безопасности»**\n",
      "\n",
      "Telegram и WhatsApp* **позволяют преступникам действовать анонимно**, «используя поддельные аккаунты, интернет-звонки и схемы социальной инженерии». \n",
      "\n",
      "Эти платформы «используют как инструмент давления, обмана и радикализации» — **«нужен системный ответ»**.\n",
      "\n",
      "Член Комитета Госдумы по информполитике Антон Немкин подробно описал проблематику Telegram и WhatsApp*:\n",
      "\n",
      "↖️ https://kod.ru/nemkin-pro-inostrannye-messengery\n",
      "\n",
      "__* принадлежит Metа, признанной экстремистской организацией и запрещённой в РФ__\n",
      "🤗 **Затарился Звёздочками**\n",
      "\n",
      "Павел Дуров единовременно купил для своего аккаунта в Telegram 1 000 000 Звёзд, следует из данных одного из его TON-кошельков. \n",
      "\n",
      "Это порядка **15 000 долларов** или **1 200 000 рублей**.\n",
      "\n",
      "💘 Недавно «Код Дурова» заявил, что глава Telegram[ тратит десятки тысяч долларов](https://kod.ru/durov-gifts-purchases) на покупку подарков с вторичного рынка, однако сегодняшнее приобретение Звёзд может быть связано не с этим.\n",
      "\n",
      "💘 Как известно, Telegram готовит глобальные нововведения, в рамках которых у пользователей появится свой рейтинг. Он и будет зависеть как раз от активности со Звёздами.\n",
      "\n",
      "Как это будет работать и выглядеть, узнайте по ссылке:\n",
      "\n",
      "↖️ https://kod.ru/rating-gifts-ton-search-posts-telegram\n",
      "**Пекин **[**выразил протест**](https://www.rbc.ru/politics/23/10/2025/68f9da1d9a79475cb2cd06ed?utm_source=telegram&utm_medium=messenger&utm_campaign=rbc_news&utm_content=68f9da1d9a79475cb2cd06ed)** в связи с включением китайских компаний в 19-й пакет санкций Евросоюза против России,** заявил официальный представитель китайского МИД Го Цзякунь, его слова приводит портал Yicai.\n",
      "\n",
      "«Мы неоднократно подчеркивали, что Китай не является зачинщиком украинского кризиса и тем более не является его участником», — заявил дипломат.\n",
      "\n",
      "Го Цзякунь добавил, что Китай всегда был привержен посредничеству и содействию переговорам по Украине. А также Пекин никогда не поставлял оружие ни одной из сторон конфликта и строго контролируем экспорт товаров двойного назначения.\n",
      "\n",
      "Россия считает европейские санкции незаконными. В Кремле неоднократно заявляли, что с Москвой нельзя разговаривать на «языке ультиматумов».\n",
      "\n",
      "🐚 [Самые важные новости — в телеграм-канале РБК](https://t.me/+anIdaYJcL-hkZWVi)\n",
      "ВТБ расширил возможности \"семейного банка\": теперь его участники могут получать доход 7% на остаток в семейных счетах для трат. \n",
      "\n",
      "\"Проценты будут начисляться ежедневно и выплачиваться в последний день месяца\", - сообщил банк.  \n",
      "\n",
      "Семейные счета для трат позволяют нескольким участникам использовать один баланс для повседневных расходов. Все члены семьи могут оплачивать покупки и управлять средствами, а владелец счета может устанавливать лимиты.\n",
      "\n",
      "🔹 [Подписаться на РИА Новости](https://t.me/rian_ru)\n",
      "❗️ Уголовное дело о нарушении требований промышленной безопасности возбуждено после взрыва на предприятии в Копейске Челябинской области. Об этом сообщает СКР.\n",
      "\n",
      "«В результате инцидента имеются погибшие и пострадавшие, точное количество устанавливается»,— отмечается в пресс-релизе ведомства.\n",
      "\n",
      "@kommersant\n"
     ]
    }
   ],
   "source": [
    "for string in df[\"text\"].head(7):\n",
    "    print(string)"
   ]
  },
  {
   "cell_type": "code",
   "execution_count": 12,
   "metadata": {},
   "outputs": [],
   "source": [
    "import re\n",
    "import pandas as pd\n",
    "\n",
    "def clean_telegram_text(text, remove_links=True, remove_formatting=True, remove_emoji=True, remove_mentions=True, remove_hashtags=False):\n",
    "    \"\"\"\n",
    "    Очищает текст Telegram сообщения от Markdown разметки и других элементов\n",
    "    \n",
    "    Параметры:\n",
    "    text (str): исходный текст\n",
    "    remove_links (bool): удалять ли ссылки\n",
    "    remove_formatting (bool): удалять ли Markdown форматирование (жирный, курсив и т.д.)\n",
    "    remove_emoji (bool): удалять ли эмодзи\n",
    "    remove_mentions (bool): удалять ли упоминания (@username)\n",
    "    remove_hashtags (bool): удалять ли хэштеги\n",
    "    \n",
    "    Возвращает:\n",
    "    str: очищенный текст\n",
    "    \"\"\"\n",
    "    if not isinstance(text, str):\n",
    "        return text\n",
    "    \n",
    "    cleaned_text = text\n",
    "    \n",
    "    # Удаление ссылок [текст](URL) -> текст\n",
    "    if remove_links:\n",
    "        cleaned_text = re.sub(r'\\[([^\\]]+)\\]\\([^)]+\\)', r'\\1', cleaned_text)\n",
    "    \n",
    "    # Удаление Markdown форматирования\n",
    "    if remove_formatting:\n",
    "        # Жирный текст **текст** -> текст\n",
    "        cleaned_text = re.sub(r'\\*\\*([^*]+)\\*\\*', r'\\1', cleaned_text)\n",
    "        # Курсив *текст* -> текст\n",
    "        cleaned_text = re.sub(r'\\*([^*]+)\\*', r'\\1', cleaned_text)\n",
    "        # Курсив _текст_ -> текст\n",
    "        cleaned_text = re.sub(r'_([^_]+)_', r'\\1', cleaned_text)\n",
    "        # Подчеркивание __текст__ -> текст\n",
    "        cleaned_text = re.sub(r'__([^_]+)__', r'\\1', cleaned_text)\n",
    "        # Зачеркивание ~~текст~~ -> текст\n",
    "        cleaned_text = re.sub(r'~~([^~]+)~~', r'\\1', cleaned_text)\n",
    "        # Код `код` -> код\n",
    "        cleaned_text = re.sub(r'`([^`]+)`', r'\\1', cleaned_text)\n",
    "    \n",
    "    # Удаление эмодзи и специальных символов\n",
    "    if remove_emoji:\n",
    "        # Паттерн для эмодзи и специальных символов\n",
    "        emoji_pattern = re.compile(\n",
    "            \"[\"\n",
    "            u\"\\U0001F600-\\U0001F64F\"  # эмоции\n",
    "            u\"\\U0001F300-\\U0001F5FF\"  # символы и пиктограммы\n",
    "            u\"\\U0001F680-\\U0001F6FF\"  # транспорт и карты\n",
    "            u\"\\U0001F1E0-\\U0001F1FF\"  # флаги\n",
    "            u\"\\U00002500-\\U00002BEF\"  # различные символы\n",
    "            u\"\\U00002702-\\U000027B0\"\n",
    "            u\"\\U000024C2-\\U0001F251\"\n",
    "            u\"\\U0001f926-\\U0001f937\"\n",
    "            u\"\\U00010000-\\U0010ffff\"\n",
    "            u\"\\u2640-\\u2642\" \n",
    "            u\"\\u2600-\\u2B55\"\n",
    "            u\"\\u200d\"\n",
    "            u\"\\u23cf\"\n",
    "            u\"\\u23e9\"\n",
    "            u\"\\u231a\"\n",
    "            u\"\\ufe0f\"  # вариационные селекторы\n",
    "            u\"\\u3030\"\n",
    "            \"]+\", flags=re.UNICODE)\n",
    "        cleaned_text = emoji_pattern.sub(r'', cleaned_text)\n",
    "    \n",
    "    # Удаление упоминаний\n",
    "    if remove_mentions:\n",
    "        cleaned_text = re.sub(r'@\\w+', '', cleaned_text)\n",
    "    \n",
    "    # Удаление хэштегов\n",
    "    if remove_hashtags:\n",
    "        cleaned_text = re.sub(r'#\\w+', '', cleaned_text)\n",
    "    \n",
    "    # Удаление лишних пробелов и переносов строк\n",
    "    cleaned_text = re.sub(r'\\s+', ' ', cleaned_text)\n",
    "    cleaned_text = cleaned_text.strip()\n",
    "    \n",
    "    return cleaned_text\n",
    "\n",
    "# Применение функции к DataFrame\n",
    "def apply_text_cleaning(df, text_column='text', **kwargs):\n",
    "    \"\"\"\n",
    "    Применяет очистку текста к указанному столбцу DataFrame\n",
    "    \n",
    "    Параметры:\n",
    "    df (pd.DataFrame): исходный DataFrame\n",
    "    text_column (str): название столбца с текстом\n",
    "    **kwargs: параметры для функции clean_telegram_text\n",
    "    \n",
    "    Возвращает:\n",
    "    pd.DataFrame: DataFrame с очищенным текстом\n",
    "    \"\"\"\n",
    "    df_cleaned = df.copy()\n",
    "    df_cleaned[f'{text_column}_cleaned'] = df_cleaned[text_column].apply(\n",
    "        lambda x: clean_telegram_text(x, **kwargs)\n",
    "    )\n",
    "    return df_cleaned"
   ]
  },
  {
   "cell_type": "code",
   "execution_count": 13,
   "metadata": {},
   "outputs": [],
   "source": [
    "df = apply_text_cleaning(df)"
   ]
  },
  {
   "cell_type": "code",
   "execution_count": 14,
   "metadata": {},
   "outputs": [
    {
     "data": {
      "text/html": [
       "<div>\n",
       "<style scoped>\n",
       "    .dataframe tbody tr th:only-of-type {\n",
       "        vertical-align: middle;\n",
       "    }\n",
       "\n",
       "    .dataframe tbody tr th {\n",
       "        vertical-align: top;\n",
       "    }\n",
       "\n",
       "    .dataframe thead th {\n",
       "        text-align: right;\n",
       "    }\n",
       "</style>\n",
       "<table border=\"1\" class=\"dataframe\">\n",
       "  <thead>\n",
       "    <tr style=\"text-align: right;\">\n",
       "      <th></th>\n",
       "      <th>id</th>\n",
       "      <th>date</th>\n",
       "      <th>text</th>\n",
       "      <th>views</th>\n",
       "      <th>forwards</th>\n",
       "      <th>replies</th>\n",
       "      <th>channel_short</th>\n",
       "      <th>text_cleaned</th>\n",
       "    </tr>\n",
       "  </thead>\n",
       "  <tbody>\n",
       "    <tr>\n",
       "      <th>0</th>\n",
       "      <td>24148</td>\n",
       "      <td>2025-10-31T21:54:26+00:00</td>\n",
       "      <td>🎃 **Бу-у-у-у-у-у-у**\\n\\nНовые коллекционные по...</td>\n",
       "      <td>43147.0</td>\n",
       "      <td>68.0</td>\n",
       "      <td>110.0</td>\n",
       "      <td>d_code</td>\n",
       "      <td>Бу-у-у-у-у-у-у Новые коллекционные подарки Tel...</td>\n",
       "    </tr>\n",
       "    <tr>\n",
       "      <th>1</th>\n",
       "      <td>134680</td>\n",
       "      <td>2025-10-30T17:20:55+00:00</td>\n",
       "      <td>Более 1 тыс. артефактов [исчезло](https://www....</td>\n",
       "      <td>109582.0</td>\n",
       "      <td>127.0</td>\n",
       "      <td>NaN</td>\n",
       "      <td>rbc_news</td>\n",
       "      <td>Более 1 тыс. артефактов исчезло после кражи со...</td>\n",
       "    </tr>\n",
       "    <tr>\n",
       "      <th>2</th>\n",
       "      <td>23355</td>\n",
       "      <td>2025-08-13T20:50:11+00:00</td>\n",
       "      <td>⚡️** «Это вопрос национальной безопасности»**\\...</td>\n",
       "      <td>44366.0</td>\n",
       "      <td>122.0</td>\n",
       "      <td>68.0</td>\n",
       "      <td>d_code</td>\n",
       "      <td>«Это вопрос национальной безопасности» Telegra...</td>\n",
       "    </tr>\n",
       "    <tr>\n",
       "      <th>3</th>\n",
       "      <td>23227</td>\n",
       "      <td>2025-07-31T15:08:19+00:00</td>\n",
       "      <td>🤗 **Затарился Звёздочками**\\n\\nПавел Дуров еди...</td>\n",
       "      <td>41547.0</td>\n",
       "      <td>105.0</td>\n",
       "      <td>79.0</td>\n",
       "      <td>d_code</td>\n",
       "      <td>Затарился Звёздочками Павел Дуров единовременн...</td>\n",
       "    </tr>\n",
       "    <tr>\n",
       "      <th>4</th>\n",
       "      <td>134098</td>\n",
       "      <td>2025-10-23T09:16:16+00:00</td>\n",
       "      <td>**Пекин **[**выразил протест**](https://www.rb...</td>\n",
       "      <td>109100.0</td>\n",
       "      <td>134.0</td>\n",
       "      <td>NaN</td>\n",
       "      <td>rbc_news</td>\n",
       "      <td>Пекин выразил протест в связи с включением кит...</td>\n",
       "    </tr>\n",
       "  </tbody>\n",
       "</table>\n",
       "</div>"
      ],
      "text/plain": [
       "       id                       date  \\\n",
       "0   24148  2025-10-31T21:54:26+00:00   \n",
       "1  134680  2025-10-30T17:20:55+00:00   \n",
       "2   23355  2025-08-13T20:50:11+00:00   \n",
       "3   23227  2025-07-31T15:08:19+00:00   \n",
       "4  134098  2025-10-23T09:16:16+00:00   \n",
       "\n",
       "                                                text     views  forwards  \\\n",
       "0  🎃 **Бу-у-у-у-у-у-у**\\n\\nНовые коллекционные по...   43147.0      68.0   \n",
       "1  Более 1 тыс. артефактов [исчезло](https://www....  109582.0     127.0   \n",
       "2  ⚡️** «Это вопрос национальной безопасности»**\\...   44366.0     122.0   \n",
       "3  🤗 **Затарился Звёздочками**\\n\\nПавел Дуров еди...   41547.0     105.0   \n",
       "4  **Пекин **[**выразил протест**](https://www.rb...  109100.0     134.0   \n",
       "\n",
       "   replies channel_short                                       text_cleaned  \n",
       "0    110.0        d_code  Бу-у-у-у-у-у-у Новые коллекционные подарки Tel...  \n",
       "1      NaN      rbc_news  Более 1 тыс. артефактов исчезло после кражи со...  \n",
       "2     68.0        d_code  «Это вопрос национальной безопасности» Telegra...  \n",
       "3     79.0        d_code  Затарился Звёздочками Павел Дуров единовременн...  \n",
       "4      NaN      rbc_news  Пекин выразил протест в связи с включением кит...  "
      ]
     },
     "execution_count": 14,
     "metadata": {},
     "output_type": "execute_result"
    }
   ],
   "source": [
    "df.head()"
   ]
  },
  {
   "cell_type": "code",
   "execution_count": 15,
   "metadata": {},
   "outputs": [
    {
     "name": "stdout",
     "output_type": "stream",
     "text": [
      "Бу-у-у-у-у-у-у Новые коллекционные подарки Telegram в честь Хэллоуина. Подписаться\n",
      "Более 1 тыс. артефактов исчезло после кражи со взломом в Оклендском музее в Калифорнии, сообщила полиция города, передает The Oakland Side. Инцидент произошел в середине октября. Преступники проникли в хранилище музея за пределами основного здания. Они похитили разные предметы, в том числе ювелирные изделия, корзины коренных американцев и дагерротипы. На момент кражи в хранилище не было сотрудников, хотя в здании работали камеры видеонаблюдения и сигнализация, сообщила исполнительный директор музея Лори Фогарти. Сотрудники музея определяют общую стоимость украденных артефактов. Коллекция культурного учреждения, насчитывающая более 2 млн артефактов, принадлежит Окленду. Это не первый случай ограбления Оклендского музея. В конце 2012 года и в начале 2013 года музей дважды подвергался ограблению. Одним из виновных признали Андре Тэйра Франклина, которого приговорили в 2014 году к четырем годам тюремного заключения за продажу шкатулки для драгоценностей эпохи Золотой лихорадки стоимостью $800 тыс., а также других предметов, украденных из музея. _Фото: Oakland Museum of California_ Картина дня — в телеграм-канале РБК\n",
      "«Это вопрос национальной безопасности» Telegram и WhatsApp позволяют преступникам действовать анонимно, «используя поддельные аккаунты, интернет-звонки и схемы социальной инженерии». Эти платформы «используют как инструмент давления, обмана и радикализации» — «нужен системный ответ». Член Комитета Госдумы по информполитике Антон Немкин подробно описал проблематику Telegram и WhatsApp: ↖ https://kod.ru/nemkin-pro-inostrannye-messengery _* принадлежит Metа, признанной экстремистской организацией и запрещённой в РФ_\n",
      "Затарился Звёздочками Павел Дуров единовременно купил для своего аккаунта в Telegram 1 000 000 Звёзд, следует из данных одного из его TON-кошельков. Это порядка 15 000 долларов или 1 200 000 рублей. Недавно «Код Дурова» заявил, что глава Telegram тратит десятки тысяч долларов на покупку подарков с вторичного рынка, однако сегодняшнее приобретение Звёзд может быть связано не с этим. Как известно, Telegram готовит глобальные нововведения, в рамках которых у пользователей появится свой рейтинг. Он и будет зависеть как раз от активности со Звёздами. Как это будет работать и выглядеть, узнайте по ссылке: ↖ https://kod.ru/rating-gifts-ton-search-posts-telegram\n",
      "Пекин выразил протест в связи с включением китайских компаний в 19-й пакет санкций Евросоюза против России, заявил официальный представитель китайского МИД Го Цзякунь, его слова приводит портал Yicai. «Мы неоднократно подчеркивали, что Китай не является зачинщиком украинского кризиса и тем более не является его участником», — заявил дипломат. Го Цзякунь добавил, что Китай всегда был привержен посредничеству и содействию переговорам по Украине. А также Пекин никогда не поставлял оружие ни одной из сторон конфликта и строго контролируем экспорт товаров двойного назначения. Россия считает европейские санкции незаконными. В Кремле неоднократно заявляли, что с Москвой нельзя разговаривать на «языке ультиматумов». Самые важные новости — в телеграм-канале РБК\n",
      "ВТБ расширил возможности \"семейного банка\": теперь его участники могут получать доход 7% на остаток в семейных счетах для трат. \"Проценты будут начисляться ежедневно и выплачиваться в последний день месяца\", - сообщил банк. Семейные счета для трат позволяют нескольким участникам использовать один баланс для повседневных расходов. Все члены семьи могут оплачивать покупки и управлять средствами, а владелец счета может устанавливать лимиты. Подписаться на РИА Новости\n",
      "Уголовное дело о нарушении требований промышленной безопасности возбуждено после взрыва на предприятии в Копейске Челябинской области. Об этом сообщает СКР. «В результате инцидента имеются погибшие и пострадавшие, точное количество устанавливается»,— отмечается в пресс-релизе ведомства.\n"
     ]
    }
   ],
   "source": [
    "for string in df[\"text_cleaned\"].head(7):\n",
    "    print(string)"
   ]
  },
  {
   "cell_type": "markdown",
   "metadata": {},
   "source": [
    "## 1. Подготовка"
   ]
  },
  {
   "cell_type": "code",
   "execution_count": 16,
   "metadata": {},
   "outputs": [
    {
     "name": "stderr",
     "output_type": "stream",
     "text": [
      "/home/sergio/Desktop/HSE/aggregator-bot/EDA/.venv/lib/python3.12/site-packages/pymorphy2/analyzer.py:114: UserWarning: pkg_resources is deprecated as an API. See https://setuptools.pypa.io/en/latest/pkg_resources.html. The pkg_resources package is slated for removal as early as 2025-11-30. Refrain from using this package or pin to Setuptools<81.\n",
      "  import pkg_resources\n"
     ]
    },
    {
     "name": "stdout",
     "output_type": "stream",
     "text": [
      "{'есть', 'да', 'если', 'между', 'тут', 'ним', 'хоть', 'себя', 'бы', 'тоже', 'моя', 'всего', 'том', 'до', 'лучше', 'этот', 'как', 'много', 'но', 'них', 'мы', 'за', 'когда', 'где', 'при', 'всегда', 'уж', 'куда', 'без', 'зачем', 'ни', 'мой', 'себе', 'всех', 'была', 'так', 'вы', 'по', 'два', 'или', 'впрочем', 'ничего', 'того', 'уже', 'даже', 'об', 'наконец', 'разве', 'она', 'этой', 'со', 'ей', 'никогда', 'ему', 'с', 'другой', 'надо', 'только', 'может', 'то', 'ты', 'нет', 'сейчас', 'над', 'всю', 'к', 'он', 'вас', 'же', 'будет', 'один', 'нее', 'нибудь', 'во', 'на', 'чтобы', 'такой', 'и', 'совсем', 'свою', 'про', 'меня', 'тот', 'ней', 'будто', 'опять', 'иногда', 'какая', 'конечно', 'почти', 'сам', 'эту', 'перед', 'был', 'ведь', 'потом', 'я', 'тем', 'чем', 'этом', 'мне', 'нас', 'а', 'хорошо', 'более', 'его', 'какой', 'их', 'тогда', 'под', 'было', 'чуть', 'эти', 'быть', 'все', 'раз', 'вдруг', 'для', 'о', 'чтоб', 'теперь', 'этого', 'чего', 'там', 'кто', 'него', 'после', 'что', 'здесь', 'нельзя', 'у', 'были', 'они', 'больше', 'ее', 'потому', 'три', 'из', 'ну', 'не', 'вот', 'в', 'еще', 'ли', 'через', 'им', 'вам', 'от', 'тебя', 'ж', 'можно'}\n"
     ]
    },
    {
     "name": "stderr",
     "output_type": "stream",
     "text": [
      "[nltk_data] Downloading package punkt to /home/sergio/nltk_data...\n",
      "[nltk_data]   Package punkt is already up-to-date!\n",
      "[nltk_data] Downloading package stopwords to /home/sergio/nltk_data...\n",
      "[nltk_data]   Package stopwords is already up-to-date!\n"
     ]
    }
   ],
   "source": [
    "import pandas as pd\n",
    "import numpy as np\n",
    "import matplotlib.pyplot as plt\n",
    "import seaborn as sns\n",
    "from wordcloud import WordCloud\n",
    "import re\n",
    "from collections import Counter\n",
    "import nltk\n",
    "from nltk.tokenize import word_tokenize, sent_tokenize\n",
    "from nltk.corpus import stopwords\n",
    "from sklearn.feature_extraction.text import TfidfVectorizer, CountVectorizer\n",
    "from natasha import (\n",
    "    Segmenter,\n",
    "    MorphVocab,\n",
    "    NewsEmbedding,\n",
    "    NewsMorphTagger,\n",
    "    NewsSyntaxParser,\n",
    "    NewsNERTagger,\n",
    "    Doc,\n",
    "    NamesExtractor\n",
    ")\n",
    "import plotly.express as px\n",
    "import plotly.graph_objects as go\n",
    "from plotly.subplots import make_subplots\n",
    "\n",
    "# Инициализация компонентов Natasha\n",
    "segmenter = Segmenter()\n",
    "morph_vocab = MorphVocab()\n",
    "emb = NewsEmbedding()\n",
    "morph_tagger = NewsMorphTagger(emb)\n",
    "syntax_parser = NewsSyntaxParser(emb)\n",
    "ner_tagger = NewsNERTagger(emb)\n",
    "names_extractor = NamesExtractor(morph_vocab)\n",
    "\n",
    "# Для русского языка\n",
    "try:\n",
    "    nltk.download('punkt')\n",
    "    nltk.download('stopwords')\n",
    "except:\n",
    "    pass\n",
    "\n",
    "russian_stopwords = set(stopwords.words('russian'))\n",
    "print(russian_stopwords)\n"
   ]
  },
  {
   "cell_type": "code",
   "execution_count": 17,
   "metadata": {},
   "outputs": [],
   "source": [
    "# Инициализация компонентов Natasha\n",
    "segmenter = Segmenter()\n",
    "morph_vocab = MorphVocab()\n",
    "emb = NewsEmbedding()\n",
    "morph_tagger = NewsMorphTagger(emb)\n",
    "syntax_parser = NewsSyntaxParser(emb)\n",
    "ner_tagger = NewsNERTagger(emb)\n",
    "names_extractor = NamesExtractor(morph_vocab)\n",
    "\n",
    "# Простая функция для токенизации предложений на русском\n",
    "def russian_sent_tokenize(text):\n",
    "    \"\"\"Простая токенизация предложений для русского языка\"\"\"\n",
    "    # Разделяем по точкам, восклицательным и вопросительным знакам\n",
    "    sentences = re.split(r'[.!?]+', text)\n",
    "    # Убираем пустые строки и обрезаем пробелы\n",
    "    sentences = [s.strip() for s in sentences if s.strip()]\n",
    "    return sentences"
   ]
  },
  {
   "cell_type": "markdown",
   "metadata": {},
   "source": [
    "## 2. Базовая статистика"
   ]
  },
  {
   "cell_type": "code",
   "execution_count": 18,
   "metadata": {},
   "outputs": [
    {
     "name": "stdout",
     "output_type": "stream",
     "text": [
      "📊 БАЗОВАЯ СТАТИСТИКА ТЕКСТА:\n",
      "total_documents: 7325\n",
      "total_characters: 3192467\n",
      "total_words: 435301\n",
      "total_sentences: 36152\n",
      "avg_chars_per_doc: 435.83\n",
      "avg_words_per_doc: 59.43\n",
      "avg_sentences_per_doc: 4.94\n",
      "avg_words_per_sentence: 12.04\n",
      "max_chars: 4064\n",
      "max_words: 582\n",
      "min_chars: 0\n",
      "min_words: 0\n"
     ]
    }
   ],
   "source": [
    "def basic_text_statistics(df, text_column='text_cleaned'):\n",
    "    \"\"\"Расширенная статистика текста\"\"\"\n",
    "    stats = {}\n",
    "    \n",
    "    df = df.dropna(subset=[text_column])\n",
    "    texts = df[text_column].astype(str)\n",
    "    \n",
    "    stats['total_documents'] = len(texts)\n",
    "    stats['total_characters'] = texts.str.len().sum()\n",
    "    stats['total_words'] = texts.str.split().str.len().sum()\n",
    "    \n",
    "    # Используем нашу функцию для токенизации предложений\n",
    "    stats['total_sentences'] = texts.apply(lambda x: len(russian_sent_tokenize(x))).sum()\n",
    "    \n",
    "    char_lengths = texts.str.len()\n",
    "    word_counts = texts.str.split().str.len()\n",
    "    sentence_counts = texts.apply(lambda x: len(russian_sent_tokenize(x)))\n",
    "    \n",
    "    stats.update({\n",
    "        'avg_chars_per_doc': char_lengths.mean(),\n",
    "        'avg_words_per_doc': word_counts.mean(),\n",
    "        'avg_sentences_per_doc': sentence_counts.mean(),\n",
    "        'avg_words_per_sentence': stats['total_words'] / stats['total_sentences'] if stats['total_sentences'] > 0 else 0,\n",
    "        'max_chars': char_lengths.max(),\n",
    "        'max_words': word_counts.max(),\n",
    "        'min_chars': char_lengths.min(),\n",
    "        'min_words': word_counts.min()\n",
    "    })\n",
    "    \n",
    "    return stats, char_lengths, word_counts, sentence_counts\n",
    "\n",
    "# Применяем функцию\n",
    "stats, char_lengths, word_counts, sentence_counts = basic_text_statistics(df)\n",
    "\n",
    "print(\"📊 БАЗОВАЯ СТАТИСТИКА ТЕКСТА:\")\n",
    "for key, value in stats.items():\n",
    "    print(f\"{key}: {value:.2f}\" if isinstance(value, float) else f\"{key}: {value}\")"
   ]
  },
  {
   "cell_type": "markdown",
   "metadata": {},
   "source": [
    "## 3. Визуализация распределения длин"
   ]
  },
  {
   "cell_type": "code",
   "execution_count": 19,
   "metadata": {},
   "outputs": [
    {
     "data": {
      "application/vnd.plotly.v1+json": {
       "config": {
        "plotlyServerURL": "https://plot.ly"
       },
       "data": [
        {
         "name": "Символы",
         "nbinsx": 50,
         "type": "histogram",
         "x": {
          "bdata": "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",
          "dtype": "i2"
         },
         "xaxis": "x",
         "yaxis": "y"
        },
        {
         "name": "Слова",
         "nbinsx": 50,
         "type": "histogram",
         "x": {
          "bdata": "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",
          "dtype": "i2"
         },
         "xaxis": "x2",
         "yaxis": "y2"
        },
        {
         "name": "Предложения",
         "nbinsx": 50,
         "type": "histogram",
         "x": {
          "bdata": "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",
          "dtype": "i1"
         },
         "xaxis": "x3",
         "yaxis": "y3"
        },
        {
         "domain": {
          "x": [
           0.55,
           1
          ],
          "y": [
           0,
           0.375
          ]
         },
         "labels": [
          "Очень короткие (<50)",
          "Короткие (50-200)",
          "Средние (200-500)",
          "Длинные (500-1000)",
          "Очень длинные (>1000)"
         ],
         "name": "Категории длины",
         "type": "pie",
         "values": {
          "bdata": "XBCTC6gABQAAAA==",
          "dtype": "i2"
         }
        }
       ],
       "layout": {
        "annotations": [
         {
          "font": {
           "size": 16
          },
          "showarrow": false,
          "text": "Распределение длины в символах",
          "x": 0.225,
          "xanchor": "center",
          "xref": "paper",
          "y": 1,
          "yanchor": "bottom",
          "yref": "paper"
         },
         {
          "font": {
           "size": 16
          },
          "showarrow": false,
          "text": "Распределение количества слов",
          "x": 0.775,
          "xanchor": "center",
          "xref": "paper",
          "y": 1,
          "yanchor": "bottom",
          "yref": "paper"
         },
         {
          "font": {
           "size": 16
          },
          "showarrow": false,
          "text": "Распределение количества предложений",
          "x": 0.225,
          "xanchor": "center",
          "xref": "paper",
          "y": 0.375,
          "yanchor": "bottom",
          "yref": "paper"
         },
         {
          "font": {
           "size": 16
          },
          "showarrow": false,
          "text": "Соотношение длины текстов",
          "x": 0.775,
          "xanchor": "center",
          "xref": "paper",
          "y": 0.375,
          "yanchor": "bottom",
          "yref": "paper"
         }
        ],
        "height": 800,
        "template": {
         "data": {
          "bar": [
           {
            "error_x": {
             "color": "#2a3f5f"
            },
            "error_y": {
             "color": "#2a3f5f"
            },
            "marker": {
             "line": {
              "color": "#E5ECF6",
              "width": 0.5
             },
             "pattern": {
              "fillmode": "overlay",
              "size": 10,
              "solidity": 0.2
             }
            },
            "type": "bar"
           }
          ],
          "barpolar": [
           {
            "marker": {
             "line": {
              "color": "#E5ECF6",
              "width": 0.5
             },
             "pattern": {
              "fillmode": "overlay",
              "size": 10,
              "solidity": 0.2
             }
            },
            "type": "barpolar"
           }
          ],
          "carpet": [
           {
            "aaxis": {
             "endlinecolor": "#2a3f5f",
             "gridcolor": "white",
             "linecolor": "white",
             "minorgridcolor": "white",
             "startlinecolor": "#2a3f5f"
            },
            "baxis": {
             "endlinecolor": "#2a3f5f",
             "gridcolor": "white",
             "linecolor": "white",
             "minorgridcolor": "white",
             "startlinecolor": "#2a3f5f"
            },
            "type": "carpet"
           }
          ],
          "choropleth": [
           {
            "colorbar": {
             "outlinewidth": 0,
             "ticks": ""
            },
            "type": "choropleth"
           }
          ],
          "contour": [
           {
            "colorbar": {
             "outlinewidth": 0,
             "ticks": ""
            },
            "colorscale": [
             [
              0,
              "#0d0887"
             ],
             [
              0.1111111111111111,
              "#46039f"
             ],
             [
              0.2222222222222222,
              "#7201a8"
             ],
             [
              0.3333333333333333,
              "#9c179e"
             ],
             [
              0.4444444444444444,
              "#bd3786"
             ],
             [
              0.5555555555555556,
              "#d8576b"
             ],
             [
              0.6666666666666666,
              "#ed7953"
             ],
             [
              0.7777777777777778,
              "#fb9f3a"
             ],
             [
              0.8888888888888888,
              "#fdca26"
             ],
             [
              1,
              "#f0f921"
             ]
            ],
            "type": "contour"
           }
          ],
          "contourcarpet": [
           {
            "colorbar": {
             "outlinewidth": 0,
             "ticks": ""
            },
            "type": "contourcarpet"
           }
          ],
          "heatmap": [
           {
            "colorbar": {
             "outlinewidth": 0,
             "ticks": ""
            },
            "colorscale": [
             [
              0,
              "#0d0887"
             ],
             [
              0.1111111111111111,
              "#46039f"
             ],
             [
              0.2222222222222222,
              "#7201a8"
             ],
             [
              0.3333333333333333,
              "#9c179e"
             ],
             [
              0.4444444444444444,
              "#bd3786"
             ],
             [
              0.5555555555555556,
              "#d8576b"
             ],
             [
              0.6666666666666666,
              "#ed7953"
             ],
             [
              0.7777777777777778,
              "#fb9f3a"
             ],
             [
              0.8888888888888888,
              "#fdca26"
             ],
             [
              1,
              "#f0f921"
             ]
            ],
            "type": "heatmap"
           }
          ],
          "histogram": [
           {
            "marker": {
             "pattern": {
              "fillmode": "overlay",
              "size": 10,
              "solidity": 0.2
             }
            },
            "type": "histogram"
           }
          ],
          "histogram2d": [
           {
            "colorbar": {
             "outlinewidth": 0,
             "ticks": ""
            },
            "colorscale": [
             [
              0,
              "#0d0887"
             ],
             [
              0.1111111111111111,
              "#46039f"
             ],
             [
              0.2222222222222222,
              "#7201a8"
             ],
             [
              0.3333333333333333,
              "#9c179e"
             ],
             [
              0.4444444444444444,
              "#bd3786"
             ],
             [
              0.5555555555555556,
              "#d8576b"
             ],
             [
              0.6666666666666666,
              "#ed7953"
             ],
             [
              0.7777777777777778,
              "#fb9f3a"
             ],
             [
              0.8888888888888888,
              "#fdca26"
             ],
             [
              1,
              "#f0f921"
             ]
            ],
            "type": "histogram2d"
           }
          ],
          "histogram2dcontour": [
           {
            "colorbar": {
             "outlinewidth": 0,
             "ticks": ""
            },
            "colorscale": [
             [
              0,
              "#0d0887"
             ],
             [
              0.1111111111111111,
              "#46039f"
             ],
             [
              0.2222222222222222,
              "#7201a8"
             ],
             [
              0.3333333333333333,
              "#9c179e"
             ],
             [
              0.4444444444444444,
              "#bd3786"
             ],
             [
              0.5555555555555556,
              "#d8576b"
             ],
             [
              0.6666666666666666,
              "#ed7953"
             ],
             [
              0.7777777777777778,
              "#fb9f3a"
             ],
             [
              0.8888888888888888,
              "#fdca26"
             ],
             [
              1,
              "#f0f921"
             ]
            ],
            "type": "histogram2dcontour"
           }
          ],
          "mesh3d": [
           {
            "colorbar": {
             "outlinewidth": 0,
             "ticks": ""
            },
            "type": "mesh3d"
           }
          ],
          "parcoords": [
           {
            "line": {
             "colorbar": {
              "outlinewidth": 0,
              "ticks": ""
             }
            },
            "type": "parcoords"
           }
          ],
          "pie": [
           {
            "automargin": true,
            "type": "pie"
           }
          ],
          "scatter": [
           {
            "fillpattern": {
             "fillmode": "overlay",
             "size": 10,
             "solidity": 0.2
            },
            "type": "scatter"
           }
          ],
          "scatter3d": [
           {
            "line": {
             "colorbar": {
              "outlinewidth": 0,
              "ticks": ""
             }
            },
            "marker": {
             "colorbar": {
              "outlinewidth": 0,
              "ticks": ""
             }
            },
            "type": "scatter3d"
           }
          ],
          "scattercarpet": [
           {
            "marker": {
             "colorbar": {
              "outlinewidth": 0,
              "ticks": ""
             }
            },
            "type": "scattercarpet"
           }
          ],
          "scattergeo": [
           {
            "marker": {
             "colorbar": {
              "outlinewidth": 0,
              "ticks": ""
             }
            },
            "type": "scattergeo"
           }
          ],
          "scattergl": [
           {
            "marker": {
             "colorbar": {
              "outlinewidth": 0,
              "ticks": ""
             }
            },
            "type": "scattergl"
           }
          ],
          "scattermap": [
           {
            "marker": {
             "colorbar": {
              "outlinewidth": 0,
              "ticks": ""
             }
            },
            "type": "scattermap"
           }
          ],
          "scattermapbox": [
           {
            "marker": {
             "colorbar": {
              "outlinewidth": 0,
              "ticks": ""
             }
            },
            "type": "scattermapbox"
           }
          ],
          "scatterpolar": [
           {
            "marker": {
             "colorbar": {
              "outlinewidth": 0,
              "ticks": ""
             }
            },
            "type": "scatterpolar"
           }
          ],
          "scatterpolargl": [
           {
            "marker": {
             "colorbar": {
              "outlinewidth": 0,
              "ticks": ""
             }
            },
            "type": "scatterpolargl"
           }
          ],
          "scatterternary": [
           {
            "marker": {
             "colorbar": {
              "outlinewidth": 0,
              "ticks": ""
             }
            },
            "type": "scatterternary"
           }
          ],
          "surface": [
           {
            "colorbar": {
             "outlinewidth": 0,
             "ticks": ""
            },
            "colorscale": [
             [
              0,
              "#0d0887"
             ],
             [
              0.1111111111111111,
              "#46039f"
             ],
             [
              0.2222222222222222,
              "#7201a8"
             ],
             [
              0.3333333333333333,
              "#9c179e"
             ],
             [
              0.4444444444444444,
              "#bd3786"
             ],
             [
              0.5555555555555556,
              "#d8576b"
             ],
             [
              0.6666666666666666,
              "#ed7953"
             ],
             [
              0.7777777777777778,
              "#fb9f3a"
             ],
             [
              0.8888888888888888,
              "#fdca26"
             ],
             [
              1,
              "#f0f921"
             ]
            ],
            "type": "surface"
           }
          ],
          "table": [
           {
            "cells": {
             "fill": {
              "color": "#EBF0F8"
             },
             "line": {
              "color": "white"
             }
            },
            "header": {
             "fill": {
              "color": "#C8D4E3"
             },
             "line": {
              "color": "white"
             }
            },
            "type": "table"
           }
          ]
         },
         "layout": {
          "annotationdefaults": {
           "arrowcolor": "#2a3f5f",
           "arrowhead": 0,
           "arrowwidth": 1
          },
          "autotypenumbers": "strict",
          "coloraxis": {
           "colorbar": {
            "outlinewidth": 0,
            "ticks": ""
           }
          },
          "colorscale": {
           "diverging": [
            [
             0,
             "#8e0152"
            ],
            [
             0.1,
             "#c51b7d"
            ],
            [
             0.2,
             "#de77ae"
            ],
            [
             0.3,
             "#f1b6da"
            ],
            [
             0.4,
             "#fde0ef"
            ],
            [
             0.5,
             "#f7f7f7"
            ],
            [
             0.6,
             "#e6f5d0"
            ],
            [
             0.7,
             "#b8e186"
            ],
            [
             0.8,
             "#7fbc41"
            ],
            [
             0.9,
             "#4d9221"
            ],
            [
             1,
             "#276419"
            ]
           ],
           "sequential": [
            [
             0,
             "#0d0887"
            ],
            [
             0.1111111111111111,
             "#46039f"
            ],
            [
             0.2222222222222222,
             "#7201a8"
            ],
            [
             0.3333333333333333,
             "#9c179e"
            ],
            [
             0.4444444444444444,
             "#bd3786"
            ],
            [
             0.5555555555555556,
             "#d8576b"
            ],
            [
             0.6666666666666666,
             "#ed7953"
            ],
            [
             0.7777777777777778,
             "#fb9f3a"
            ],
            [
             0.8888888888888888,
             "#fdca26"
            ],
            [
             1,
             "#f0f921"
            ]
           ],
           "sequentialminus": [
            [
             0,
             "#0d0887"
            ],
            [
             0.1111111111111111,
             "#46039f"
            ],
            [
             0.2222222222222222,
             "#7201a8"
            ],
            [
             0.3333333333333333,
             "#9c179e"
            ],
            [
             0.4444444444444444,
             "#bd3786"
            ],
            [
             0.5555555555555556,
             "#d8576b"
            ],
            [
             0.6666666666666666,
             "#ed7953"
            ],
            [
             0.7777777777777778,
             "#fb9f3a"
            ],
            [
             0.8888888888888888,
             "#fdca26"
            ],
            [
             1,
             "#f0f921"
            ]
           ]
          },
          "colorway": [
           "#636efa",
           "#EF553B",
           "#00cc96",
           "#ab63fa",
           "#FFA15A",
           "#19d3f3",
           "#FF6692",
           "#B6E880",
           "#FF97FF",
           "#FECB52"
          ],
          "font": {
           "color": "#2a3f5f"
          },
          "geo": {
           "bgcolor": "white",
           "lakecolor": "white",
           "landcolor": "#E5ECF6",
           "showlakes": true,
           "showland": true,
           "subunitcolor": "white"
          },
          "hoverlabel": {
           "align": "left"
          },
          "hovermode": "closest",
          "mapbox": {
           "style": "light"
          },
          "paper_bgcolor": "white",
          "plot_bgcolor": "#E5ECF6",
          "polar": {
           "angularaxis": {
            "gridcolor": "white",
            "linecolor": "white",
            "ticks": ""
           },
           "bgcolor": "#E5ECF6",
           "radialaxis": {
            "gridcolor": "white",
            "linecolor": "white",
            "ticks": ""
           }
          },
          "scene": {
           "xaxis": {
            "backgroundcolor": "#E5ECF6",
            "gridcolor": "white",
            "gridwidth": 2,
            "linecolor": "white",
            "showbackground": true,
            "ticks": "",
            "zerolinecolor": "white"
           },
           "yaxis": {
            "backgroundcolor": "#E5ECF6",
            "gridcolor": "white",
            "gridwidth": 2,
            "linecolor": "white",
            "showbackground": true,
            "ticks": "",
            "zerolinecolor": "white"
           },
           "zaxis": {
            "backgroundcolor": "#E5ECF6",
            "gridcolor": "white",
            "gridwidth": 2,
            "linecolor": "white",
            "showbackground": true,
            "ticks": "",
            "zerolinecolor": "white"
           }
          },
          "shapedefaults": {
           "line": {
            "color": "#2a3f5f"
           }
          },
          "ternary": {
           "aaxis": {
            "gridcolor": "white",
            "linecolor": "white",
            "ticks": ""
           },
           "baxis": {
            "gridcolor": "white",
            "linecolor": "white",
            "ticks": ""
           },
           "bgcolor": "#E5ECF6",
           "caxis": {
            "gridcolor": "white",
            "linecolor": "white",
            "ticks": ""
           }
          },
          "title": {
           "x": 0.05
          },
          "xaxis": {
           "automargin": true,
           "gridcolor": "white",
           "linecolor": "white",
           "ticks": "",
           "title": {
            "standoff": 15
           },
           "zerolinecolor": "white",
           "zerolinewidth": 2
          },
          "yaxis": {
           "automargin": true,
           "gridcolor": "white",
           "linecolor": "white",
           "ticks": "",
           "title": {
            "standoff": 15
           },
           "zerolinecolor": "white",
           "zerolinewidth": 2
          }
         }
        },
        "title": {
         "text": "Анализ длины текстов"
        },
        "xaxis": {
         "anchor": "y",
         "domain": [
          0,
          0.45
         ]
        },
        "xaxis2": {
         "anchor": "y2",
         "domain": [
          0.55,
          1
         ]
        },
        "xaxis3": {
         "anchor": "y3",
         "domain": [
          0,
          0.45
         ]
        },
        "yaxis": {
         "anchor": "x",
         "domain": [
          0.625,
          1
         ]
        },
        "yaxis2": {
         "anchor": "x2",
         "domain": [
          0.625,
          1
         ]
        },
        "yaxis3": {
         "anchor": "x3",
         "domain": [
          0,
          0.375
         ]
        }
       }
      }
     },
     "metadata": {},
     "output_type": "display_data"
    }
   ],
   "source": [
    "def create_length_visualizations(char_lengths, word_counts, sentence_counts):\n",
    "    \"\"\"Создание визуализаций для длин текстов\"\"\"\n",
    "    \n",
    "    fig = make_subplots(\n",
    "        rows=2, cols=2,\n",
    "        subplot_titles=('Распределение длины в символах', \n",
    "                       'Распределение количества слов',\n",
    "                       'Распределение количества предложений',\n",
    "                       'Соотношение длины текстов'),\n",
    "        specs=[[{\"secondary_y\": False}, {\"secondary_y\": False}],\n",
    "               [{\"secondary_y\": False}, {\"type\": \"pie\"}]]\n",
    "    )\n",
    "\n",
    "    # Гистограмма длины в символах\n",
    "    fig.add_trace(go.Histogram(x=char_lengths, name='Символы', nbinsx=50),\n",
    "                  row=1, col=1)\n",
    "\n",
    "    # Гистограмма количества слов\n",
    "    fig.add_trace(go.Histogram(x=word_counts, name='Слова', nbinsx=50),\n",
    "                  row=1, col=2)\n",
    "\n",
    "    # Гистограмма количества предложений\n",
    "    fig.add_trace(go.Histogram(x=sentence_counts, name='Предложения', nbinsx=50),\n",
    "                  row=2, col=1)\n",
    "\n",
    "    # Круговая диаграмма по категориям длины\n",
    "    length_categories = pd.cut(word_counts, \n",
    "                              bins=[0, 50, 200, 500, 1000, np.inf],\n",
    "                              labels=['Очень короткие (<50)', 'Короткие (50-200)', \n",
    "                                     'Средние (200-500)', 'Длинные (500-1000)', \n",
    "                                     'Очень длинные (>1000)'])\n",
    "    category_counts = length_categories.value_counts()\n",
    "    fig.add_trace(go.Pie(labels=category_counts.index, \n",
    "                         values=category_counts.values,\n",
    "                         name=\"Категории длины\"),\n",
    "                  row=2, col=2)\n",
    "\n",
    "    fig.update_layout(height=800, title_text=\"Анализ длины текстов\")\n",
    "    fig.show()\n",
    "\n",
    "create_length_visualizations(char_lengths, word_counts, sentence_counts)"
   ]
  },
  {
   "cell_type": "markdown",
   "metadata": {},
   "source": [
    "## 4. Анализ токенов и лексического разнообразия\n"
   ]
  },
  {
   "cell_type": "code",
   "execution_count": 20,
   "metadata": {},
   "outputs": [
    {
     "name": "stdout",
     "output_type": "stream",
     "text": [
      "📈 ЛЕКСИЧЕСКОЕ РАЗНООБРАЗИЕ:\n",
      "Общее количество токенов: 445660\n",
      "Общее количество слов (после очистки): 312010\n",
      "Размер словаря: 57689\n",
      "Лексическое разнообразие: 0.1849\n"
     ]
    }
   ],
   "source": [
    "def analyze_tokens(texts):\n",
    "    \"\"\"Анализ токенов и лексического разнообразия\"\"\"\n",
    "    all_tokens = []\n",
    "    all_words = []\n",
    "    \n",
    "    # Простые русские стоп-слова\n",
    "    russian_stopwords = {\n",
    "        'и', 'в', 'во', 'не', 'что', 'он', 'на', 'я', 'с', 'со', 'как', 'а', 'то',\n",
    "        'все', 'она', 'так', 'его', 'но', 'да', 'ты', 'к', 'у', 'же', 'вы', 'за',\n",
    "        'бы', 'по', 'только', 'ее', 'мне', 'было', 'вот', 'от', 'меня', 'еще', 'нет',\n",
    "        'о', 'из', 'ему', 'теперь', 'когда', 'даже', 'ну', 'вдруг', 'ли', 'если',\n",
    "        'уже', 'или', 'ни', 'быть', 'был', 'него', 'до', 'вас', 'нибудь', 'опять',\n",
    "        'уж', 'вам', 'ведь', 'там', 'потом', 'себя', 'ничего', 'ей', 'может', 'они',\n",
    "        'тут', 'где', 'есть', 'надо', 'ней', 'для', 'мы', 'тебя', 'их', 'чем', 'была',\n",
    "        'сам', 'чтоб', 'без', 'будто', 'чего', 'раз', 'тоже', 'себе', 'под', 'будет',\n",
    "        'ж', 'тогда', 'кто', 'этот', 'того', 'потому', 'этого', 'какой', 'совсем',\n",
    "        'ним', 'здесь', 'этом', 'один', 'почти', 'мой', 'тем', 'чтобы', 'нее', 'сейчас',\n",
    "        'были', 'куда', 'зачем', 'всех', 'никогда', 'можно', 'при', 'наконец', 'два',\n",
    "        'об', 'другой', 'хоть', 'после', 'над', 'больше', 'тот', 'через', 'эти', 'нас',\n",
    "        'про', 'всего', 'них', 'какая', 'много', 'разве', 'три', 'эту', 'моя', 'впрочем',\n",
    "        'хорошо', 'свою', 'этой', 'перед', 'иногда', 'лучше', 'чуть', 'том', 'нельзя',\n",
    "        'такой', 'им', 'более', 'всегда', 'конечно', 'всю', 'между'\n",
    "    }\n",
    "    \n",
    "    for text in texts:\n",
    "        # Простая токенизация по пробелам и пунктуации\n",
    "        tokens = re.findall(r'\\b\\w+\\b', text.lower())\n",
    "        # Фильтрация: только буквы, длина > 2, не стоп-слова\n",
    "        words = [token for token in tokens \n",
    "                if token.isalpha() and len(token) > 2 and token not in russian_stopwords]\n",
    "        \n",
    "        all_tokens.extend(tokens)\n",
    "        all_words.extend(words)\n",
    "    \n",
    "    # Частотный анализ\n",
    "    word_freq = Counter(all_words)\n",
    "    token_freq = Counter(all_tokens)\n",
    "    \n",
    "    # Лексическое разнообразие\n",
    "    vocab_size = len(set(all_words))\n",
    "    total_words = len(all_words)\n",
    "    lexical_diversity = vocab_size / total_words if total_words > 0 else 0\n",
    "    \n",
    "    return {\n",
    "        'total_tokens': len(all_tokens),\n",
    "        'total_words': total_words,\n",
    "        'vocab_size': vocab_size,\n",
    "        'lexical_diversity': lexical_diversity,\n",
    "        'word_freq': word_freq,\n",
    "        'token_freq': token_freq,\n",
    "        'top_words': word_freq.most_common(50)\n",
    "    }\n",
    "\n",
    "# Применяем анализ\n",
    "texts_sample = df['text_cleaned'].dropna().astype(str)\n",
    "token_stats = analyze_tokens(texts_sample)\n",
    "\n",
    "print(\"📈 ЛЕКСИЧЕСКОЕ РАЗНООБРАЗИЕ:\")\n",
    "print(f\"Общее количество токенов: {token_stats['total_tokens']}\")\n",
    "print(f\"Общее количество слов (после очистки): {token_stats['total_words']}\")\n",
    "print(f\"Размер словаря: {token_stats['vocab_size']}\")\n",
    "print(f\"Лексическое разнообразие: {token_stats['lexical_diversity']:.4f}\")"
   ]
  },
  {
   "cell_type": "markdown",
   "metadata": {},
   "source": [
    "## 5. Визуализация частот слов\n"
   ]
  },
  {
   "cell_type": "code",
   "execution_count": 21,
   "metadata": {},
   "outputs": [
    {
     "data": {
      "application/vnd.plotly.v1+json": {
       "config": {
        "plotlyServerURL": "https://plot.ly"
       },
       "data": [
        {
         "hovertemplate": "Слова=%{x}<br>Частота=%{y}<extra></extra>",
         "legendgroup": "",
         "marker": {
          "color": "#636efa",
          "pattern": {
           "shape": ""
          }
         },
         "name": "",
         "orientation": "v",
         "showlegend": false,
         "textposition": "auto",
         "type": "bar",
         "x": [
          "россии",
          "новости",
          "это",
          "рбк",
          "подписаться",
          "риа",
          "года",
          "telegram",
          "сша",
          "https",
          "kod",
          "также",
          "подписывайтесь",
          "тасс",
          "заявил",
          "оставляйте",
          "бусты",
          "году",
          "октября",
          "сообщили",
          "сообщил",
          "время",
          "которые",
          "области",
          "max",
          "лет",
          "млн",
          "компании",
          "видео",
          "который"
         ],
         "xaxis": "x",
         "y": {
          "bdata": "bAUKBdsEggR1BGoERwT4A7oDkAOQA2EDLAPJAsMCoQKgAp0CmgKLAjgCHwIeAv0B7QG0AZ8BnwGNAYwB",
          "dtype": "i2"
         },
         "yaxis": "y"
        }
       ],
       "layout": {
        "barmode": "relative",
        "legend": {
         "tracegroupgap": 0
        },
        "template": {
         "data": {
          "bar": [
           {
            "error_x": {
             "color": "#2a3f5f"
            },
            "error_y": {
             "color": "#2a3f5f"
            },
            "marker": {
             "line": {
              "color": "#E5ECF6",
              "width": 0.5
             },
             "pattern": {
              "fillmode": "overlay",
              "size": 10,
              "solidity": 0.2
             }
            },
            "type": "bar"
           }
          ],
          "barpolar": [
           {
            "marker": {
             "line": {
              "color": "#E5ECF6",
              "width": 0.5
             },
             "pattern": {
              "fillmode": "overlay",
              "size": 10,
              "solidity": 0.2
             }
            },
            "type": "barpolar"
           }
          ],
          "carpet": [
           {
            "aaxis": {
             "endlinecolor": "#2a3f5f",
             "gridcolor": "white",
             "linecolor": "white",
             "minorgridcolor": "white",
             "startlinecolor": "#2a3f5f"
            },
            "baxis": {
             "endlinecolor": "#2a3f5f",
             "gridcolor": "white",
             "linecolor": "white",
             "minorgridcolor": "white",
             "startlinecolor": "#2a3f5f"
            },
            "type": "carpet"
           }
          ],
          "choropleth": [
           {
            "colorbar": {
             "outlinewidth": 0,
             "ticks": ""
            },
            "type": "choropleth"
           }
          ],
          "contour": [
           {
            "colorbar": {
             "outlinewidth": 0,
             "ticks": ""
            },
            "colorscale": [
             [
              0,
              "#0d0887"
             ],
             [
              0.1111111111111111,
              "#46039f"
             ],
             [
              0.2222222222222222,
              "#7201a8"
             ],
             [
              0.3333333333333333,
              "#9c179e"
             ],
             [
              0.4444444444444444,
              "#bd3786"
             ],
             [
              0.5555555555555556,
              "#d8576b"
             ],
             [
              0.6666666666666666,
              "#ed7953"
             ],
             [
              0.7777777777777778,
              "#fb9f3a"
             ],
             [
              0.8888888888888888,
              "#fdca26"
             ],
             [
              1,
              "#f0f921"
             ]
            ],
            "type": "contour"
           }
          ],
          "contourcarpet": [
           {
            "colorbar": {
             "outlinewidth": 0,
             "ticks": ""
            },
            "type": "contourcarpet"
           }
          ],
          "heatmap": [
           {
            "colorbar": {
             "outlinewidth": 0,
             "ticks": ""
            },
            "colorscale": [
             [
              0,
              "#0d0887"
             ],
             [
              0.1111111111111111,
              "#46039f"
             ],
             [
              0.2222222222222222,
              "#7201a8"
             ],
             [
              0.3333333333333333,
              "#9c179e"
             ],
             [
              0.4444444444444444,
              "#bd3786"
             ],
             [
              0.5555555555555556,
              "#d8576b"
             ],
             [
              0.6666666666666666,
              "#ed7953"
             ],
             [
              0.7777777777777778,
              "#fb9f3a"
             ],
             [
              0.8888888888888888,
              "#fdca26"
             ],
             [
              1,
              "#f0f921"
             ]
            ],
            "type": "heatmap"
           }
          ],
          "histogram": [
           {
            "marker": {
             "pattern": {
              "fillmode": "overlay",
              "size": 10,
              "solidity": 0.2
             }
            },
            "type": "histogram"
           }
          ],
          "histogram2d": [
           {
            "colorbar": {
             "outlinewidth": 0,
             "ticks": ""
            },
            "colorscale": [
             [
              0,
              "#0d0887"
             ],
             [
              0.1111111111111111,
              "#46039f"
             ],
             [
              0.2222222222222222,
              "#7201a8"
             ],
             [
              0.3333333333333333,
              "#9c179e"
             ],
             [
              0.4444444444444444,
              "#bd3786"
             ],
             [
              0.5555555555555556,
              "#d8576b"
             ],
             [
              0.6666666666666666,
              "#ed7953"
             ],
             [
              0.7777777777777778,
              "#fb9f3a"
             ],
             [
              0.8888888888888888,
              "#fdca26"
             ],
             [
              1,
              "#f0f921"
             ]
            ],
            "type": "histogram2d"
           }
          ],
          "histogram2dcontour": [
           {
            "colorbar": {
             "outlinewidth": 0,
             "ticks": ""
            },
            "colorscale": [
             [
              0,
              "#0d0887"
             ],
             [
              0.1111111111111111,
              "#46039f"
             ],
             [
              0.2222222222222222,
              "#7201a8"
             ],
             [
              0.3333333333333333,
              "#9c179e"
             ],
             [
              0.4444444444444444,
              "#bd3786"
             ],
             [
              0.5555555555555556,
              "#d8576b"
             ],
             [
              0.6666666666666666,
              "#ed7953"
             ],
             [
              0.7777777777777778,
              "#fb9f3a"
             ],
             [
              0.8888888888888888,
              "#fdca26"
             ],
             [
              1,
              "#f0f921"
             ]
            ],
            "type": "histogram2dcontour"
           }
          ],
          "mesh3d": [
           {
            "colorbar": {
             "outlinewidth": 0,
             "ticks": ""
            },
            "type": "mesh3d"
           }
          ],
          "parcoords": [
           {
            "line": {
             "colorbar": {
              "outlinewidth": 0,
              "ticks": ""
             }
            },
            "type": "parcoords"
           }
          ],
          "pie": [
           {
            "automargin": true,
            "type": "pie"
           }
          ],
          "scatter": [
           {
            "fillpattern": {
             "fillmode": "overlay",
             "size": 10,
             "solidity": 0.2
            },
            "type": "scatter"
           }
          ],
          "scatter3d": [
           {
            "line": {
             "colorbar": {
              "outlinewidth": 0,
              "ticks": ""
             }
            },
            "marker": {
             "colorbar": {
              "outlinewidth": 0,
              "ticks": ""
             }
            },
            "type": "scatter3d"
           }
          ],
          "scattercarpet": [
           {
            "marker": {
             "colorbar": {
              "outlinewidth": 0,
              "ticks": ""
             }
            },
            "type": "scattercarpet"
           }
          ],
          "scattergeo": [
           {
            "marker": {
             "colorbar": {
              "outlinewidth": 0,
              "ticks": ""
             }
            },
            "type": "scattergeo"
           }
          ],
          "scattergl": [
           {
            "marker": {
             "colorbar": {
              "outlinewidth": 0,
              "ticks": ""
             }
            },
            "type": "scattergl"
           }
          ],
          "scattermap": [
           {
            "marker": {
             "colorbar": {
              "outlinewidth": 0,
              "ticks": ""
             }
            },
            "type": "scattermap"
           }
          ],
          "scattermapbox": [
           {
            "marker": {
             "colorbar": {
              "outlinewidth": 0,
              "ticks": ""
             }
            },
            "type": "scattermapbox"
           }
          ],
          "scatterpolar": [
           {
            "marker": {
             "colorbar": {
              "outlinewidth": 0,
              "ticks": ""
             }
            },
            "type": "scatterpolar"
           }
          ],
          "scatterpolargl": [
           {
            "marker": {
             "colorbar": {
              "outlinewidth": 0,
              "ticks": ""
             }
            },
            "type": "scatterpolargl"
           }
          ],
          "scatterternary": [
           {
            "marker": {
             "colorbar": {
              "outlinewidth": 0,
              "ticks": ""
             }
            },
            "type": "scatterternary"
           }
          ],
          "surface": [
           {
            "colorbar": {
             "outlinewidth": 0,
             "ticks": ""
            },
            "colorscale": [
             [
              0,
              "#0d0887"
             ],
             [
              0.1111111111111111,
              "#46039f"
             ],
             [
              0.2222222222222222,
              "#7201a8"
             ],
             [
              0.3333333333333333,
              "#9c179e"
             ],
             [
              0.4444444444444444,
              "#bd3786"
             ],
             [
              0.5555555555555556,
              "#d8576b"
             ],
             [
              0.6666666666666666,
              "#ed7953"
             ],
             [
              0.7777777777777778,
              "#fb9f3a"
             ],
             [
              0.8888888888888888,
              "#fdca26"
             ],
             [
              1,
              "#f0f921"
             ]
            ],
            "type": "surface"
           }
          ],
          "table": [
           {
            "cells": {
             "fill": {
              "color": "#EBF0F8"
             },
             "line": {
              "color": "white"
             }
            },
            "header": {
             "fill": {
              "color": "#C8D4E3"
             },
             "line": {
              "color": "white"
             }
            },
            "type": "table"
           }
          ]
         },
         "layout": {
          "annotationdefaults": {
           "arrowcolor": "#2a3f5f",
           "arrowhead": 0,
           "arrowwidth": 1
          },
          "autotypenumbers": "strict",
          "coloraxis": {
           "colorbar": {
            "outlinewidth": 0,
            "ticks": ""
           }
          },
          "colorscale": {
           "diverging": [
            [
             0,
             "#8e0152"
            ],
            [
             0.1,
             "#c51b7d"
            ],
            [
             0.2,
             "#de77ae"
            ],
            [
             0.3,
             "#f1b6da"
            ],
            [
             0.4,
             "#fde0ef"
            ],
            [
             0.5,
             "#f7f7f7"
            ],
            [
             0.6,
             "#e6f5d0"
            ],
            [
             0.7,
             "#b8e186"
            ],
            [
             0.8,
             "#7fbc41"
            ],
            [
             0.9,
             "#4d9221"
            ],
            [
             1,
             "#276419"
            ]
           ],
           "sequential": [
            [
             0,
             "#0d0887"
            ],
            [
             0.1111111111111111,
             "#46039f"
            ],
            [
             0.2222222222222222,
             "#7201a8"
            ],
            [
             0.3333333333333333,
             "#9c179e"
            ],
            [
             0.4444444444444444,
             "#bd3786"
            ],
            [
             0.5555555555555556,
             "#d8576b"
            ],
            [
             0.6666666666666666,
             "#ed7953"
            ],
            [
             0.7777777777777778,
             "#fb9f3a"
            ],
            [
             0.8888888888888888,
             "#fdca26"
            ],
            [
             1,
             "#f0f921"
            ]
           ],
           "sequentialminus": [
            [
             0,
             "#0d0887"
            ],
            [
             0.1111111111111111,
             "#46039f"
            ],
            [
             0.2222222222222222,
             "#7201a8"
            ],
            [
             0.3333333333333333,
             "#9c179e"
            ],
            [
             0.4444444444444444,
             "#bd3786"
            ],
            [
             0.5555555555555556,
             "#d8576b"
            ],
            [
             0.6666666666666666,
             "#ed7953"
            ],
            [
             0.7777777777777778,
             "#fb9f3a"
            ],
            [
             0.8888888888888888,
             "#fdca26"
            ],
            [
             1,
             "#f0f921"
            ]
           ]
          },
          "colorway": [
           "#636efa",
           "#EF553B",
           "#00cc96",
           "#ab63fa",
           "#FFA15A",
           "#19d3f3",
           "#FF6692",
           "#B6E880",
           "#FF97FF",
           "#FECB52"
          ],
          "font": {
           "color": "#2a3f5f"
          },
          "geo": {
           "bgcolor": "white",
           "lakecolor": "white",
           "landcolor": "#E5ECF6",
           "showlakes": true,
           "showland": true,
           "subunitcolor": "white"
          },
          "hoverlabel": {
           "align": "left"
          },
          "hovermode": "closest",
          "mapbox": {
           "style": "light"
          },
          "paper_bgcolor": "white",
          "plot_bgcolor": "#E5ECF6",
          "polar": {
           "angularaxis": {
            "gridcolor": "white",
            "linecolor": "white",
            "ticks": ""
           },
           "bgcolor": "#E5ECF6",
           "radialaxis": {
            "gridcolor": "white",
            "linecolor": "white",
            "ticks": ""
           }
          },
          "scene": {
           "xaxis": {
            "backgroundcolor": "#E5ECF6",
            "gridcolor": "white",
            "gridwidth": 2,
            "linecolor": "white",
            "showbackground": true,
            "ticks": "",
            "zerolinecolor": "white"
           },
           "yaxis": {
            "backgroundcolor": "#E5ECF6",
            "gridcolor": "white",
            "gridwidth": 2,
            "linecolor": "white",
            "showbackground": true,
            "ticks": "",
            "zerolinecolor": "white"
           },
           "zaxis": {
            "backgroundcolor": "#E5ECF6",
            "gridcolor": "white",
            "gridwidth": 2,
            "linecolor": "white",
            "showbackground": true,
            "ticks": "",
            "zerolinecolor": "white"
           }
          },
          "shapedefaults": {
           "line": {
            "color": "#2a3f5f"
           }
          },
          "ternary": {
           "aaxis": {
            "gridcolor": "white",
            "linecolor": "white",
            "ticks": ""
           },
           "baxis": {
            "gridcolor": "white",
            "linecolor": "white",
            "ticks": ""
           },
           "bgcolor": "#E5ECF6",
           "caxis": {
            "gridcolor": "white",
            "linecolor": "white",
            "ticks": ""
           }
          },
          "title": {
           "x": 0.05
          },
          "xaxis": {
           "automargin": true,
           "gridcolor": "white",
           "linecolor": "white",
           "ticks": "",
           "title": {
            "standoff": 15
           },
           "zerolinecolor": "white",
           "zerolinewidth": 2
          },
          "yaxis": {
           "automargin": true,
           "gridcolor": "white",
           "linecolor": "white",
           "ticks": "",
           "title": {
            "standoff": 15
           },
           "zerolinecolor": "white",
           "zerolinewidth": 2
          }
         }
        },
        "title": {
         "text": "Топ-30 самых частых слов"
        },
        "xaxis": {
         "anchor": "y",
         "domain": [
          0,
          1
         ],
         "title": {
          "text": "Слова"
         }
        },
        "yaxis": {
         "anchor": "x",
         "domain": [
          0,
          1
         ],
         "title": {
          "text": "Частота"
         }
        }
       }
      }
     },
     "metadata": {},
     "output_type": "display_data"
    },
    {
     "data": {
      "image/png": "[encoded data removed]",
      "text/plain": [
       "<Figure size 1200x600 with 1 Axes>"
      ]
     },
     "metadata": {},
     "output_type": "display_data"
    }
   ],
   "source": [
    "def create_word_visualizations(token_stats):\n",
    "    \"\"\"Создание визуализаций для слов\"\"\"\n",
    "    \n",
    "    # Топ-30 самых частых слов\n",
    "    top_words = token_stats['top_words'][:30]\n",
    "\n",
    "    fig = px.bar(x=[word[0] for word in top_words], \n",
    "                 y=[word[1] for word in top_words],\n",
    "                 title=\"Топ-30 самых частых слов\",\n",
    "                 labels={'x': 'Слова', 'y': 'Частота'})\n",
    "    fig.show()\n",
    "\n",
    "    # Облако слов\n",
    "    wordcloud = WordCloud(\n",
    "        width=800, \n",
    "        height=400, \n",
    "        background_color='white',\n",
    "        colormap='viridis',\n",
    "        max_words=100\n",
    "    ).generate_from_frequencies(token_stats['word_freq'])\n",
    "\n",
    "    plt.figure(figsize=(12, 6))\n",
    "    plt.imshow(wordcloud, interpolation='bilinear')\n",
    "    plt.axis('off')\n",
    "    plt.title('Облако слов (после очистки от стоп-слов)')\n",
    "    plt.show()\n",
    "\n",
    "create_word_visualizations(token_stats)"
   ]
  },
  {
   "cell_type": "markdown",
   "metadata": {},
   "source": [
    "## 6. Анализ именованных сущностей с Natasha\n"
   ]
  },
  {
   "cell_type": "code",
   "execution_count": 22,
   "metadata": {},
   "outputs": [
    {
     "name": "stdout",
     "output_type": "stream",
     "text": [
      "🔍 Запуск извлечения сущностей...\n",
      "Извлечение сущностей с Natasha для 200 документов...\n",
      "Обработано 0/200 документов\n",
      "Обработано 50/200 документов\n",
      "Обработано 100/200 документов\n",
      "Обработано 150/200 документов\n",
      "\n",
      "👥 СТАТИСТИКА СУЩНОСТЕЙ:\n",
      "Уникальных персон: 146\n",
      "Уникальных локаций: 155\n",
      "Уникальных организаций: 226\n"
     ]
    }
   ],
   "source": [
    "def extract_entities_with_natasha(texts, max_docs=500):\n",
    "    \"\"\"Извлечение именованных сущностей с помощью Natasha\"\"\"\n",
    "    persons = []\n",
    "    locations = []\n",
    "    organizations = []\n",
    "    \n",
    "    if max_docs:\n",
    "        texts = texts.head(max_docs)\n",
    "    \n",
    "    print(f\"Извлечение сущностей с Natasha для {len(texts)} документов...\")\n",
    "    \n",
    "    for i, text in enumerate(texts):\n",
    "        if i % 50 == 0:\n",
    "            print(f\"Обработано {i}/{len(texts)} документов\")\n",
    "            \n",
    "        try:\n",
    "            doc = Doc(text[:100000])  # Ограничиваем длину текста для Natasha\n",
    "            doc.segment(segmenter)\n",
    "            doc.tag_morph(morph_tagger)\n",
    "            doc.tag_ner(ner_tagger)\n",
    "            \n",
    "            for span in doc.spans:\n",
    "                if span.type == 'PER':  # Person\n",
    "                    span.normalize(morph_vocab)\n",
    "                    persons.append(span.normal)\n",
    "                elif span.type == 'LOC':  # Location\n",
    "                    span.normalize(morph_vocab)\n",
    "                    locations.append(span.normal)\n",
    "                elif span.type == 'ORG':  # Organization\n",
    "                    span.normalize(morph_vocab)\n",
    "                    organizations.append(span.normal)\n",
    "        except Exception as e:\n",
    "            print(f\"Ошибка при обработке документа {i}: {e}\")\n",
    "            continue\n",
    "    \n",
    "    return {\n",
    "        'persons': persons,\n",
    "        'locations': locations,\n",
    "        'organizations': organizations\n",
    "    }\n",
    "\n",
    "# Извлекаем сущности (ограничиваем количество для тестирования)\n",
    "print(\"🔍 Запуск извлечения сущностей...\")\n",
    "entity_stats = extract_entities_with_natasha(texts_sample, max_docs=200)\n",
    "\n",
    "print(\"\\n👥 СТАТИСТИКА СУЩНОСТЕЙ:\")\n",
    "print(f\"Уникальных персон: {len(set(entity_stats['persons']))}\")\n",
    "print(f\"Уникальных локаций: {len(set(entity_stats['locations']))}\")\n",
    "print(f\"Уникальных организаций: {len(set(entity_stats['organizations']))}\")"
   ]
  },
  {
   "cell_type": "markdown",
   "metadata": {},
   "source": [
    "## 7. Анализ упоминаний персон по каналам\n"
   ]
  },
  {
   "cell_type": "code",
   "execution_count": 23,
   "metadata": {},
   "outputs": [
    {
     "name": "stdout",
     "output_type": "stream",
     "text": [
      "👥 Запуск анализа упоминаний персон по каналам...\n",
      "Анализ упоминаний персон для 9 каналов...\n",
      "Обработка канала: d_code\n",
      "  Обработано 0/50 документов в канале d_code\n",
      "  Обработано 20/50 документов в канале d_code\n",
      "  Обработано 40/50 документов в канале d_code\n",
      "Обработка канала: rbc_news\n",
      "  Обработано 0/50 документов в канале rbc_news\n",
      "  Обработано 20/50 документов в канале rbc_news\n",
      "  Обработано 40/50 документов в канале rbc_news\n",
      "Обработка канала: rian_ru\n",
      "  Обработано 0/50 документов в канале rian_ru\n",
      "  Обработано 20/50 документов в канале rian_ru\n",
      "  Обработано 40/50 документов в канале rian_ru\n",
      "Обработка канала: kommersant\n",
      "  Обработано 0/50 документов в канале kommersant\n",
      "  Обработано 20/50 документов в канале kommersant\n",
      "  Обработано 40/50 документов в канале kommersant\n",
      "Обработка канала: tass_agency\n",
      "  Обработано 0/50 документов в канале tass_agency\n",
      "  Обработано 20/50 документов в канале tass_agency\n",
      "  Обработано 40/50 документов в канале tass_agency\n",
      "Обработка канала: ENews112\n",
      "  Обработано 0/50 документов в канале ENews112\n",
      "  Обработано 20/50 документов в канале ENews112\n",
      "  Обработано 40/50 документов в канале ENews112\n",
      "Обработка канала: headlines_for_traders\n",
      "  Обработано 0/50 документов в канале headlines_for_traders\n",
      "  Обработано 20/50 документов в канале headlines_for_traders\n",
      "  Обработано 40/50 документов в канале headlines_for_traders\n",
      "Обработка канала: aviadispet4er\n",
      "  Обработано 0/50 документов в канале aviadispet4er\n",
      "  Обработано 20/50 документов в канале aviadispet4er\n",
      "  Обработано 40/50 документов в канале aviadispet4er\n",
      "Обработка канала: mosrutop\n",
      "  Обработано 0/50 документов в канале mosrutop\n",
      "  Обработано 20/50 документов в канале mosrutop\n",
      "  Обработано 40/50 документов в канале mosrutop\n"
     ]
    }
   ],
   "source": [
    "def analyze_person_mentions(df, text_column='text_cleaned', channel_column='channel_short', max_docs_per_channel=100):\n",
    "    \"\"\"Анализ упоминаний персон по каналам\"\"\"\n",
    "    \n",
    "    # Проверяем наличие колонки с каналами\n",
    "    if channel_column not in df.columns:\n",
    "        print(f\"Колонка {channel_column} не найдена. Создаем фиктивный канал.\")\n",
    "        df[channel_column] = 'general_channel'\n",
    "    \n",
    "    channels = df[channel_column].unique()\n",
    "    all_persons = []\n",
    "    channel_person_stats = {}\n",
    "    \n",
    "    print(f\"Анализ упоминаний персон для {len(channels)} каналов...\")\n",
    "    \n",
    "    for channel in channels:\n",
    "        print(f\"Обработка канала: {channel}\")\n",
    "        channel_texts = df[df[channel_column] == channel][text_column].dropna().astype(str)\n",
    "        \n",
    "        if len(channel_texts) > max_docs_per_channel:\n",
    "            channel_texts = channel_texts.sample(max_docs_per_channel)\n",
    "        \n",
    "        channel_persons = []\n",
    "        \n",
    "        for i, text in enumerate(channel_texts):\n",
    "            if i % 20 == 0:\n",
    "                print(f\"  Обработано {i}/{len(channel_texts)} документов в канале {channel}\")\n",
    "                \n",
    "            try:\n",
    "                doc = Doc(text[:50000])  # Ограничиваем длину\n",
    "                doc.segment(segmenter)\n",
    "                doc.tag_morph(morph_tagger)\n",
    "                doc.tag_ner(ner_tagger)\n",
    "                \n",
    "                for span in doc.spans:\n",
    "                    if span.type == 'PER':\n",
    "                        span.normalize(morph_vocab)\n",
    "                        person_name = span.normal\n",
    "                        if len(person_name) > 2:  # Фильтруем слишком короткие имена\n",
    "                            channel_persons.append(person_name)\n",
    "                            all_persons.append(person_name)\n",
    "            except Exception as e:\n",
    "                continue\n",
    "        \n",
    "        # Анализ частотности для канала\n",
    "        if channel_persons:\n",
    "            person_freq = Counter(channel_persons)\n",
    "            channel_person_stats[channel] = {\n",
    "                'total_mentions': len(channel_persons),\n",
    "                'unique_persons': len(set(channel_persons)),\n",
    "                'top_persons': person_freq.most_common(10),\n",
    "                'person_freq': person_freq\n",
    "            }\n",
    "        else:\n",
    "            channel_person_stats[channel] = {\n",
    "                'total_mentions': 0,\n",
    "                'unique_persons': 0,\n",
    "                'top_persons': [],\n",
    "                'person_freq': Counter()\n",
    "            }\n",
    "    \n",
    "    # Общая статистика по всем каналам\n",
    "    overall_person_freq = Counter(all_persons)\n",
    "    \n",
    "    return {\n",
    "        'channel_stats': channel_person_stats,\n",
    "        'overall_top_persons': overall_person_freq.most_common(20),\n",
    "        'total_unique_persons': len(set(all_persons)),\n",
    "        'total_mentions': len(all_persons)\n",
    "    }\n",
    "\n",
    "# Запускаем анализ упоминаний персон\n",
    "print(\"👥 Запуск анализа упоминаний персон по каналам...\")\n",
    "person_analysis = analyze_person_mentions(df, max_docs_per_channel=50)"
   ]
  },
  {
   "cell_type": "markdown",
   "metadata": {},
   "source": [
    "## 8. Визуализация анализа персон\n"
   ]
  },
  {
   "cell_type": "code",
   "execution_count": 24,
   "metadata": {},
   "outputs": [
    {
     "data": {
      "application/vnd.plotly.v1+json": {
       "config": {
        "plotlyServerURL": "https://plot.ly"
       },
       "data": [
        {
         "hovertemplate": "Количество упоминаний=%{x}<br>Имя=%{y}<extra></extra>",
         "legendgroup": "",
         "marker": {
          "color": "#636efa",
          "pattern": {
           "shape": ""
          }
         },
         "name": "",
         "orientation": "h",
         "showlegend": false,
         "textposition": "auto",
         "type": "bar",
         "x": {
          "bdata": "Dw0JCQcHBQUEBAQEBAQE",
          "dtype": "i1"
         },
         "xaxis": "x",
         "y": [
          "Трамп",
          "Путин",
          "Владимир Путин",
          "Дональд Трамп",
          "Сергей Собянин",
          "Ъузнал",
          "Песков",
          "Сергей Лавров",
          "Павел Дуров",
          "Дуров",
          "Юрий Грымов",
          "Грымов",
          "Собянин",
          "Марко Рубио",
          "Сухов"
         ],
         "yaxis": "y"
        }
       ],
       "layout": {
        "barmode": "relative",
        "legend": {
         "tracegroupgap": 0
        },
        "template": {
         "data": {
          "bar": [
           {
            "error_x": {
             "color": "#2a3f5f"
            },
            "error_y": {
             "color": "#2a3f5f"
            },
            "marker": {
             "line": {
              "color": "#E5ECF6",
              "width": 0.5
             },
             "pattern": {
              "fillmode": "overlay",
              "size": 10,
              "solidity": 0.2
             }
            },
            "type": "bar"
           }
          ],
          "barpolar": [
           {
            "marker": {
             "line": {
              "color": "#E5ECF6",
              "width": 0.5
             },
             "pattern": {
              "fillmode": "overlay",
              "size": 10,
              "solidity": 0.2
             }
            },
            "type": "barpolar"
           }
          ],
          "carpet": [
           {
            "aaxis": {
             "endlinecolor": "#2a3f5f",
             "gridcolor": "white",
             "linecolor": "white",
             "minorgridcolor": "white",
             "startlinecolor": "#2a3f5f"
            },
            "baxis": {
             "endlinecolor": "#2a3f5f",
             "gridcolor": "white",
             "linecolor": "white",
             "minorgridcolor": "white",
             "startlinecolor": "#2a3f5f"
            },
            "type": "carpet"
           }
          ],
          "choropleth": [
           {
            "colorbar": {
             "outlinewidth": 0,
             "ticks": ""
            },
            "type": "choropleth"
           }
          ],
          "contour": [
           {
            "colorbar": {
             "outlinewidth": 0,
             "ticks": ""
            },
            "colorscale": [
             [
              0,
              "#0d0887"
             ],
             [
              0.1111111111111111,
              "#46039f"
             ],
             [
              0.2222222222222222,
              "#7201a8"
             ],
             [
              0.3333333333333333,
              "#9c179e"
             ],
             [
              0.4444444444444444,
              "#bd3786"
             ],
             [
              0.5555555555555556,
              "#d8576b"
             ],
             [
              0.6666666666666666,
              "#ed7953"
             ],
             [
              0.7777777777777778,
              "#fb9f3a"
             ],
             [
              0.8888888888888888,
              "#fdca26"
             ],
             [
              1,
              "#f0f921"
             ]
            ],
            "type": "contour"
           }
          ],
          "contourcarpet": [
           {
            "colorbar": {
             "outlinewidth": 0,
             "ticks": ""
            },
            "type": "contourcarpet"
           }
          ],
          "heatmap": [
           {
            "colorbar": {
             "outlinewidth": 0,
             "ticks": ""
            },
            "colorscale": [
             [
              0,
              "#0d0887"
             ],
             [
              0.1111111111111111,
              "#46039f"
             ],
             [
              0.2222222222222222,
              "#7201a8"
             ],
             [
              0.3333333333333333,
              "#9c179e"
             ],
             [
              0.4444444444444444,
              "#bd3786"
             ],
             [
              0.5555555555555556,
              "#d8576b"
             ],
             [
              0.6666666666666666,
              "#ed7953"
             ],
             [
              0.7777777777777778,
              "#fb9f3a"
             ],
             [
              0.8888888888888888,
              "#fdca26"
             ],
             [
              1,
              "#f0f921"
             ]
            ],
            "type": "heatmap"
           }
          ],
          "histogram": [
           {
            "marker": {
             "pattern": {
              "fillmode": "overlay",
              "size": 10,
              "solidity": 0.2
             }
            },
            "type": "histogram"
           }
          ],
          "histogram2d": [
           {
            "colorbar": {
             "outlinewidth": 0,
             "ticks": ""
            },
            "colorscale": [
             [
              0,
              "#0d0887"
             ],
             [
              0.1111111111111111,
              "#46039f"
             ],
             [
              0.2222222222222222,
              "#7201a8"
             ],
             [
              0.3333333333333333,
              "#9c179e"
             ],
             [
              0.4444444444444444,
              "#bd3786"
             ],
             [
              0.5555555555555556,
              "#d8576b"
             ],
             [
              0.6666666666666666,
              "#ed7953"
             ],
             [
              0.7777777777777778,
              "#fb9f3a"
             ],
             [
              0.8888888888888888,
              "#fdca26"
             ],
             [
              1,
              "#f0f921"
             ]
            ],
            "type": "histogram2d"
           }
          ],
          "histogram2dcontour": [
           {
            "colorbar": {
             "outlinewidth": 0,
             "ticks": ""
            },
            "colorscale": [
             [
              0,
              "#0d0887"
             ],
             [
              0.1111111111111111,
              "#46039f"
             ],
             [
              0.2222222222222222,
              "#7201a8"
             ],
             [
              0.3333333333333333,
              "#9c179e"
             ],
             [
              0.4444444444444444,
              "#bd3786"
             ],
             [
              0.5555555555555556,
              "#d8576b"
             ],
             [
              0.6666666666666666,
              "#ed7953"
             ],
             [
              0.7777777777777778,
              "#fb9f3a"
             ],
             [
              0.8888888888888888,
              "#fdca26"
             ],
             [
              1,
              "#f0f921"
             ]
            ],
            "type": "histogram2dcontour"
           }
          ],
          "mesh3d": [
           {
            "colorbar": {
             "outlinewidth": 0,
             "ticks": ""
            },
            "type": "mesh3d"
           }
          ],
          "parcoords": [
           {
            "line": {
             "colorbar": {
              "outlinewidth": 0,
              "ticks": ""
             }
            },
            "type": "parcoords"
           }
          ],
          "pie": [
           {
            "automargin": true,
            "type": "pie"
           }
          ],
          "scatter": [
           {
            "fillpattern": {
             "fillmode": "overlay",
             "size": 10,
             "solidity": 0.2
            },
            "type": "scatter"
           }
          ],
          "scatter3d": [
           {
            "line": {
             "colorbar": {
              "outlinewidth": 0,
              "ticks": ""
             }
            },
            "marker": {
             "colorbar": {
              "outlinewidth": 0,
              "ticks": ""
             }
            },
            "type": "scatter3d"
           }
          ],
          "scattercarpet": [
           {
            "marker": {
             "colorbar": {
              "outlinewidth": 0,
              "ticks": ""
             }
            },
            "type": "scattercarpet"
           }
          ],
          "scattergeo": [
           {
            "marker": {
             "colorbar": {
              "outlinewidth": 0,
              "ticks": ""
             }
            },
            "type": "scattergeo"
           }
          ],
          "scattergl": [
           {
            "marker": {
             "colorbar": {
              "outlinewidth": 0,
              "ticks": ""
             }
            },
            "type": "scattergl"
           }
          ],
          "scattermap": [
           {
            "marker": {
             "colorbar": {
              "outlinewidth": 0,
              "ticks": ""
             }
            },
            "type": "scattermap"
           }
          ],
          "scattermapbox": [
           {
            "marker": {
             "colorbar": {
              "outlinewidth": 0,
              "ticks": ""
             }
            },
            "type": "scattermapbox"
           }
          ],
          "scatterpolar": [
           {
            "marker": {
             "colorbar": {
              "outlinewidth": 0,
              "ticks": ""
             }
            },
            "type": "scatterpolar"
           }
          ],
          "scatterpolargl": [
           {
            "marker": {
             "colorbar": {
              "outlinewidth": 0,
              "ticks": ""
             }
            },
            "type": "scatterpolargl"
           }
          ],
          "scatterternary": [
           {
            "marker": {
             "colorbar": {
              "outlinewidth": 0,
              "ticks": ""
             }
            },
            "type": "scatterternary"
           }
          ],
          "surface": [
           {
            "colorbar": {
             "outlinewidth": 0,
             "ticks": ""
            },
            "colorscale": [
             [
              0,
              "#0d0887"
             ],
             [
              0.1111111111111111,
              "#46039f"
             ],
             [
              0.2222222222222222,
              "#7201a8"
             ],
             [
              0.3333333333333333,
              "#9c179e"
             ],
             [
              0.4444444444444444,
              "#bd3786"
             ],
             [
              0.5555555555555556,
              "#d8576b"
             ],
             [
              0.6666666666666666,
              "#ed7953"
             ],
             [
              0.7777777777777778,
              "#fb9f3a"
             ],
             [
              0.8888888888888888,
              "#fdca26"
             ],
             [
              1,
              "#f0f921"
             ]
            ],
            "type": "surface"
           }
          ],
          "table": [
           {
            "cells": {
             "fill": {
              "color": "#EBF0F8"
             },
             "line": {
              "color": "white"
             }
            },
            "header": {
             "fill": {
              "color": "#C8D4E3"
             },
             "line": {
              "color": "white"
             }
            },
            "type": "table"
           }
          ]
         },
         "layout": {
          "annotationdefaults": {
           "arrowcolor": "#2a3f5f",
           "arrowhead": 0,
           "arrowwidth": 1
          },
          "autotypenumbers": "strict",
          "coloraxis": {
           "colorbar": {
            "outlinewidth": 0,
            "ticks": ""
           }
          },
          "colorscale": {
           "diverging": [
            [
             0,
             "#8e0152"
            ],
            [
             0.1,
             "#c51b7d"
            ],
            [
             0.2,
             "#de77ae"
            ],
            [
             0.3,
             "#f1b6da"
            ],
            [
             0.4,
             "#fde0ef"
            ],
            [
             0.5,
             "#f7f7f7"
            ],
            [
             0.6,
             "#e6f5d0"
            ],
            [
             0.7,
             "#b8e186"
            ],
            [
             0.8,
             "#7fbc41"
            ],
            [
             0.9,
             "#4d9221"
            ],
            [
             1,
             "#276419"
            ]
           ],
           "sequential": [
            [
             0,
             "#0d0887"
            ],
            [
             0.1111111111111111,
             "#46039f"
            ],
            [
             0.2222222222222222,
             "#7201a8"
            ],
            [
             0.3333333333333333,
             "#9c179e"
            ],
            [
             0.4444444444444444,
             "#bd3786"
            ],
            [
             0.5555555555555556,
             "#d8576b"
            ],
            [
             0.6666666666666666,
             "#ed7953"
            ],
            [
             0.7777777777777778,
             "#fb9f3a"
            ],
            [
             0.8888888888888888,
             "#fdca26"
            ],
            [
             1,
             "#f0f921"
            ]
           ],
           "sequentialminus": [
            [
             0,
             "#0d0887"
            ],
            [
             0.1111111111111111,
             "#46039f"
            ],
            [
             0.2222222222222222,
             "#7201a8"
            ],
            [
             0.3333333333333333,
             "#9c179e"
            ],
            [
             0.4444444444444444,
             "#bd3786"
            ],
            [
             0.5555555555555556,
             "#d8576b"
            ],
            [
             0.6666666666666666,
             "#ed7953"
            ],
            [
             0.7777777777777778,
             "#fb9f3a"
            ],
            [
             0.8888888888888888,
             "#fdca26"
            ],
            [
             1,
             "#f0f921"
            ]
           ]
          },
          "colorway": [
           "#636efa",
           "#EF553B",
           "#00cc96",
           "#ab63fa",
           "#FFA15A",
           "#19d3f3",
           "#FF6692",
           "#B6E880",
           "#FF97FF",
           "#FECB52"
          ],
          "font": {
           "color": "#2a3f5f"
          },
          "geo": {
           "bgcolor": "white",
           "lakecolor": "white",
           "landcolor": "#E5ECF6",
           "showlakes": true,
           "showland": true,
           "subunitcolor": "white"
          },
          "hoverlabel": {
           "align": "left"
          },
          "hovermode": "closest",
          "mapbox": {
           "style": "light"
          },
          "paper_bgcolor": "white",
          "plot_bgcolor": "#E5ECF6",
          "polar": {
           "angularaxis": {
            "gridcolor": "white",
            "linecolor": "white",
            "ticks": ""
           },
           "bgcolor": "#E5ECF6",
           "radialaxis": {
            "gridcolor": "white",
            "linecolor": "white",
            "ticks": ""
           }
          },
          "scene": {
           "xaxis": {
            "backgroundcolor": "#E5ECF6",
            "gridcolor": "white",
            "gridwidth": 2,
            "linecolor": "white",
            "showbackground": true,
            "ticks": "",
            "zerolinecolor": "white"
           },
           "yaxis": {
            "backgroundcolor": "#E5ECF6",
            "gridcolor": "white",
            "gridwidth": 2,
            "linecolor": "white",
            "showbackground": true,
            "ticks": "",
            "zerolinecolor": "white"
           },
           "zaxis": {
            "backgroundcolor": "#E5ECF6",
            "gridcolor": "white",
            "gridwidth": 2,
            "linecolor": "white",
            "showbackground": true,
            "ticks": "",
            "zerolinecolor": "white"
           }
          },
          "shapedefaults": {
           "line": {
            "color": "#2a3f5f"
           }
          },
          "ternary": {
           "aaxis": {
            "gridcolor": "white",
            "linecolor": "white",
            "ticks": ""
           },
           "baxis": {
            "gridcolor": "white",
            "linecolor": "white",
            "ticks": ""
           },
           "bgcolor": "#E5ECF6",
           "caxis": {
            "gridcolor": "white",
            "linecolor": "white",
            "ticks": ""
           }
          },
          "title": {
           "x": 0.05
          },
          "xaxis": {
           "automargin": true,
           "gridcolor": "white",
           "linecolor": "white",
           "ticks": "",
           "title": {
            "standoff": 15
           },
           "zerolinecolor": "white",
           "zerolinewidth": 2
          },
          "yaxis": {
           "automargin": true,
           "gridcolor": "white",
           "linecolor": "white",
           "ticks": "",
           "title": {
            "standoff": 15
           },
           "zerolinecolor": "white",
           "zerolinewidth": 2
          }
         }
        },
        "title": {
         "text": "Топ-15 самых упоминаемых персон (все каналы)"
        },
        "xaxis": {
         "anchor": "y",
         "domain": [
          0,
          1
         ],
         "title": {
          "text": "Количество упоминаний"
         }
        },
        "yaxis": {
         "anchor": "x",
         "categoryorder": "total ascending",
         "domain": [
          0,
          1
         ],
         "title": {
          "text": "Имя"
         }
        }
       }
      }
     },
     "metadata": {},
     "output_type": "display_data"
    },
    {
     "data": {
      "application/vnd.plotly.v1+json": {
       "config": {
        "plotlyServerURL": "https://plot.ly"
       },
       "data": [
        {
         "name": "Упоминания",
         "type": "bar",
         "x": [
          "d_code",
          "rbc_news",
          "rian_ru",
          "kommersant",
          "tass_agency",
          "ENews112",
          "headlines_for_traders",
          "aviadispet4er",
          "mosrutop"
         ],
         "xaxis": "x",
         "y": [
          28,
          81,
          41,
          81,
          28,
          68,
          20,
          41,
          14
         ],
         "yaxis": "y"
        },
        {
         "name": "Уникальные персоны",
         "type": "bar",
         "x": [
          "d_code",
          "rbc_news",
          "rian_ru",
          "kommersant",
          "tass_agency",
          "ENews112",
          "headlines_for_traders",
          "aviadispet4er",
          "mosrutop"
         ],
         "xaxis": "x2",
         "y": [
          22,
          59,
          26,
          50,
          26,
          55,
          12,
          38,
          13
         ],
         "yaxis": "y2"
        }
       ],
       "layout": {
        "annotations": [
         {
          "font": {
           "size": 16
          },
          "showarrow": false,
          "text": "Общее количество упоминаний по каналам",
          "x": 0.225,
          "xanchor": "center",
          "xref": "paper",
          "y": 1,
          "yanchor": "bottom",
          "yref": "paper"
         },
         {
          "font": {
           "size": 16
          },
          "showarrow": false,
          "text": "Уникальные персоны по каналам",
          "x": 0.775,
          "xanchor": "center",
          "xref": "paper",
          "y": 1,
          "yanchor": "bottom",
          "yref": "paper"
         }
        ],
        "height": 500,
        "showlegend": true,
        "template": {
         "data": {
          "bar": [
           {
            "error_x": {
             "color": "#2a3f5f"
            },
            "error_y": {
             "color": "#2a3f5f"
            },
            "marker": {
             "line": {
              "color": "#E5ECF6",
              "width": 0.5
             },
             "pattern": {
              "fillmode": "overlay",
              "size": 10,
              "solidity": 0.2
             }
            },
            "type": "bar"
           }
          ],
          "barpolar": [
           {
            "marker": {
             "line": {
              "color": "#E5ECF6",
              "width": 0.5
             },
             "pattern": {
              "fillmode": "overlay",
              "size": 10,
              "solidity": 0.2
             }
            },
            "type": "barpolar"
           }
          ],
          "carpet": [
           {
            "aaxis": {
             "endlinecolor": "#2a3f5f",
             "gridcolor": "white",
             "linecolor": "white",
             "minorgridcolor": "white",
             "startlinecolor": "#2a3f5f"
            },
            "baxis": {
             "endlinecolor": "#2a3f5f",
             "gridcolor": "white",
             "linecolor": "white",
             "minorgridcolor": "white",
             "startlinecolor": "#2a3f5f"
            },
            "type": "carpet"
           }
          ],
          "choropleth": [
           {
            "colorbar": {
             "outlinewidth": 0,
             "ticks": ""
            },
            "type": "choropleth"
           }
          ],
          "contour": [
           {
            "colorbar": {
             "outlinewidth": 0,
             "ticks": ""
            },
            "colorscale": [
             [
              0,
              "#0d0887"
             ],
             [
              0.1111111111111111,
              "#46039f"
             ],
             [
              0.2222222222222222,
              "#7201a8"
             ],
             [
              0.3333333333333333,
              "#9c179e"
             ],
             [
              0.4444444444444444,
              "#bd3786"
             ],
             [
              0.5555555555555556,
              "#d8576b"
             ],
             [
              0.6666666666666666,
              "#ed7953"
             ],
             [
              0.7777777777777778,
              "#fb9f3a"
             ],
             [
              0.8888888888888888,
              "#fdca26"
             ],
             [
              1,
              "#f0f921"
             ]
            ],
            "type": "contour"
           }
          ],
          "contourcarpet": [
           {
            "colorbar": {
             "outlinewidth": 0,
             "ticks": ""
            },
            "type": "contourcarpet"
           }
          ],
          "heatmap": [
           {
            "colorbar": {
             "outlinewidth": 0,
             "ticks": ""
            },
            "colorscale": [
             [
              0,
              "#0d0887"
             ],
             [
              0.1111111111111111,
              "#46039f"
             ],
             [
              0.2222222222222222,
              "#7201a8"
             ],
             [
              0.3333333333333333,
              "#9c179e"
             ],
             [
              0.4444444444444444,
              "#bd3786"
             ],
             [
              0.5555555555555556,
              "#d8576b"
             ],
             [
              0.6666666666666666,
              "#ed7953"
             ],
             [
              0.7777777777777778,
              "#fb9f3a"
             ],
             [
              0.8888888888888888,
              "#fdca26"
             ],
             [
              1,
              "#f0f921"
             ]
            ],
            "type": "heatmap"
           }
          ],
          "histogram": [
           {
            "marker": {
             "pattern": {
              "fillmode": "overlay",
              "size": 10,
              "solidity": 0.2
             }
            },
            "type": "histogram"
           }
          ],
          "histogram2d": [
           {
            "colorbar": {
             "outlinewidth": 0,
             "ticks": ""
            },
            "colorscale": [
             [
              0,
              "#0d0887"
             ],
             [
              0.1111111111111111,
              "#46039f"
             ],
             [
              0.2222222222222222,
              "#7201a8"
             ],
             [
              0.3333333333333333,
              "#9c179e"
             ],
             [
              0.4444444444444444,
              "#bd3786"
             ],
             [
              0.5555555555555556,
              "#d8576b"
             ],
             [
              0.6666666666666666,
              "#ed7953"
             ],
             [
              0.7777777777777778,
              "#fb9f3a"
             ],
             [
              0.8888888888888888,
              "#fdca26"
             ],
             [
              1,
              "#f0f921"
             ]
            ],
            "type": "histogram2d"
           }
          ],
          "histogram2dcontour": [
           {
            "colorbar": {
             "outlinewidth": 0,
             "ticks": ""
            },
            "colorscale": [
             [
              0,
              "#0d0887"
             ],
             [
              0.1111111111111111,
              "#46039f"
             ],
             [
              0.2222222222222222,
              "#7201a8"
             ],
             [
              0.3333333333333333,
              "#9c179e"
             ],
             [
              0.4444444444444444,
              "#bd3786"
             ],
             [
              0.5555555555555556,
              "#d8576b"
             ],
             [
              0.6666666666666666,
              "#ed7953"
             ],
             [
              0.7777777777777778,
              "#fb9f3a"
             ],
             [
              0.8888888888888888,
              "#fdca26"
             ],
             [
              1,
              "#f0f921"
             ]
            ],
            "type": "histogram2dcontour"
           }
          ],
          "mesh3d": [
           {
            "colorbar": {
             "outlinewidth": 0,
             "ticks": ""
            },
            "type": "mesh3d"
           }
          ],
          "parcoords": [
           {
            "line": {
             "colorbar": {
              "outlinewidth": 0,
              "ticks": ""
             }
            },
            "type": "parcoords"
           }
          ],
          "pie": [
           {
            "automargin": true,
            "type": "pie"
           }
          ],
          "scatter": [
           {
            "fillpattern": {
             "fillmode": "overlay",
             "size": 10,
             "solidity": 0.2
            },
            "type": "scatter"
           }
          ],
          "scatter3d": [
           {
            "line": {
             "colorbar": {
              "outlinewidth": 0,
              "ticks": ""
             }
            },
            "marker": {
             "colorbar": {
              "outlinewidth": 0,
              "ticks": ""
             }
            },
            "type": "scatter3d"
           }
          ],
          "scattercarpet": [
           {
            "marker": {
             "colorbar": {
              "outlinewidth": 0,
              "ticks": ""
             }
            },
            "type": "scattercarpet"
           }
          ],
          "scattergeo": [
           {
            "marker": {
             "colorbar": {
              "outlinewidth": 0,
              "ticks": ""
             }
            },
            "type": "scattergeo"
           }
          ],
          "scattergl": [
           {
            "marker": {
             "colorbar": {
              "outlinewidth": 0,
              "ticks": ""
             }
            },
            "type": "scattergl"
           }
          ],
          "scattermap": [
           {
            "marker": {
             "colorbar": {
              "outlinewidth": 0,
              "ticks": ""
             }
            },
            "type": "scattermap"
           }
          ],
          "scattermapbox": [
           {
            "marker": {
             "colorbar": {
              "outlinewidth": 0,
              "ticks": ""
             }
            },
            "type": "scattermapbox"
           }
          ],
          "scatterpolar": [
           {
            "marker": {
             "colorbar": {
              "outlinewidth": 0,
              "ticks": ""
             }
            },
            "type": "scatterpolar"
           }
          ],
          "scatterpolargl": [
           {
            "marker": {
             "colorbar": {
              "outlinewidth": 0,
              "ticks": ""
             }
            },
            "type": "scatterpolargl"
           }
          ],
          "scatterternary": [
           {
            "marker": {
             "colorbar": {
              "outlinewidth": 0,
              "ticks": ""
             }
            },
            "type": "scatterternary"
           }
          ],
          "surface": [
           {
            "colorbar": {
             "outlinewidth": 0,
             "ticks": ""
            },
            "colorscale": [
             [
              0,
              "#0d0887"
             ],
             [
              0.1111111111111111,
              "#46039f"
             ],
             [
              0.2222222222222222,
              "#7201a8"
             ],
             [
              0.3333333333333333,
              "#9c179e"
             ],
             [
              0.4444444444444444,
              "#bd3786"
             ],
             [
              0.5555555555555556,
              "#d8576b"
             ],
             [
              0.6666666666666666,
              "#ed7953"
             ],
             [
              0.7777777777777778,
              "#fb9f3a"
             ],
             [
              0.8888888888888888,
              "#fdca26"
             ],
             [
              1,
              "#f0f921"
             ]
            ],
            "type": "surface"
           }
          ],
          "table": [
           {
            "cells": {
             "fill": {
              "color": "#EBF0F8"
             },
             "line": {
              "color": "white"
             }
            },
            "header": {
             "fill": {
              "color": "#C8D4E3"
             },
             "line": {
              "color": "white"
             }
            },
            "type": "table"
           }
          ]
         },
         "layout": {
          "annotationdefaults": {
           "arrowcolor": "#2a3f5f",
           "arrowhead": 0,
           "arrowwidth": 1
          },
          "autotypenumbers": "strict",
          "coloraxis": {
           "colorbar": {
            "outlinewidth": 0,
            "ticks": ""
           }
          },
          "colorscale": {
           "diverging": [
            [
             0,
             "#8e0152"
            ],
            [
             0.1,
             "#c51b7d"
            ],
            [
             0.2,
             "#de77ae"
            ],
            [
             0.3,
             "#f1b6da"
            ],
            [
             0.4,
             "#fde0ef"
            ],
            [
             0.5,
             "#f7f7f7"
            ],
            [
             0.6,
             "#e6f5d0"
            ],
            [
             0.7,
             "#b8e186"
            ],
            [
             0.8,
             "#7fbc41"
            ],
            [
             0.9,
             "#4d9221"
            ],
            [
             1,
             "#276419"
            ]
           ],
           "sequential": [
            [
             0,
             "#0d0887"
            ],
            [
             0.1111111111111111,
             "#46039f"
            ],
            [
             0.2222222222222222,
             "#7201a8"
            ],
            [
             0.3333333333333333,
             "#9c179e"
            ],
            [
             0.4444444444444444,
             "#bd3786"
            ],
            [
             0.5555555555555556,
             "#d8576b"
            ],
            [
             0.6666666666666666,
             "#ed7953"
            ],
            [
             0.7777777777777778,
             "#fb9f3a"
            ],
            [
             0.8888888888888888,
             "#fdca26"
            ],
            [
             1,
             "#f0f921"
            ]
           ],
           "sequentialminus": [
            [
             0,
             "#0d0887"
            ],
            [
             0.1111111111111111,
             "#46039f"
            ],
            [
             0.2222222222222222,
             "#7201a8"
            ],
            [
             0.3333333333333333,
             "#9c179e"
            ],
            [
             0.4444444444444444,
             "#bd3786"
            ],
            [
             0.5555555555555556,
             "#d8576b"
            ],
            [
             0.6666666666666666,
             "#ed7953"
            ],
            [
             0.7777777777777778,
             "#fb9f3a"
            ],
            [
             0.8888888888888888,
             "#fdca26"
            ],
            [
             1,
             "#f0f921"
            ]
           ]
          },
          "colorway": [
           "#636efa",
           "#EF553B",
           "#00cc96",
           "#ab63fa",
           "#FFA15A",
           "#19d3f3",
           "#FF6692",
           "#B6E880",
           "#FF97FF",
           "#FECB52"
          ],
          "font": {
           "color": "#2a3f5f"
          },
          "geo": {
           "bgcolor": "white",
           "lakecolor": "white",
           "landcolor": "#E5ECF6",
           "showlakes": true,
           "showland": true,
           "subunitcolor": "white"
          },
          "hoverlabel": {
           "align": "left"
          },
          "hovermode": "closest",
          "mapbox": {
           "style": "light"
          },
          "paper_bgcolor": "white",
          "plot_bgcolor": "#E5ECF6",
          "polar": {
           "angularaxis": {
            "gridcolor": "white",
            "linecolor": "white",
            "ticks": ""
           },
           "bgcolor": "#E5ECF6",
           "radialaxis": {
            "gridcolor": "white",
            "linecolor": "white",
            "ticks": ""
           }
          },
          "scene": {
           "xaxis": {
            "backgroundcolor": "#E5ECF6",
            "gridcolor": "white",
            "gridwidth": 2,
            "linecolor": "white",
            "showbackground": true,
            "ticks": "",
            "zerolinecolor": "white"
           },
           "yaxis": {
            "backgroundcolor": "#E5ECF6",
            "gridcolor": "white",
            "gridwidth": 2,
            "linecolor": "white",
            "showbackground": true,
            "ticks": "",
            "zerolinecolor": "white"
           },
           "zaxis": {
            "backgroundcolor": "#E5ECF6",
            "gridcolor": "white",
            "gridwidth": 2,
            "linecolor": "white",
            "showbackground": true,
            "ticks": "",
            "zerolinecolor": "white"
           }
          },
          "shapedefaults": {
           "line": {
            "color": "#2a3f5f"
           }
          },
          "ternary": {
           "aaxis": {
            "gridcolor": "white",
            "linecolor": "white",
            "ticks": ""
           },
           "baxis": {
            "gridcolor": "white",
            "linecolor": "white",
            "ticks": ""
           },
           "bgcolor": "#E5ECF6",
           "caxis": {
            "gridcolor": "white",
            "linecolor": "white",
            "ticks": ""
           }
          },
          "title": {
           "x": 0.05
          },
          "xaxis": {
           "automargin": true,
           "gridcolor": "white",
           "linecolor": "white",
           "ticks": "",
           "title": {
            "standoff": 15
           },
           "zerolinecolor": "white",
           "zerolinewidth": 2
          },
          "yaxis": {
           "automargin": true,
           "gridcolor": "white",
           "linecolor": "white",
           "ticks": "",
           "title": {
            "standoff": 15
           },
           "zerolinecolor": "white",
           "zerolinewidth": 2
          }
         }
        },
        "xaxis": {
         "anchor": "y",
         "domain": [
          0,
          0.45
         ],
         "tickangle": -45
        },
        "xaxis2": {
         "anchor": "y2",
         "domain": [
          0.55,
          1
         ]
        },
        "yaxis": {
         "anchor": "x",
         "domain": [
          0,
          1
         ]
        },
        "yaxis2": {
         "anchor": "x2",
         "domain": [
          0,
          1
         ]
        }
       }
      }
     },
     "metadata": {},
     "output_type": "display_data"
    },
    {
     "data": {
      "application/vnd.plotly.v1+json": {
       "config": {
        "plotlyServerURL": "https://plot.ly"
       },
       "data": [
        {
         "hovertemplate": "Упоминания=%{x}<br>Имя=%{y}<extra></extra>",
         "legendgroup": "",
         "marker": {
          "color": "#636efa",
          "pattern": {
           "shape": ""
          }
         },
         "name": "",
         "orientation": "h",
         "showlegend": false,
         "textposition": "auto",
         "type": "bar",
         "x": {
          "bdata": "BAMCAQEBAQE=",
          "dtype": "i1"
         },
         "xaxis": "x",
         "y": [
          "Дуров",
          "Павел Дуров",
          "Минцифры",
          "Нурлан Сабуров",
          "Сабуров",
          "Жаслан Мадиев",
          "Касым-Жомарт Токаевым",
          "Комментаторы"
         ],
         "yaxis": "y"
        }
       ],
       "layout": {
        "barmode": "relative",
        "height": 300,
        "legend": {
         "tracegroupgap": 0
        },
        "template": {
         "data": {
          "bar": [
           {
            "error_x": {
             "color": "#2a3f5f"
            },
            "error_y": {
             "color": "#2a3f5f"
            },
            "marker": {
             "line": {
              "color": "#E5ECF6",
              "width": 0.5
             },
             "pattern": {
              "fillmode": "overlay",
              "size": 10,
              "solidity": 0.2
             }
            },
            "type": "bar"
           }
          ],
          "barpolar": [
           {
            "marker": {
             "line": {
              "color": "#E5ECF6",
              "width": 0.5
             },
             "pattern": {
              "fillmode": "overlay",
              "size": 10,
              "solidity": 0.2
             }
            },
            "type": "barpolar"
           }
          ],
          "carpet": [
           {
            "aaxis": {
             "endlinecolor": "#2a3f5f",
             "gridcolor": "white",
             "linecolor": "white",
             "minorgridcolor": "white",
             "startlinecolor": "#2a3f5f"
            },
            "baxis": {
             "endlinecolor": "#2a3f5f",
             "gridcolor": "white",
             "linecolor": "white",
             "minorgridcolor": "white",
             "startlinecolor": "#2a3f5f"
            },
            "type": "carpet"
           }
          ],
          "choropleth": [
           {
            "colorbar": {
             "outlinewidth": 0,
             "ticks": ""
            },
            "type": "choropleth"
           }
          ],
          "contour": [
           {
            "colorbar": {
             "outlinewidth": 0,
             "ticks": ""
            },
            "colorscale": [
             [
              0,
              "#0d0887"
             ],
             [
              0.1111111111111111,
              "#46039f"
             ],
             [
              0.2222222222222222,
              "#7201a8"
             ],
             [
              0.3333333333333333,
              "#9c179e"
             ],
             [
              0.4444444444444444,
              "#bd3786"
             ],
             [
              0.5555555555555556,
              "#d8576b"
             ],
             [
              0.6666666666666666,
              "#ed7953"
             ],
             [
              0.7777777777777778,
              "#fb9f3a"
             ],
             [
              0.8888888888888888,
              "#fdca26"
             ],
             [
              1,
              "#f0f921"
             ]
            ],
            "type": "contour"
           }
          ],
          "contourcarpet": [
           {
            "colorbar": {
             "outlinewidth": 0,
             "ticks": ""
            },
            "type": "contourcarpet"
           }
          ],
          "heatmap": [
           {
            "colorbar": {
             "outlinewidth": 0,
             "ticks": ""
            },
            "colorscale": [
             [
              0,
              "#0d0887"
             ],
             [
              0.1111111111111111,
              "#46039f"
             ],
             [
              0.2222222222222222,
              "#7201a8"
             ],
             [
              0.3333333333333333,
              "#9c179e"
             ],
             [
              0.4444444444444444,
              "#bd3786"
             ],
             [
              0.5555555555555556,
              "#d8576b"
             ],
             [
              0.6666666666666666,
              "#ed7953"
             ],
             [
              0.7777777777777778,
              "#fb9f3a"
             ],
             [
              0.8888888888888888,
              "#fdca26"
             ],
             [
              1,
              "#f0f921"
             ]
            ],
            "type": "heatmap"
           }
          ],
          "histogram": [
           {
            "marker": {
             "pattern": {
              "fillmode": "overlay",
              "size": 10,
              "solidity": 0.2
             }
            },
            "type": "histogram"
           }
          ],
          "histogram2d": [
           {
            "colorbar": {
             "outlinewidth": 0,
             "ticks": ""
            },
            "colorscale": [
             [
              0,
              "#0d0887"
             ],
             [
              0.1111111111111111,
              "#46039f"
             ],
             [
              0.2222222222222222,
              "#7201a8"
             ],
             [
              0.3333333333333333,
              "#9c179e"
             ],
             [
              0.4444444444444444,
              "#bd3786"
             ],
             [
              0.5555555555555556,
              "#d8576b"
             ],
             [
              0.6666666666666666,
              "#ed7953"
             ],
             [
              0.7777777777777778,
              "#fb9f3a"
             ],
             [
              0.8888888888888888,
              "#fdca26"
             ],
             [
              1,
              "#f0f921"
             ]
            ],
            "type": "histogram2d"
           }
          ],
          "histogram2dcontour": [
           {
            "colorbar": {
             "outlinewidth": 0,
             "ticks": ""
            },
            "colorscale": [
             [
              0,
              "#0d0887"
             ],
             [
              0.1111111111111111,
              "#46039f"
             ],
             [
              0.2222222222222222,
              "#7201a8"
             ],
             [
              0.3333333333333333,
              "#9c179e"
             ],
             [
              0.4444444444444444,
              "#bd3786"
             ],
             [
              0.5555555555555556,
              "#d8576b"
             ],
             [
              0.6666666666666666,
              "#ed7953"
             ],
             [
              0.7777777777777778,
              "#fb9f3a"
             ],
             [
              0.8888888888888888,
              "#fdca26"
             ],
             [
              1,
              "#f0f921"
             ]
            ],
            "type": "histogram2dcontour"
           }
          ],
          "mesh3d": [
           {
            "colorbar": {
             "outlinewidth": 0,
             "ticks": ""
            },
            "type": "mesh3d"
           }
          ],
          "parcoords": [
           {
            "line": {
             "colorbar": {
              "outlinewidth": 0,
              "ticks": ""
             }
            },
            "type": "parcoords"
           }
          ],
          "pie": [
           {
            "automargin": true,
            "type": "pie"
           }
          ],
          "scatter": [
           {
            "fillpattern": {
             "fillmode": "overlay",
             "size": 10,
             "solidity": 0.2
            },
            "type": "scatter"
           }
          ],
          "scatter3d": [
           {
            "line": {
             "colorbar": {
              "outlinewidth": 0,
              "ticks": ""
             }
            },
            "marker": {
             "colorbar": {
              "outlinewidth": 0,
              "ticks": ""
             }
            },
            "type": "scatter3d"
           }
          ],
          "scattercarpet": [
           {
            "marker": {
             "colorbar": {
              "outlinewidth": 0,
              "ticks": ""
             }
            },
            "type": "scattercarpet"
           }
          ],
          "scattergeo": [
           {
            "marker": {
             "colorbar": {
              "outlinewidth": 0,
              "ticks": ""
             }
            },
            "type": "scattergeo"
           }
          ],
          "scattergl": [
           {
            "marker": {
             "colorbar": {
              "outlinewidth": 0,
              "ticks": ""
             }
            },
            "type": "scattergl"
           }
          ],
          "scattermap": [
           {
            "marker": {
             "colorbar": {
              "outlinewidth": 0,
              "ticks": ""
             }
            },
            "type": "scattermap"
           }
          ],
          "scattermapbox": [
           {
            "marker": {
             "colorbar": {
              "outlinewidth": 0,
              "ticks": ""
             }
            },
            "type": "scattermapbox"
           }
          ],
          "scatterpolar": [
           {
            "marker": {
             "colorbar": {
              "outlinewidth": 0,
              "ticks": ""
             }
            },
            "type": "scatterpolar"
           }
          ],
          "scatterpolargl": [
           {
            "marker": {
             "colorbar": {
              "outlinewidth": 0,
              "ticks": ""
             }
            },
            "type": "scatterpolargl"
           }
          ],
          "scatterternary": [
           {
            "marker": {
             "colorbar": {
              "outlinewidth": 0,
              "ticks": ""
             }
            },
            "type": "scatterternary"
           }
          ],
          "surface": [
           {
            "colorbar": {
             "outlinewidth": 0,
             "ticks": ""
            },
            "colorscale": [
             [
              0,
              "#0d0887"
             ],
             [
              0.1111111111111111,
              "#46039f"
             ],
             [
              0.2222222222222222,
              "#7201a8"
             ],
             [
              0.3333333333333333,
              "#9c179e"
             ],
             [
              0.4444444444444444,
              "#bd3786"
             ],
             [
              0.5555555555555556,
              "#d8576b"
             ],
             [
              0.6666666666666666,
              "#ed7953"
             ],
             [
              0.7777777777777778,
              "#fb9f3a"
             ],
             [
              0.8888888888888888,
              "#fdca26"
             ],
             [
              1,
              "#f0f921"
             ]
            ],
            "type": "surface"
           }
          ],
          "table": [
           {
            "cells": {
             "fill": {
              "color": "#EBF0F8"
             },
             "line": {
              "color": "white"
             }
            },
            "header": {
             "fill": {
              "color": "#C8D4E3"
             },
             "line": {
              "color": "white"
             }
            },
            "type": "table"
           }
          ]
         },
         "layout": {
          "annotationdefaults": {
           "arrowcolor": "#2a3f5f",
           "arrowhead": 0,
           "arrowwidth": 1
          },
          "autotypenumbers": "strict",
          "coloraxis": {
           "colorbar": {
            "outlinewidth": 0,
            "ticks": ""
           }
          },
          "colorscale": {
           "diverging": [
            [
             0,
             "#8e0152"
            ],
            [
             0.1,
             "#c51b7d"
            ],
            [
             0.2,
             "#de77ae"
            ],
            [
             0.3,
             "#f1b6da"
            ],
            [
             0.4,
             "#fde0ef"
            ],
            [
             0.5,
             "#f7f7f7"
            ],
            [
             0.6,
             "#e6f5d0"
            ],
            [
             0.7,
             "#b8e186"
            ],
            [
             0.8,
             "#7fbc41"
            ],
            [
             0.9,
             "#4d9221"
            ],
            [
             1,
             "#276419"
            ]
           ],
           "sequential": [
            [
             0,
             "#0d0887"
            ],
            [
             0.1111111111111111,
             "#46039f"
            ],
            [
             0.2222222222222222,
             "#7201a8"
            ],
            [
             0.3333333333333333,
             "#9c179e"
            ],
            [
             0.4444444444444444,
             "#bd3786"
            ],
            [
             0.5555555555555556,
             "#d8576b"
            ],
            [
             0.6666666666666666,
             "#ed7953"
            ],
            [
             0.7777777777777778,
             "#fb9f3a"
            ],
            [
             0.8888888888888888,
             "#fdca26"
            ],
            [
             1,
             "#f0f921"
            ]
           ],
           "sequentialminus": [
            [
             0,
             "#0d0887"
            ],
            [
             0.1111111111111111,
             "#46039f"
            ],
            [
             0.2222222222222222,
             "#7201a8"
            ],
            [
             0.3333333333333333,
             "#9c179e"
            ],
            [
             0.4444444444444444,
             "#bd3786"
            ],
            [
             0.5555555555555556,
             "#d8576b"
            ],
            [
             0.6666666666666666,
             "#ed7953"
            ],
            [
             0.7777777777777778,
             "#fb9f3a"
            ],
            [
             0.8888888888888888,
             "#fdca26"
            ],
            [
             1,
             "#f0f921"
            ]
           ]
          },
          "colorway": [
           "#636efa",
           "#EF553B",
           "#00cc96",
           "#ab63fa",
           "#FFA15A",
           "#19d3f3",
           "#FF6692",
           "#B6E880",
           "#FF97FF",
           "#FECB52"
          ],
          "font": {
           "color": "#2a3f5f"
          },
          "geo": {
           "bgcolor": "white",
           "lakecolor": "white",
           "landcolor": "#E5ECF6",
           "showlakes": true,
           "showland": true,
           "subunitcolor": "white"
          },
          "hoverlabel": {
           "align": "left"
          },
          "hovermode": "closest",
          "mapbox": {
           "style": "light"
          },
          "paper_bgcolor": "white",
          "plot_bgcolor": "#E5ECF6",
          "polar": {
           "angularaxis": {
            "gridcolor": "white",
            "linecolor": "white",
            "ticks": ""
           },
           "bgcolor": "#E5ECF6",
           "radialaxis": {
            "gridcolor": "white",
            "linecolor": "white",
            "ticks": ""
           }
          },
          "scene": {
           "xaxis": {
            "backgroundcolor": "#E5ECF6",
            "gridcolor": "white",
            "gridwidth": 2,
            "linecolor": "white",
            "showbackground": true,
            "ticks": "",
            "zerolinecolor": "white"
           },
           "yaxis": {
            "backgroundcolor": "#E5ECF6",
            "gridcolor": "white",
            "gridwidth": 2,
            "linecolor": "white",
            "showbackground": true,
            "ticks": "",
            "zerolinecolor": "white"
           },
           "zaxis": {
            "backgroundcolor": "#E5ECF6",
            "gridcolor": "white",
            "gridwidth": 2,
            "linecolor": "white",
            "showbackground": true,
            "ticks": "",
            "zerolinecolor": "white"
           }
          },
          "shapedefaults": {
           "line": {
            "color": "#2a3f5f"
           }
          },
          "ternary": {
           "aaxis": {
            "gridcolor": "white",
            "linecolor": "white",
            "ticks": ""
           },
           "baxis": {
            "gridcolor": "white",
            "linecolor": "white",
            "ticks": ""
           },
           "bgcolor": "#E5ECF6",
           "caxis": {
            "gridcolor": "white",
            "linecolor": "white",
            "ticks": ""
           }
          },
          "title": {
           "x": 0.05
          },
          "xaxis": {
           "automargin": true,
           "gridcolor": "white",
           "linecolor": "white",
           "ticks": "",
           "title": {
            "standoff": 15
           },
           "zerolinecolor": "white",
           "zerolinewidth": 2
          },
          "yaxis": {
           "automargin": true,
           "gridcolor": "white",
           "linecolor": "white",
           "ticks": "",
           "title": {
            "standoff": 15
           },
           "zerolinecolor": "white",
           "zerolinewidth": 2
          }
         }
        },
        "title": {
         "text": "Топ упоминаемых персон в канале: d_code"
        },
        "xaxis": {
         "anchor": "y",
         "domain": [
          0,
          1
         ],
         "title": {
          "text": "Упоминания"
         }
        },
        "yaxis": {
         "anchor": "x",
         "categoryorder": "total ascending",
         "domain": [
          0,
          1
         ],
         "title": {
          "text": "Имя"
         }
        }
       }
      }
     },
     "metadata": {},
     "output_type": "display_data"
    },
    {
     "data": {
      "application/vnd.plotly.v1+json": {
       "config": {
        "plotlyServerURL": "https://plot.ly"
       },
       "data": [
        {
         "hovertemplate": "Упоминания=%{x}<br>Имя=%{y}<extra></extra>",
         "legendgroup": "",
         "marker": {
          "color": "#636efa",
          "pattern": {
           "shape": ""
          }
         },
         "name": "",
         "orientation": "h",
         "showlegend": false,
         "textposition": "auto",
         "type": "bar",
         "x": {
          "bdata": "BQQEAwMDAwI=",
          "dtype": "i1"
         },
         "xaxis": "x",
         "y": [
          "Трамп",
          "Юрий Грымов",
          "Грымов",
          "Владимир Путин",
          "Маск",
          "Черкашин",
          "Путин",
          "Сорен Андерсен"
         ],
         "yaxis": "y"
        }
       ],
       "layout": {
        "barmode": "relative",
        "height": 300,
        "legend": {
         "tracegroupgap": 0
        },
        "template": {
         "data": {
          "bar": [
           {
            "error_x": {
             "color": "#2a3f5f"
            },
            "error_y": {
             "color": "#2a3f5f"
            },
            "marker": {
             "line": {
              "color": "#E5ECF6",
              "width": 0.5
             },
             "pattern": {
              "fillmode": "overlay",
              "size": 10,
              "solidity": 0.2
             }
            },
            "type": "bar"
           }
          ],
          "barpolar": [
           {
            "marker": {
             "line": {
              "color": "#E5ECF6",
              "width": 0.5
             },
             "pattern": {
              "fillmode": "overlay",
              "size": 10,
              "solidity": 0.2
             }
            },
            "type": "barpolar"
           }
          ],
          "carpet": [
           {
            "aaxis": {
             "endlinecolor": "#2a3f5f",
             "gridcolor": "white",
             "linecolor": "white",
             "minorgridcolor": "white",
             "startlinecolor": "#2a3f5f"
            },
            "baxis": {
             "endlinecolor": "#2a3f5f",
             "gridcolor": "white",
             "linecolor": "white",
             "minorgridcolor": "white",
             "startlinecolor": "#2a3f5f"
            },
            "type": "carpet"
           }
          ],
          "choropleth": [
           {
            "colorbar": {
             "outlinewidth": 0,
             "ticks": ""
            },
            "type": "choropleth"
           }
          ],
          "contour": [
           {
            "colorbar": {
             "outlinewidth": 0,
             "ticks": ""
            },
            "colorscale": [
             [
              0,
              "#0d0887"
             ],
             [
              0.1111111111111111,
              "#46039f"
             ],
             [
              0.2222222222222222,
              "#7201a8"
             ],
             [
              0.3333333333333333,
              "#9c179e"
             ],
             [
              0.4444444444444444,
              "#bd3786"
             ],
             [
              0.5555555555555556,
              "#d8576b"
             ],
             [
              0.6666666666666666,
              "#ed7953"
             ],
             [
              0.7777777777777778,
              "#fb9f3a"
             ],
             [
              0.8888888888888888,
              "#fdca26"
             ],
             [
              1,
              "#f0f921"
             ]
            ],
            "type": "contour"
           }
          ],
          "contourcarpet": [
           {
            "colorbar": {
             "outlinewidth": 0,
             "ticks": ""
            },
            "type": "contourcarpet"
           }
          ],
          "heatmap": [
           {
            "colorbar": {
             "outlinewidth": 0,
             "ticks": ""
            },
            "colorscale": [
             [
              0,
              "#0d0887"
             ],
             [
              0.1111111111111111,
              "#46039f"
             ],
             [
              0.2222222222222222,
              "#7201a8"
             ],
             [
              0.3333333333333333,
              "#9c179e"
             ],
             [
              0.4444444444444444,
              "#bd3786"
             ],
             [
              0.5555555555555556,
              "#d8576b"
             ],
             [
              0.6666666666666666,
              "#ed7953"
             ],
             [
              0.7777777777777778,
              "#fb9f3a"
             ],
             [
              0.8888888888888888,
              "#fdca26"
             ],
             [
              1,
              "#f0f921"
             ]
            ],
            "type": "heatmap"
           }
          ],
          "histogram": [
           {
            "marker": {
             "pattern": {
              "fillmode": "overlay",
              "size": 10,
              "solidity": 0.2
             }
            },
            "type": "histogram"
           }
          ],
          "histogram2d": [
           {
            "colorbar": {
             "outlinewidth": 0,
             "ticks": ""
            },
            "colorscale": [
             [
              0,
              "#0d0887"
             ],
             [
              0.1111111111111111,
              "#46039f"
             ],
             [
              0.2222222222222222,
              "#7201a8"
             ],
             [
              0.3333333333333333,
              "#9c179e"
             ],
             [
              0.4444444444444444,
              "#bd3786"
             ],
             [
              0.5555555555555556,
              "#d8576b"
             ],
             [
              0.6666666666666666,
              "#ed7953"
             ],
             [
              0.7777777777777778,
              "#fb9f3a"
             ],
             [
              0.8888888888888888,
              "#fdca26"
             ],
             [
              1,
              "#f0f921"
             ]
            ],
            "type": "histogram2d"
           }
          ],
          "histogram2dcontour": [
           {
            "colorbar": {
             "outlinewidth": 0,
             "ticks": ""
            },
            "colorscale": [
             [
              0,
              "#0d0887"
             ],
             [
              0.1111111111111111,
              "#46039f"
             ],
             [
              0.2222222222222222,
              "#7201a8"
             ],
             [
              0.3333333333333333,
              "#9c179e"
             ],
             [
              0.4444444444444444,
              "#bd3786"
             ],
             [
              0.5555555555555556,
              "#d8576b"
             ],
             [
              0.6666666666666666,
              "#ed7953"
             ],
             [
              0.7777777777777778,
              "#fb9f3a"
             ],
             [
              0.8888888888888888,
              "#fdca26"
             ],
             [
              1,
              "#f0f921"
             ]
            ],
            "type": "histogram2dcontour"
           }
          ],
          "mesh3d": [
           {
            "colorbar": {
             "outlinewidth": 0,
             "ticks": ""
            },
            "type": "mesh3d"
           }
          ],
          "parcoords": [
           {
            "line": {
             "colorbar": {
              "outlinewidth": 0,
              "ticks": ""
             }
            },
            "type": "parcoords"
           }
          ],
          "pie": [
           {
            "automargin": true,
            "type": "pie"
           }
          ],
          "scatter": [
           {
            "fillpattern": {
             "fillmode": "overlay",
             "size": 10,
             "solidity": 0.2
            },
            "type": "scatter"
           }
          ],
          "scatter3d": [
           {
            "line": {
             "colorbar": {
              "outlinewidth": 0,
              "ticks": ""
             }
            },
            "marker": {
             "colorbar": {
              "outlinewidth": 0,
              "ticks": ""
             }
            },
            "type": "scatter3d"
           }
          ],
          "scattercarpet": [
           {
            "marker": {
             "colorbar": {
              "outlinewidth": 0,
              "ticks": ""
             }
            },
            "type": "scattercarpet"
           }
          ],
          "scattergeo": [
           {
            "marker": {
             "colorbar": {
              "outlinewidth": 0,
              "ticks": ""
             }
            },
            "type": "scattergeo"
           }
          ],
          "scattergl": [
           {
            "marker": {
             "colorbar": {
              "outlinewidth": 0,
              "ticks": ""
             }
            },
            "type": "scattergl"
           }
          ],
          "scattermap": [
           {
            "marker": {
             "colorbar": {
              "outlinewidth": 0,
              "ticks": ""
             }
            },
            "type": "scattermap"
           }
          ],
          "scattermapbox": [
           {
            "marker": {
             "colorbar": {
              "outlinewidth": 0,
              "ticks": ""
             }
            },
            "type": "scattermapbox"
           }
          ],
          "scatterpolar": [
           {
            "marker": {
             "colorbar": {
              "outlinewidth": 0,
              "ticks": ""
             }
            },
            "type": "scatterpolar"
           }
          ],
          "scatterpolargl": [
           {
            "marker": {
             "colorbar": {
              "outlinewidth": 0,
              "ticks": ""
             }
            },
            "type": "scatterpolargl"
           }
          ],
          "scatterternary": [
           {
            "marker": {
             "colorbar": {
              "outlinewidth": 0,
              "ticks": ""
             }
            },
            "type": "scatterternary"
           }
          ],
          "surface": [
           {
            "colorbar": {
             "outlinewidth": 0,
             "ticks": ""
            },
            "colorscale": [
             [
              0,
              "#0d0887"
             ],
             [
              0.1111111111111111,
              "#46039f"
             ],
             [
              0.2222222222222222,
              "#7201a8"
             ],
             [
              0.3333333333333333,
              "#9c179e"
             ],
             [
              0.4444444444444444,
              "#bd3786"
             ],
             [
              0.5555555555555556,
              "#d8576b"
             ],
             [
              0.6666666666666666,
              "#ed7953"
             ],
             [
              0.7777777777777778,
              "#fb9f3a"
             ],
             [
              0.8888888888888888,
              "#fdca26"
             ],
             [
              1,
              "#f0f921"
             ]
            ],
            "type": "surface"
           }
          ],
          "table": [
           {
            "cells": {
             "fill": {
              "color": "#EBF0F8"
             },
             "line": {
              "color": "white"
             }
            },
            "header": {
             "fill": {
              "color": "#C8D4E3"
             },
             "line": {
              "color": "white"
             }
            },
            "type": "table"
           }
          ]
         },
         "layout": {
          "annotationdefaults": {
           "arrowcolor": "#2a3f5f",
           "arrowhead": 0,
           "arrowwidth": 1
          },
          "autotypenumbers": "strict",
          "coloraxis": {
           "colorbar": {
            "outlinewidth": 0,
            "ticks": ""
           }
          },
          "colorscale": {
           "diverging": [
            [
             0,
             "#8e0152"
            ],
            [
             0.1,
             "#c51b7d"
            ],
            [
             0.2,
             "#de77ae"
            ],
            [
             0.3,
             "#f1b6da"
            ],
            [
             0.4,
             "#fde0ef"
            ],
            [
             0.5,
             "#f7f7f7"
            ],
            [
             0.6,
             "#e6f5d0"
            ],
            [
             0.7,
             "#b8e186"
            ],
            [
             0.8,
             "#7fbc41"
            ],
            [
             0.9,
             "#4d9221"
            ],
            [
             1,
             "#276419"
            ]
           ],
           "sequential": [
            [
             0,
             "#0d0887"
            ],
            [
             0.1111111111111111,
             "#46039f"
            ],
            [
             0.2222222222222222,
             "#7201a8"
            ],
            [
             0.3333333333333333,
             "#9c179e"
            ],
            [
             0.4444444444444444,
             "#bd3786"
            ],
            [
             0.5555555555555556,
             "#d8576b"
            ],
            [
             0.6666666666666666,
             "#ed7953"
            ],
            [
             0.7777777777777778,
             "#fb9f3a"
            ],
            [
             0.8888888888888888,
             "#fdca26"
            ],
            [
             1,
             "#f0f921"
            ]
           ],
           "sequentialminus": [
            [
             0,
             "#0d0887"
            ],
            [
             0.1111111111111111,
             "#46039f"
            ],
            [
             0.2222222222222222,
             "#7201a8"
            ],
            [
             0.3333333333333333,
             "#9c179e"
            ],
            [
             0.4444444444444444,
             "#bd3786"
            ],
            [
             0.5555555555555556,
             "#d8576b"
            ],
            [
             0.6666666666666666,
             "#ed7953"
            ],
            [
             0.7777777777777778,
             "#fb9f3a"
            ],
            [
             0.8888888888888888,
             "#fdca26"
            ],
            [
             1,
             "#f0f921"
            ]
           ]
          },
          "colorway": [
           "#636efa",
           "#EF553B",
           "#00cc96",
           "#ab63fa",
           "#FFA15A",
           "#19d3f3",
           "#FF6692",
           "#B6E880",
           "#FF97FF",
           "#FECB52"
          ],
          "font": {
           "color": "#2a3f5f"
          },
          "geo": {
           "bgcolor": "white",
           "lakecolor": "white",
           "landcolor": "#E5ECF6",
           "showlakes": true,
           "showland": true,
           "subunitcolor": "white"
          },
          "hoverlabel": {
           "align": "left"
          },
          "hovermode": "closest",
          "mapbox": {
           "style": "light"
          },
          "paper_bgcolor": "white",
          "plot_bgcolor": "#E5ECF6",
          "polar": {
           "angularaxis": {
            "gridcolor": "white",
            "linecolor": "white",
            "ticks": ""
           },
           "bgcolor": "#E5ECF6",
           "radialaxis": {
            "gridcolor": "white",
            "linecolor": "white",
            "ticks": ""
           }
          },
          "scene": {
           "xaxis": {
            "backgroundcolor": "#E5ECF6",
            "gridcolor": "white",
            "gridwidth": 2,
            "linecolor": "white",
            "showbackground": true,
            "ticks": "",
            "zerolinecolor": "white"
           },
           "yaxis": {
            "backgroundcolor": "#E5ECF6",
            "gridcolor": "white",
            "gridwidth": 2,
            "linecolor": "white",
            "showbackground": true,
            "ticks": "",
            "zerolinecolor": "white"
           },
           "zaxis": {
            "backgroundcolor": "#E5ECF6",
            "gridcolor": "white",
            "gridwidth": 2,
            "linecolor": "white",
            "showbackground": true,
            "ticks": "",
            "zerolinecolor": "white"
           }
          },
          "shapedefaults": {
           "line": {
            "color": "#2a3f5f"
           }
          },
          "ternary": {
           "aaxis": {
            "gridcolor": "white",
            "linecolor": "white",
            "ticks": ""
           },
           "baxis": {
            "gridcolor": "white",
            "linecolor": "white",
            "ticks": ""
           },
           "bgcolor": "#E5ECF6",
           "caxis": {
            "gridcolor": "white",
            "linecolor": "white",
            "ticks": ""
           }
          },
          "title": {
           "x": 0.05
          },
          "xaxis": {
           "automargin": true,
           "gridcolor": "white",
           "linecolor": "white",
           "ticks": "",
           "title": {
            "standoff": 15
           },
           "zerolinecolor": "white",
           "zerolinewidth": 2
          },
          "yaxis": {
           "automargin": true,
           "gridcolor": "white",
           "linecolor": "white",
           "ticks": "",
           "title": {
            "standoff": 15
           },
           "zerolinecolor": "white",
           "zerolinewidth": 2
          }
         }
        },
        "title": {
         "text": "Топ упоминаемых персон в канале: rbc_news"
        },
        "xaxis": {
         "anchor": "y",
         "domain": [
          0,
          1
         ],
         "title": {
          "text": "Упоминания"
         }
        },
        "yaxis": {
         "anchor": "x",
         "categoryorder": "total ascending",
         "domain": [
          0,
          1
         ],
         "title": {
          "text": "Имя"
         }
        }
       }
      }
     },
     "metadata": {},
     "output_type": "display_data"
    },
    {
     "data": {
      "application/vnd.plotly.v1+json": {
       "config": {
        "plotlyServerURL": "https://plot.ly"
       },
       "data": [
        {
         "hovertemplate": "Упоминания=%{x}<br>Имя=%{y}<extra></extra>",
         "legendgroup": "",
         "marker": {
          "color": "#636efa",
          "pattern": {
           "shape": ""
          }
         },
         "name": "",
         "orientation": "h",
         "showlegend": false,
         "textposition": "auto",
         "type": "bar",
         "x": {
          "bdata": "BQQEAgICAgI=",
          "dtype": "i1"
         },
         "xaxis": "x",
         "y": [
          "Путин",
          "Трамп",
          "Песков",
          "Лавров",
          "Бессент Подписаться",
          "Мишустин",
          "Кирилл Дмитриев",
          "Собянин"
         ],
         "yaxis": "y"
        }
       ],
       "layout": {
        "barmode": "relative",
        "height": 300,
        "legend": {
         "tracegroupgap": 0
        },
        "template": {
         "data": {
          "bar": [
           {
            "error_x": {
             "color": "#2a3f5f"
            },
            "error_y": {
             "color": "#2a3f5f"
            },
            "marker": {
             "line": {
              "color": "#E5ECF6",
              "width": 0.5
             },
             "pattern": {
              "fillmode": "overlay",
              "size": 10,
              "solidity": 0.2
             }
            },
            "type": "bar"
           }
          ],
          "barpolar": [
           {
            "marker": {
             "line": {
              "color": "#E5ECF6",
              "width": 0.5
             },
             "pattern": {
              "fillmode": "overlay",
              "size": 10,
              "solidity": 0.2
             }
            },
            "type": "barpolar"
           }
          ],
          "carpet": [
           {
            "aaxis": {
             "endlinecolor": "#2a3f5f",
             "gridcolor": "white",
             "linecolor": "white",
             "minorgridcolor": "white",
             "startlinecolor": "#2a3f5f"
            },
            "baxis": {
             "endlinecolor": "#2a3f5f",
             "gridcolor": "white",
             "linecolor": "white",
             "minorgridcolor": "white",
             "startlinecolor": "#2a3f5f"
            },
            "type": "carpet"
           }
          ],
          "choropleth": [
           {
            "colorbar": {
             "outlinewidth": 0,
             "ticks": ""
            },
            "type": "choropleth"
           }
          ],
          "contour": [
           {
            "colorbar": {
             "outlinewidth": 0,
             "ticks": ""
            },
            "colorscale": [
             [
              0,
              "#0d0887"
             ],
             [
              0.1111111111111111,
              "#46039f"
             ],
             [
              0.2222222222222222,
              "#7201a8"
             ],
             [
              0.3333333333333333,
              "#9c179e"
             ],
             [
              0.4444444444444444,
              "#bd3786"
             ],
             [
              0.5555555555555556,
              "#d8576b"
             ],
             [
              0.6666666666666666,
              "#ed7953"
             ],
             [
              0.7777777777777778,
              "#fb9f3a"
             ],
             [
              0.8888888888888888,
              "#fdca26"
             ],
             [
              1,
              "#f0f921"
             ]
            ],
            "type": "contour"
           }
          ],
          "contourcarpet": [
           {
            "colorbar": {
             "outlinewidth": 0,
             "ticks": ""
            },
            "type": "contourcarpet"
           }
          ],
          "heatmap": [
           {
            "colorbar": {
             "outlinewidth": 0,
             "ticks": ""
            },
            "colorscale": [
             [
              0,
              "#0d0887"
             ],
             [
              0.1111111111111111,
              "#46039f"
             ],
             [
              0.2222222222222222,
              "#7201a8"
             ],
             [
              0.3333333333333333,
              "#9c179e"
             ],
             [
              0.4444444444444444,
              "#bd3786"
             ],
             [
              0.5555555555555556,
              "#d8576b"
             ],
             [
              0.6666666666666666,
              "#ed7953"
             ],
             [
              0.7777777777777778,
              "#fb9f3a"
             ],
             [
              0.8888888888888888,
              "#fdca26"
             ],
             [
              1,
              "#f0f921"
             ]
            ],
            "type": "heatmap"
           }
          ],
          "histogram": [
           {
            "marker": {
             "pattern": {
              "fillmode": "overlay",
              "size": 10,
              "solidity": 0.2
             }
            },
            "type": "histogram"
           }
          ],
          "histogram2d": [
           {
            "colorbar": {
             "outlinewidth": 0,
             "ticks": ""
            },
            "colorscale": [
             [
              0,
              "#0d0887"
             ],
             [
              0.1111111111111111,
              "#46039f"
             ],
             [
              0.2222222222222222,
              "#7201a8"
             ],
             [
              0.3333333333333333,
              "#9c179e"
             ],
             [
              0.4444444444444444,
              "#bd3786"
             ],
             [
              0.5555555555555556,
              "#d8576b"
             ],
             [
              0.6666666666666666,
              "#ed7953"
             ],
             [
              0.7777777777777778,
              "#fb9f3a"
             ],
             [
              0.8888888888888888,
              "#fdca26"
             ],
             [
              1,
              "#f0f921"
             ]
            ],
            "type": "histogram2d"
           }
          ],
          "histogram2dcontour": [
           {
            "colorbar": {
             "outlinewidth": 0,
             "ticks": ""
            },
            "colorscale": [
             [
              0,
              "#0d0887"
             ],
             [
              0.1111111111111111,
              "#46039f"
             ],
             [
              0.2222222222222222,
              "#7201a8"
             ],
             [
              0.3333333333333333,
              "#9c179e"
             ],
             [
              0.4444444444444444,
              "#bd3786"
             ],
             [
              0.5555555555555556,
              "#d8576b"
             ],
             [
              0.6666666666666666,
              "#ed7953"
             ],
             [
              0.7777777777777778,
              "#fb9f3a"
             ],
             [
              0.8888888888888888,
              "#fdca26"
             ],
             [
              1,
              "#f0f921"
             ]
            ],
            "type": "histogram2dcontour"
           }
          ],
          "mesh3d": [
           {
            "colorbar": {
             "outlinewidth": 0,
             "ticks": ""
            },
            "type": "mesh3d"
           }
          ],
          "parcoords": [
           {
            "line": {
             "colorbar": {
              "outlinewidth": 0,
              "ticks": ""
             }
            },
            "type": "parcoords"
           }
          ],
          "pie": [
           {
            "automargin": true,
            "type": "pie"
           }
          ],
          "scatter": [
           {
            "fillpattern": {
             "fillmode": "overlay",
             "size": 10,
             "solidity": 0.2
            },
            "type": "scatter"
           }
          ],
          "scatter3d": [
           {
            "line": {
             "colorbar": {
              "outlinewidth": 0,
              "ticks": ""
             }
            },
            "marker": {
             "colorbar": {
              "outlinewidth": 0,
              "ticks": ""
             }
            },
            "type": "scatter3d"
           }
          ],
          "scattercarpet": [
           {
            "marker": {
             "colorbar": {
              "outlinewidth": 0,
              "ticks": ""
             }
            },
            "type": "scattercarpet"
           }
          ],
          "scattergeo": [
           {
            "marker": {
             "colorbar": {
              "outlinewidth": 0,
              "ticks": ""
             }
            },
            "type": "scattergeo"
           }
          ],
          "scattergl": [
           {
            "marker": {
             "colorbar": {
              "outlinewidth": 0,
              "ticks": ""
             }
            },
            "type": "scattergl"
           }
          ],
          "scattermap": [
           {
            "marker": {
             "colorbar": {
              "outlinewidth": 0,
              "ticks": ""
             }
            },
            "type": "scattermap"
           }
          ],
          "scattermapbox": [
           {
            "marker": {
             "colorbar": {
              "outlinewidth": 0,
              "ticks": ""
             }
            },
            "type": "scattermapbox"
           }
          ],
          "scatterpolar": [
           {
            "marker": {
             "colorbar": {
              "outlinewidth": 0,
              "ticks": ""
             }
            },
            "type": "scatterpolar"
           }
          ],
          "scatterpolargl": [
           {
            "marker": {
             "colorbar": {
              "outlinewidth": 0,
              "ticks": ""
             }
            },
            "type": "scatterpolargl"
           }
          ],
          "scatterternary": [
           {
            "marker": {
             "colorbar": {
              "outlinewidth": 0,
              "ticks": ""
             }
            },
            "type": "scatterternary"
           }
          ],
          "surface": [
           {
            "colorbar": {
             "outlinewidth": 0,
             "ticks": ""
            },
            "colorscale": [
             [
              0,
              "#0d0887"
             ],
             [
              0.1111111111111111,
              "#46039f"
             ],
             [
              0.2222222222222222,
              "#7201a8"
             ],
             [
              0.3333333333333333,
              "#9c179e"
             ],
             [
              0.4444444444444444,
              "#bd3786"
             ],
             [
              0.5555555555555556,
              "#d8576b"
             ],
             [
              0.6666666666666666,
              "#ed7953"
             ],
             [
              0.7777777777777778,
              "#fb9f3a"
             ],
             [
              0.8888888888888888,
              "#fdca26"
             ],
             [
              1,
              "#f0f921"
             ]
            ],
            "type": "surface"
           }
          ],
          "table": [
           {
            "cells": {
             "fill": {
              "color": "#EBF0F8"
             },
             "line": {
              "color": "white"
             }
            },
            "header": {
             "fill": {
              "color": "#C8D4E3"
             },
             "line": {
              "color": "white"
             }
            },
            "type": "table"
           }
          ]
         },
         "layout": {
          "annotationdefaults": {
           "arrowcolor": "#2a3f5f",
           "arrowhead": 0,
           "arrowwidth": 1
          },
          "autotypenumbers": "strict",
          "coloraxis": {
           "colorbar": {
            "outlinewidth": 0,
            "ticks": ""
           }
          },
          "colorscale": {
           "diverging": [
            [
             0,
             "#8e0152"
            ],
            [
             0.1,
             "#c51b7d"
            ],
            [
             0.2,
             "#de77ae"
            ],
            [
             0.3,
             "#f1b6da"
            ],
            [
             0.4,
             "#fde0ef"
            ],
            [
             0.5,
             "#f7f7f7"
            ],
            [
             0.6,
             "#e6f5d0"
            ],
            [
             0.7,
             "#b8e186"
            ],
            [
             0.8,
             "#7fbc41"
            ],
            [
             0.9,
             "#4d9221"
            ],
            [
             1,
             "#276419"
            ]
           ],
           "sequential": [
            [
             0,
             "#0d0887"
            ],
            [
             0.1111111111111111,
             "#46039f"
            ],
            [
             0.2222222222222222,
             "#7201a8"
            ],
            [
             0.3333333333333333,
             "#9c179e"
            ],
            [
             0.4444444444444444,
             "#bd3786"
            ],
            [
             0.5555555555555556,
             "#d8576b"
            ],
            [
             0.6666666666666666,
             "#ed7953"
            ],
            [
             0.7777777777777778,
             "#fb9f3a"
            ],
            [
             0.8888888888888888,
             "#fdca26"
            ],
            [
             1,
             "#f0f921"
            ]
           ],
           "sequentialminus": [
            [
             0,
             "#0d0887"
            ],
            [
             0.1111111111111111,
             "#46039f"
            ],
            [
             0.2222222222222222,
             "#7201a8"
            ],
            [
             0.3333333333333333,
             "#9c179e"
            ],
            [
             0.4444444444444444,
             "#bd3786"
            ],
            [
             0.5555555555555556,
             "#d8576b"
            ],
            [
             0.6666666666666666,
             "#ed7953"
            ],
            [
             0.7777777777777778,
             "#fb9f3a"
            ],
            [
             0.8888888888888888,
             "#fdca26"
            ],
            [
             1,
             "#f0f921"
            ]
           ]
          },
          "colorway": [
           "#636efa",
           "#EF553B",
           "#00cc96",
           "#ab63fa",
           "#FFA15A",
           "#19d3f3",
           "#FF6692",
           "#B6E880",
           "#FF97FF",
           "#FECB52"
          ],
          "font": {
           "color": "#2a3f5f"
          },
          "geo": {
           "bgcolor": "white",
           "lakecolor": "white",
           "landcolor": "#E5ECF6",
           "showlakes": true,
           "showland": true,
           "subunitcolor": "white"
          },
          "hoverlabel": {
           "align": "left"
          },
          "hovermode": "closest",
          "mapbox": {
           "style": "light"
          },
          "paper_bgcolor": "white",
          "plot_bgcolor": "#E5ECF6",
          "polar": {
           "angularaxis": {
            "gridcolor": "white",
            "linecolor": "white",
            "ticks": ""
           },
           "bgcolor": "#E5ECF6",
           "radialaxis": {
            "gridcolor": "white",
            "linecolor": "white",
            "ticks": ""
           }
          },
          "scene": {
           "xaxis": {
            "backgroundcolor": "#E5ECF6",
            "gridcolor": "white",
            "gridwidth": 2,
            "linecolor": "white",
            "showbackground": true,
            "ticks": "",
            "zerolinecolor": "white"
           },
           "yaxis": {
            "backgroundcolor": "#E5ECF6",
            "gridcolor": "white",
            "gridwidth": 2,
            "linecolor": "white",
            "showbackground": true,
            "ticks": "",
            "zerolinecolor": "white"
           },
           "zaxis": {
            "backgroundcolor": "#E5ECF6",
            "gridcolor": "white",
            "gridwidth": 2,
            "linecolor": "white",
            "showbackground": true,
            "ticks": "",
            "zerolinecolor": "white"
           }
          },
          "shapedefaults": {
           "line": {
            "color": "#2a3f5f"
           }
          },
          "ternary": {
           "aaxis": {
            "gridcolor": "white",
            "linecolor": "white",
            "ticks": ""
           },
           "baxis": {
            "gridcolor": "white",
            "linecolor": "white",
            "ticks": ""
           },
           "bgcolor": "#E5ECF6",
           "caxis": {
            "gridcolor": "white",
            "linecolor": "white",
            "ticks": ""
           }
          },
          "title": {
           "x": 0.05
          },
          "xaxis": {
           "automargin": true,
           "gridcolor": "white",
           "linecolor": "white",
           "ticks": "",
           "title": {
            "standoff": 15
           },
           "zerolinecolor": "white",
           "zerolinewidth": 2
          },
          "yaxis": {
           "automargin": true,
           "gridcolor": "white",
           "linecolor": "white",
           "ticks": "",
           "title": {
            "standoff": 15
           },
           "zerolinecolor": "white",
           "zerolinewidth": 2
          }
         }
        },
        "title": {
         "text": "Топ упоминаемых персон в канале: rian_ru"
        },
        "xaxis": {
         "anchor": "y",
         "domain": [
          0,
          1
         ],
         "title": {
          "text": "Упоминания"
         }
        },
        "yaxis": {
         "anchor": "x",
         "categoryorder": "total ascending",
         "domain": [
          0,
          1
         ],
         "title": {
          "text": "Имя"
         }
        }
       }
      }
     },
     "metadata": {},
     "output_type": "display_data"
    },
    {
     "data": {
      "application/vnd.plotly.v1+json": {
       "config": {
        "plotlyServerURL": "https://plot.ly"
       },
       "data": [
        {
         "hovertemplate": "Упоминания=%{x}<br>Имя=%{y}<extra></extra>",
         "legendgroup": "",
         "marker": {
          "color": "#636efa",
          "pattern": {
           "shape": ""
          }
         },
         "name": "",
         "orientation": "h",
         "showlegend": false,
         "textposition": "auto",
         "type": "bar",
         "x": {
          "bdata": "BwYFBQQEAwI=",
          "dtype": "i1"
         },
         "xaxis": "x",
         "y": [
          "Ъузнал",
          "Сергей Собянин",
          "Дональд Трамп",
          "Сергей Лавров",
          "Марко Рубио",
          "Владимир Путин",
          "Олег Зателепин",
          "Виктор Орбан"
         ],
         "yaxis": "y"
        }
       ],
       "layout": {
        "barmode": "relative",
        "height": 300,
        "legend": {
         "tracegroupgap": 0
        },
        "template": {
         "data": {
          "bar": [
           {
            "error_x": {
             "color": "#2a3f5f"
            },
            "error_y": {
             "color": "#2a3f5f"
            },
            "marker": {
             "line": {
              "color": "#E5ECF6",
              "width": 0.5
             },
             "pattern": {
              "fillmode": "overlay",
              "size": 10,
              "solidity": 0.2
             }
            },
            "type": "bar"
           }
          ],
          "barpolar": [
           {
            "marker": {
             "line": {
              "color": "#E5ECF6",
              "width": 0.5
             },
             "pattern": {
              "fillmode": "overlay",
              "size": 10,
              "solidity": 0.2
             }
            },
            "type": "barpolar"
           }
          ],
          "carpet": [
           {
            "aaxis": {
             "endlinecolor": "#2a3f5f",
             "gridcolor": "white",
             "linecolor": "white",
             "minorgridcolor": "white",
             "startlinecolor": "#2a3f5f"
            },
            "baxis": {
             "endlinecolor": "#2a3f5f",
             "gridcolor": "white",
             "linecolor": "white",
             "minorgridcolor": "white",
             "startlinecolor": "#2a3f5f"
            },
            "type": "carpet"
           }
          ],
          "choropleth": [
           {
            "colorbar": {
             "outlinewidth": 0,
             "ticks": ""
            },
            "type": "choropleth"
           }
          ],
          "contour": [
           {
            "colorbar": {
             "outlinewidth": 0,
             "ticks": ""
            },
            "colorscale": [
             [
              0,
              "#0d0887"
             ],
             [
              0.1111111111111111,
              "#46039f"
             ],
             [
              0.2222222222222222,
              "#7201a8"
             ],
             [
              0.3333333333333333,
              "#9c179e"
             ],
             [
              0.4444444444444444,
              "#bd3786"
             ],
             [
              0.5555555555555556,
              "#d8576b"
             ],
             [
              0.6666666666666666,
              "#ed7953"
             ],
             [
              0.7777777777777778,
              "#fb9f3a"
             ],
             [
              0.8888888888888888,
              "#fdca26"
             ],
             [
              1,
              "#f0f921"
             ]
            ],
            "type": "contour"
           }
          ],
          "contourcarpet": [
           {
            "colorbar": {
             "outlinewidth": 0,
             "ticks": ""
            },
            "type": "contourcarpet"
           }
          ],
          "heatmap": [
           {
            "colorbar": {
             "outlinewidth": 0,
             "ticks": ""
            },
            "colorscale": [
             [
              0,
              "#0d0887"
             ],
             [
              0.1111111111111111,
              "#46039f"
             ],
             [
              0.2222222222222222,
              "#7201a8"
             ],
             [
              0.3333333333333333,
              "#9c179e"
             ],
             [
              0.4444444444444444,
              "#bd3786"
             ],
             [
              0.5555555555555556,
              "#d8576b"
             ],
             [
              0.6666666666666666,
              "#ed7953"
             ],
             [
              0.7777777777777778,
              "#fb9f3a"
             ],
             [
              0.8888888888888888,
              "#fdca26"
             ],
             [
              1,
              "#f0f921"
             ]
            ],
            "type": "heatmap"
           }
          ],
          "histogram": [
           {
            "marker": {
             "pattern": {
              "fillmode": "overlay",
              "size": 10,
              "solidity": 0.2
             }
            },
            "type": "histogram"
           }
          ],
          "histogram2d": [
           {
            "colorbar": {
             "outlinewidth": 0,
             "ticks": ""
            },
            "colorscale": [
             [
              0,
              "#0d0887"
             ],
             [
              0.1111111111111111,
              "#46039f"
             ],
             [
              0.2222222222222222,
              "#7201a8"
             ],
             [
              0.3333333333333333,
              "#9c179e"
             ],
             [
              0.4444444444444444,
              "#bd3786"
             ],
             [
              0.5555555555555556,
              "#d8576b"
             ],
             [
              0.6666666666666666,
              "#ed7953"
             ],
             [
              0.7777777777777778,
              "#fb9f3a"
             ],
             [
              0.8888888888888888,
              "#fdca26"
             ],
             [
              1,
              "#f0f921"
             ]
            ],
            "type": "histogram2d"
           }
          ],
          "histogram2dcontour": [
           {
            "colorbar": {
             "outlinewidth": 0,
             "ticks": ""
            },
            "colorscale": [
             [
              0,
              "#0d0887"
             ],
             [
              0.1111111111111111,
              "#46039f"
             ],
             [
              0.2222222222222222,
              "#7201a8"
             ],
             [
              0.3333333333333333,
              "#9c179e"
             ],
             [
              0.4444444444444444,
              "#bd3786"
             ],
             [
              0.5555555555555556,
              "#d8576b"
             ],
             [
              0.6666666666666666,
              "#ed7953"
             ],
             [
              0.7777777777777778,
              "#fb9f3a"
             ],
             [
              0.8888888888888888,
              "#fdca26"
             ],
             [
              1,
              "#f0f921"
             ]
            ],
            "type": "histogram2dcontour"
           }
          ],
          "mesh3d": [
           {
            "colorbar": {
             "outlinewidth": 0,
             "ticks": ""
            },
            "type": "mesh3d"
           }
          ],
          "parcoords": [
           {
            "line": {
             "colorbar": {
              "outlinewidth": 0,
              "ticks": ""
             }
            },
            "type": "parcoords"
           }
          ],
          "pie": [
           {
            "automargin": true,
            "type": "pie"
           }
          ],
          "scatter": [
           {
            "fillpattern": {
             "fillmode": "overlay",
             "size": 10,
             "solidity": 0.2
            },
            "type": "scatter"
           }
          ],
          "scatter3d": [
           {
            "line": {
             "colorbar": {
              "outlinewidth": 0,
              "ticks": ""
             }
            },
            "marker": {
             "colorbar": {
              "outlinewidth": 0,
              "ticks": ""
             }
            },
            "type": "scatter3d"
           }
          ],
          "scattercarpet": [
           {
            "marker": {
             "colorbar": {
              "outlinewidth": 0,
              "ticks": ""
             }
            },
            "type": "scattercarpet"
           }
          ],
          "scattergeo": [
           {
            "marker": {
             "colorbar": {
              "outlinewidth": 0,
              "ticks": ""
             }
            },
            "type": "scattergeo"
           }
          ],
          "scattergl": [
           {
            "marker": {
             "colorbar": {
              "outlinewidth": 0,
              "ticks": ""
             }
            },
            "type": "scattergl"
           }
          ],
          "scattermap": [
           {
            "marker": {
             "colorbar": {
              "outlinewidth": 0,
              "ticks": ""
             }
            },
            "type": "scattermap"
           }
          ],
          "scattermapbox": [
           {
            "marker": {
             "colorbar": {
              "outlinewidth": 0,
              "ticks": ""
             }
            },
            "type": "scattermapbox"
           }
          ],
          "scatterpolar": [
           {
            "marker": {
             "colorbar": {
              "outlinewidth": 0,
              "ticks": ""
             }
            },
            "type": "scatterpolar"
           }
          ],
          "scatterpolargl": [
           {
            "marker": {
             "colorbar": {
              "outlinewidth": 0,
              "ticks": ""
             }
            },
            "type": "scatterpolargl"
           }
          ],
          "scatterternary": [
           {
            "marker": {
             "colorbar": {
              "outlinewidth": 0,
              "ticks": ""
             }
            },
            "type": "scatterternary"
           }
          ],
          "surface": [
           {
            "colorbar": {
             "outlinewidth": 0,
             "ticks": ""
            },
            "colorscale": [
             [
              0,
              "#0d0887"
             ],
             [
              0.1111111111111111,
              "#46039f"
             ],
             [
              0.2222222222222222,
              "#7201a8"
             ],
             [
              0.3333333333333333,
              "#9c179e"
             ],
             [
              0.4444444444444444,
              "#bd3786"
             ],
             [
              0.5555555555555556,
              "#d8576b"
             ],
             [
              0.6666666666666666,
              "#ed7953"
             ],
             [
              0.7777777777777778,
              "#fb9f3a"
             ],
             [
              0.8888888888888888,
              "#fdca26"
             ],
             [
              1,
              "#f0f921"
             ]
            ],
            "type": "surface"
           }
          ],
          "table": [
           {
            "cells": {
             "fill": {
              "color": "#EBF0F8"
             },
             "line": {
              "color": "white"
             }
            },
            "header": {
             "fill": {
              "color": "#C8D4E3"
             },
             "line": {
              "color": "white"
             }
            },
            "type": "table"
           }
          ]
         },
         "layout": {
          "annotationdefaults": {
           "arrowcolor": "#2a3f5f",
           "arrowhead": 0,
           "arrowwidth": 1
          },
          "autotypenumbers": "strict",
          "coloraxis": {
           "colorbar": {
            "outlinewidth": 0,
            "ticks": ""
           }
          },
          "colorscale": {
           "diverging": [
            [
             0,
             "#8e0152"
            ],
            [
             0.1,
             "#c51b7d"
            ],
            [
             0.2,
             "#de77ae"
            ],
            [
             0.3,
             "#f1b6da"
            ],
            [
             0.4,
             "#fde0ef"
            ],
            [
             0.5,
             "#f7f7f7"
            ],
            [
             0.6,
             "#e6f5d0"
            ],
            [
             0.7,
             "#b8e186"
            ],
            [
             0.8,
             "#7fbc41"
            ],
            [
             0.9,
             "#4d9221"
            ],
            [
             1,
             "#276419"
            ]
           ],
           "sequential": [
            [
             0,
             "#0d0887"
            ],
            [
             0.1111111111111111,
             "#46039f"
            ],
            [
             0.2222222222222222,
             "#7201a8"
            ],
            [
             0.3333333333333333,
             "#9c179e"
            ],
            [
             0.4444444444444444,
             "#bd3786"
            ],
            [
             0.5555555555555556,
             "#d8576b"
            ],
            [
             0.6666666666666666,
             "#ed7953"
            ],
            [
             0.7777777777777778,
             "#fb9f3a"
            ],
            [
             0.8888888888888888,
             "#fdca26"
            ],
            [
             1,
             "#f0f921"
            ]
           ],
           "sequentialminus": [
            [
             0,
             "#0d0887"
            ],
            [
             0.1111111111111111,
             "#46039f"
            ],
            [
             0.2222222222222222,
             "#7201a8"
            ],
            [
             0.3333333333333333,
             "#9c179e"
            ],
            [
             0.4444444444444444,
             "#bd3786"
            ],
            [
             0.5555555555555556,
             "#d8576b"
            ],
            [
             0.6666666666666666,
             "#ed7953"
            ],
            [
             0.7777777777777778,
             "#fb9f3a"
            ],
            [
             0.8888888888888888,
             "#fdca26"
            ],
            [
             1,
             "#f0f921"
            ]
           ]
          },
          "colorway": [
           "#636efa",
           "#EF553B",
           "#00cc96",
           "#ab63fa",
           "#FFA15A",
           "#19d3f3",
           "#FF6692",
           "#B6E880",
           "#FF97FF",
           "#FECB52"
          ],
          "font": {
           "color": "#2a3f5f"
          },
          "geo": {
           "bgcolor": "white",
           "lakecolor": "white",
           "landcolor": "#E5ECF6",
           "showlakes": true,
           "showland": true,
           "subunitcolor": "white"
          },
          "hoverlabel": {
           "align": "left"
          },
          "hovermode": "closest",
          "mapbox": {
           "style": "light"
          },
          "paper_bgcolor": "white",
          "plot_bgcolor": "#E5ECF6",
          "polar": {
           "angularaxis": {
            "gridcolor": "white",
            "linecolor": "white",
            "ticks": ""
           },
           "bgcolor": "#E5ECF6",
           "radialaxis": {
            "gridcolor": "white",
            "linecolor": "white",
            "ticks": ""
           }
          },
          "scene": {
           "xaxis": {
            "backgroundcolor": "#E5ECF6",
            "gridcolor": "white",
            "gridwidth": 2,
            "linecolor": "white",
            "showbackground": true,
            "ticks": "",
            "zerolinecolor": "white"
           },
           "yaxis": {
            "backgroundcolor": "#E5ECF6",
            "gridcolor": "white",
            "gridwidth": 2,
            "linecolor": "white",
            "showbackground": true,
            "ticks": "",
            "zerolinecolor": "white"
           },
           "zaxis": {
            "backgroundcolor": "#E5ECF6",
            "gridcolor": "white",
            "gridwidth": 2,
            "linecolor": "white",
            "showbackground": true,
            "ticks": "",
            "zerolinecolor": "white"
           }
          },
          "shapedefaults": {
           "line": {
            "color": "#2a3f5f"
           }
          },
          "ternary": {
           "aaxis": {
            "gridcolor": "white",
            "linecolor": "white",
            "ticks": ""
           },
           "baxis": {
            "gridcolor": "white",
            "linecolor": "white",
            "ticks": ""
           },
           "bgcolor": "#E5ECF6",
           "caxis": {
            "gridcolor": "white",
            "linecolor": "white",
            "ticks": ""
           }
          },
          "title": {
           "x": 0.05
          },
          "xaxis": {
           "automargin": true,
           "gridcolor": "white",
           "linecolor": "white",
           "ticks": "",
           "title": {
            "standoff": 15
           },
           "zerolinecolor": "white",
           "zerolinewidth": 2
          },
          "yaxis": {
           "automargin": true,
           "gridcolor": "white",
           "linecolor": "white",
           "ticks": "",
           "title": {
            "standoff": 15
           },
           "zerolinecolor": "white",
           "zerolinewidth": 2
          }
         }
        },
        "title": {
         "text": "Топ упоминаемых персон в канале: kommersant"
        },
        "xaxis": {
         "anchor": "y",
         "domain": [
          0,
          1
         ],
         "title": {
          "text": "Упоминания"
         }
        },
        "yaxis": {
         "anchor": "x",
         "categoryorder": "total ascending",
         "domain": [
          0,
          1
         ],
         "title": {
          "text": "Имя"
         }
        }
       }
      }
     },
     "metadata": {},
     "output_type": "display_data"
    },
    {
     "data": {
      "application/vnd.plotly.v1+json": {
       "config": {
        "plotlyServerURL": "https://plot.ly"
       },
       "data": [
        {
         "hovertemplate": "Упоминания=%{x}<br>Имя=%{y}<extra></extra>",
         "legendgroup": "",
         "marker": {
          "color": "#636efa",
          "pattern": {
           "shape": ""
          }
         },
         "name": "",
         "orientation": "h",
         "showlegend": false,
         "textposition": "auto",
         "type": "bar",
         "x": {
          "bdata": "AgIBAQEBAQE=",
          "dtype": "i1"
         },
         "xaxis": "x",
         "y": [
          "Собянин",
          "Трамп",
          "Мирза Мирзаев",
          "Владимир Бурматов",
          "Татьяна Монтян",
          "Набиуллина",
          "Копайгородский",
          "Картаполов"
         ],
         "yaxis": "y"
        }
       ],
       "layout": {
        "barmode": "relative",
        "height": 300,
        "legend": {
         "tracegroupgap": 0
        },
        "template": {
         "data": {
          "bar": [
           {
            "error_x": {
             "color": "#2a3f5f"
            },
            "error_y": {
             "color": "#2a3f5f"
            },
            "marker": {
             "line": {
              "color": "#E5ECF6",
              "width": 0.5
             },
             "pattern": {
              "fillmode": "overlay",
              "size": 10,
              "solidity": 0.2
             }
            },
            "type": "bar"
           }
          ],
          "barpolar": [
           {
            "marker": {
             "line": {
              "color": "#E5ECF6",
              "width": 0.5
             },
             "pattern": {
              "fillmode": "overlay",
              "size": 10,
              "solidity": 0.2
             }
            },
            "type": "barpolar"
           }
          ],
          "carpet": [
           {
            "aaxis": {
             "endlinecolor": "#2a3f5f",
             "gridcolor": "white",
             "linecolor": "white",
             "minorgridcolor": "white",
             "startlinecolor": "#2a3f5f"
            },
            "baxis": {
             "endlinecolor": "#2a3f5f",
             "gridcolor": "white",
             "linecolor": "white",
             "minorgridcolor": "white",
             "startlinecolor": "#2a3f5f"
            },
            "type": "carpet"
           }
          ],
          "choropleth": [
           {
            "colorbar": {
             "outlinewidth": 0,
             "ticks": ""
            },
            "type": "choropleth"
           }
          ],
          "contour": [
           {
            "colorbar": {
             "outlinewidth": 0,
             "ticks": ""
            },
            "colorscale": [
             [
              0,
              "#0d0887"
             ],
             [
              0.1111111111111111,
              "#46039f"
             ],
             [
              0.2222222222222222,
              "#7201a8"
             ],
             [
              0.3333333333333333,
              "#9c179e"
             ],
             [
              0.4444444444444444,
              "#bd3786"
             ],
             [
              0.5555555555555556,
              "#d8576b"
             ],
             [
              0.6666666666666666,
              "#ed7953"
             ],
             [
              0.7777777777777778,
              "#fb9f3a"
             ],
             [
              0.8888888888888888,
              "#fdca26"
             ],
             [
              1,
              "#f0f921"
             ]
            ],
            "type": "contour"
           }
          ],
          "contourcarpet": [
           {
            "colorbar": {
             "outlinewidth": 0,
             "ticks": ""
            },
            "type": "contourcarpet"
           }
          ],
          "heatmap": [
           {
            "colorbar": {
             "outlinewidth": 0,
             "ticks": ""
            },
            "colorscale": [
             [
              0,
              "#0d0887"
             ],
             [
              0.1111111111111111,
              "#46039f"
             ],
             [
              0.2222222222222222,
              "#7201a8"
             ],
             [
              0.3333333333333333,
              "#9c179e"
             ],
             [
              0.4444444444444444,
              "#bd3786"
             ],
             [
              0.5555555555555556,
              "#d8576b"
             ],
             [
              0.6666666666666666,
              "#ed7953"
             ],
             [
              0.7777777777777778,
              "#fb9f3a"
             ],
             [
              0.8888888888888888,
              "#fdca26"
             ],
             [
              1,
              "#f0f921"
             ]
            ],
            "type": "heatmap"
           }
          ],
          "histogram": [
           {
            "marker": {
             "pattern": {
              "fillmode": "overlay",
              "size": 10,
              "solidity": 0.2
             }
            },
            "type": "histogram"
           }
          ],
          "histogram2d": [
           {
            "colorbar": {
             "outlinewidth": 0,
             "ticks": ""
            },
            "colorscale": [
             [
              0,
              "#0d0887"
             ],
             [
              0.1111111111111111,
              "#46039f"
             ],
             [
              0.2222222222222222,
              "#7201a8"
             ],
             [
              0.3333333333333333,
              "#9c179e"
             ],
             [
              0.4444444444444444,
              "#bd3786"
             ],
             [
              0.5555555555555556,
              "#d8576b"
             ],
             [
              0.6666666666666666,
              "#ed7953"
             ],
             [
              0.7777777777777778,
              "#fb9f3a"
             ],
             [
              0.8888888888888888,
              "#fdca26"
             ],
             [
              1,
              "#f0f921"
             ]
            ],
            "type": "histogram2d"
           }
          ],
          "histogram2dcontour": [
           {
            "colorbar": {
             "outlinewidth": 0,
             "ticks": ""
            },
            "colorscale": [
             [
              0,
              "#0d0887"
             ],
             [
              0.1111111111111111,
              "#46039f"
             ],
             [
              0.2222222222222222,
              "#7201a8"
             ],
             [
              0.3333333333333333,
              "#9c179e"
             ],
             [
              0.4444444444444444,
              "#bd3786"
             ],
             [
              0.5555555555555556,
              "#d8576b"
             ],
             [
              0.6666666666666666,
              "#ed7953"
             ],
             [
              0.7777777777777778,
              "#fb9f3a"
             ],
             [
              0.8888888888888888,
              "#fdca26"
             ],
             [
              1,
              "#f0f921"
             ]
            ],
            "type": "histogram2dcontour"
           }
          ],
          "mesh3d": [
           {
            "colorbar": {
             "outlinewidth": 0,
             "ticks": ""
            },
            "type": "mesh3d"
           }
          ],
          "parcoords": [
           {
            "line": {
             "colorbar": {
              "outlinewidth": 0,
              "ticks": ""
             }
            },
            "type": "parcoords"
           }
          ],
          "pie": [
           {
            "automargin": true,
            "type": "pie"
           }
          ],
          "scatter": [
           {
            "fillpattern": {
             "fillmode": "overlay",
             "size": 10,
             "solidity": 0.2
            },
            "type": "scatter"
           }
          ],
          "scatter3d": [
           {
            "line": {
             "colorbar": {
              "outlinewidth": 0,
              "ticks": ""
             }
            },
            "marker": {
             "colorbar": {
              "outlinewidth": 0,
              "ticks": ""
             }
            },
            "type": "scatter3d"
           }
          ],
          "scattercarpet": [
           {
            "marker": {
             "colorbar": {
              "outlinewidth": 0,
              "ticks": ""
             }
            },
            "type": "scattercarpet"
           }
          ],
          "scattergeo": [
           {
            "marker": {
             "colorbar": {
              "outlinewidth": 0,
              "ticks": ""
             }
            },
            "type": "scattergeo"
           }
          ],
          "scattergl": [
           {
            "marker": {
             "colorbar": {
              "outlinewidth": 0,
              "ticks": ""
             }
            },
            "type": "scattergl"
           }
          ],
          "scattermap": [
           {
            "marker": {
             "colorbar": {
              "outlinewidth": 0,
              "ticks": ""
             }
            },
            "type": "scattermap"
           }
          ],
          "scattermapbox": [
           {
            "marker": {
             "colorbar": {
              "outlinewidth": 0,
              "ticks": ""
             }
            },
            "type": "scattermapbox"
           }
          ],
          "scatterpolar": [
           {
            "marker": {
             "colorbar": {
              "outlinewidth": 0,
              "ticks": ""
             }
            },
            "type": "scatterpolar"
           }
          ],
          "scatterpolargl": [
           {
            "marker": {
             "colorbar": {
              "outlinewidth": 0,
              "ticks": ""
             }
            },
            "type": "scatterpolargl"
           }
          ],
          "scatterternary": [
           {
            "marker": {
             "colorbar": {
              "outlinewidth": 0,
              "ticks": ""
             }
            },
            "type": "scatterternary"
           }
          ],
          "surface": [
           {
            "colorbar": {
             "outlinewidth": 0,
             "ticks": ""
            },
            "colorscale": [
             [
              0,
              "#0d0887"
             ],
             [
              0.1111111111111111,
              "#46039f"
             ],
             [
              0.2222222222222222,
              "#7201a8"
             ],
             [
              0.3333333333333333,
              "#9c179e"
             ],
             [
              0.4444444444444444,
              "#bd3786"
             ],
             [
              0.5555555555555556,
              "#d8576b"
             ],
             [
              0.6666666666666666,
              "#ed7953"
             ],
             [
              0.7777777777777778,
              "#fb9f3a"
             ],
             [
              0.8888888888888888,
              "#fdca26"
             ],
             [
              1,
              "#f0f921"
             ]
            ],
            "type": "surface"
           }
          ],
          "table": [
           {
            "cells": {
             "fill": {
              "color": "#EBF0F8"
             },
             "line": {
              "color": "white"
             }
            },
            "header": {
             "fill": {
              "color": "#C8D4E3"
             },
             "line": {
              "color": "white"
             }
            },
            "type": "table"
           }
          ]
         },
         "layout": {
          "annotationdefaults": {
           "arrowcolor": "#2a3f5f",
           "arrowhead": 0,
           "arrowwidth": 1
          },
          "autotypenumbers": "strict",
          "coloraxis": {
           "colorbar": {
            "outlinewidth": 0,
            "ticks": ""
           }
          },
          "colorscale": {
           "diverging": [
            [
             0,
             "#8e0152"
            ],
            [
             0.1,
             "#c51b7d"
            ],
            [
             0.2,
             "#de77ae"
            ],
            [
             0.3,
             "#f1b6da"
            ],
            [
             0.4,
             "#fde0ef"
            ],
            [
             0.5,
             "#f7f7f7"
            ],
            [
             0.6,
             "#e6f5d0"
            ],
            [
             0.7,
             "#b8e186"
            ],
            [
             0.8,
             "#7fbc41"
            ],
            [
             0.9,
             "#4d9221"
            ],
            [
             1,
             "#276419"
            ]
           ],
           "sequential": [
            [
             0,
             "#0d0887"
            ],
            [
             0.1111111111111111,
             "#46039f"
            ],
            [
             0.2222222222222222,
             "#7201a8"
            ],
            [
             0.3333333333333333,
             "#9c179e"
            ],
            [
             0.4444444444444444,
             "#bd3786"
            ],
            [
             0.5555555555555556,
             "#d8576b"
            ],
            [
             0.6666666666666666,
             "#ed7953"
            ],
            [
             0.7777777777777778,
             "#fb9f3a"
            ],
            [
             0.8888888888888888,
             "#fdca26"
            ],
            [
             1,
             "#f0f921"
            ]
           ],
           "sequentialminus": [
            [
             0,
             "#0d0887"
            ],
            [
             0.1111111111111111,
             "#46039f"
            ],
            [
             0.2222222222222222,
             "#7201a8"
            ],
            [
             0.3333333333333333,
             "#9c179e"
            ],
            [
             0.4444444444444444,
             "#bd3786"
            ],
            [
             0.5555555555555556,
             "#d8576b"
            ],
            [
             0.6666666666666666,
             "#ed7953"
            ],
            [
             0.7777777777777778,
             "#fb9f3a"
            ],
            [
             0.8888888888888888,
             "#fdca26"
            ],
            [
             1,
             "#f0f921"
            ]
           ]
          },
          "colorway": [
           "#636efa",
           "#EF553B",
           "#00cc96",
           "#ab63fa",
           "#FFA15A",
           "#19d3f3",
           "#FF6692",
           "#B6E880",
           "#FF97FF",
           "#FECB52"
          ],
          "font": {
           "color": "#2a3f5f"
          },
          "geo": {
           "bgcolor": "white",
           "lakecolor": "white",
           "landcolor": "#E5ECF6",
           "showlakes": true,
           "showland": true,
           "subunitcolor": "white"
          },
          "hoverlabel": {
           "align": "left"
          },
          "hovermode": "closest",
          "mapbox": {
           "style": "light"
          },
          "paper_bgcolor": "white",
          "plot_bgcolor": "#E5ECF6",
          "polar": {
           "angularaxis": {
            "gridcolor": "white",
            "linecolor": "white",
            "ticks": ""
           },
           "bgcolor": "#E5ECF6",
           "radialaxis": {
            "gridcolor": "white",
            "linecolor": "white",
            "ticks": ""
           }
          },
          "scene": {
           "xaxis": {
            "backgroundcolor": "#E5ECF6",
            "gridcolor": "white",
            "gridwidth": 2,
            "linecolor": "white",
            "showbackground": true,
            "ticks": "",
            "zerolinecolor": "white"
           },
           "yaxis": {
            "backgroundcolor": "#E5ECF6",
            "gridcolor": "white",
            "gridwidth": 2,
            "linecolor": "white",
            "showbackground": true,
            "ticks": "",
            "zerolinecolor": "white"
           },
           "zaxis": {
            "backgroundcolor": "#E5ECF6",
            "gridcolor": "white",
            "gridwidth": 2,
            "linecolor": "white",
            "showbackground": true,
            "ticks": "",
            "zerolinecolor": "white"
           }
          },
          "shapedefaults": {
           "line": {
            "color": "#2a3f5f"
           }
          },
          "ternary": {
           "aaxis": {
            "gridcolor": "white",
            "linecolor": "white",
            "ticks": ""
           },
           "baxis": {
            "gridcolor": "white",
            "linecolor": "white",
            "ticks": ""
           },
           "bgcolor": "#E5ECF6",
           "caxis": {
            "gridcolor": "white",
            "linecolor": "white",
            "ticks": ""
           }
          },
          "title": {
           "x": 0.05
          },
          "xaxis": {
           "automargin": true,
           "gridcolor": "white",
           "linecolor": "white",
           "ticks": "",
           "title": {
            "standoff": 15
           },
           "zerolinecolor": "white",
           "zerolinewidth": 2
          },
          "yaxis": {
           "automargin": true,
           "gridcolor": "white",
           "linecolor": "white",
           "ticks": "",
           "title": {
            "standoff": 15
           },
           "zerolinecolor": "white",
           "zerolinewidth": 2
          }
         }
        },
        "title": {
         "text": "Топ упоминаемых персон в канале: tass_agency"
        },
        "xaxis": {
         "anchor": "y",
         "domain": [
          0,
          1
         ],
         "title": {
          "text": "Упоминания"
         }
        },
        "yaxis": {
         "anchor": "x",
         "categoryorder": "total ascending",
         "domain": [
          0,
          1
         ],
         "title": {
          "text": "Имя"
         }
        }
       }
      }
     },
     "metadata": {},
     "output_type": "display_data"
    },
    {
     "data": {
      "application/vnd.plotly.v1+json": {
       "config": {
        "plotlyServerURL": "https://plot.ly"
       },
       "data": [
        {
         "hovertemplate": "Упоминания=%{x}<br>Имя=%{y}<extra></extra>",
         "legendgroup": "",
         "marker": {
          "color": "#636efa",
          "pattern": {
           "shape": ""
          }
         },
         "name": "",
         "orientation": "h",
         "showlegend": false,
         "textposition": "auto",
         "type": "bar",
         "x": {
          "bdata": "BAMCAgICAgI=",
          "dtype": "i1"
         },
         "xaxis": "x",
         "y": [
          "Сухов",
          "Анастасия",
          "Александр",
          "Константин Козырев",
          "Ибрагим Сулейманов",
          "Ирина",
          "Иван",
          "Сергей"
         ],
         "yaxis": "y"
        }
       ],
       "layout": {
        "barmode": "relative",
        "height": 300,
        "legend": {
         "tracegroupgap": 0
        },
        "template": {
         "data": {
          "bar": [
           {
            "error_x": {
             "color": "#2a3f5f"
            },
            "error_y": {
             "color": "#2a3f5f"
            },
            "marker": {
             "line": {
              "color": "#E5ECF6",
              "width": 0.5
             },
             "pattern": {
              "fillmode": "overlay",
              "size": 10,
              "solidity": 0.2
             }
            },
            "type": "bar"
           }
          ],
          "barpolar": [
           {
            "marker": {
             "line": {
              "color": "#E5ECF6",
              "width": 0.5
             },
             "pattern": {
              "fillmode": "overlay",
              "size": 10,
              "solidity": 0.2
             }
            },
            "type": "barpolar"
           }
          ],
          "carpet": [
           {
            "aaxis": {
             "endlinecolor": "#2a3f5f",
             "gridcolor": "white",
             "linecolor": "white",
             "minorgridcolor": "white",
             "startlinecolor": "#2a3f5f"
            },
            "baxis": {
             "endlinecolor": "#2a3f5f",
             "gridcolor": "white",
             "linecolor": "white",
             "minorgridcolor": "white",
             "startlinecolor": "#2a3f5f"
            },
            "type": "carpet"
           }
          ],
          "choropleth": [
           {
            "colorbar": {
             "outlinewidth": 0,
             "ticks": ""
            },
            "type": "choropleth"
           }
          ],
          "contour": [
           {
            "colorbar": {
             "outlinewidth": 0,
             "ticks": ""
            },
            "colorscale": [
             [
              0,
              "#0d0887"
             ],
             [
              0.1111111111111111,
              "#46039f"
             ],
             [
              0.2222222222222222,
              "#7201a8"
             ],
             [
              0.3333333333333333,
              "#9c179e"
             ],
             [
              0.4444444444444444,
              "#bd3786"
             ],
             [
              0.5555555555555556,
              "#d8576b"
             ],
             [
              0.6666666666666666,
              "#ed7953"
             ],
             [
              0.7777777777777778,
              "#fb9f3a"
             ],
             [
              0.8888888888888888,
              "#fdca26"
             ],
             [
              1,
              "#f0f921"
             ]
            ],
            "type": "contour"
           }
          ],
          "contourcarpet": [
           {
            "colorbar": {
             "outlinewidth": 0,
             "ticks": ""
            },
            "type": "contourcarpet"
           }
          ],
          "heatmap": [
           {
            "colorbar": {
             "outlinewidth": 0,
             "ticks": ""
            },
            "colorscale": [
             [
              0,
              "#0d0887"
             ],
             [
              0.1111111111111111,
              "#46039f"
             ],
             [
              0.2222222222222222,
              "#7201a8"
             ],
             [
              0.3333333333333333,
              "#9c179e"
             ],
             [
              0.4444444444444444,
              "#bd3786"
             ],
             [
              0.5555555555555556,
              "#d8576b"
             ],
             [
              0.6666666666666666,
              "#ed7953"
             ],
             [
              0.7777777777777778,
              "#fb9f3a"
             ],
             [
              0.8888888888888888,
              "#fdca26"
             ],
             [
              1,
              "#f0f921"
             ]
            ],
            "type": "heatmap"
           }
          ],
          "histogram": [
           {
            "marker": {
             "pattern": {
              "fillmode": "overlay",
              "size": 10,
              "solidity": 0.2
             }
            },
            "type": "histogram"
           }
          ],
          "histogram2d": [
           {
            "colorbar": {
             "outlinewidth": 0,
             "ticks": ""
            },
            "colorscale": [
             [
              0,
              "#0d0887"
             ],
             [
              0.1111111111111111,
              "#46039f"
             ],
             [
              0.2222222222222222,
              "#7201a8"
             ],
             [
              0.3333333333333333,
              "#9c179e"
             ],
             [
              0.4444444444444444,
              "#bd3786"
             ],
             [
              0.5555555555555556,
              "#d8576b"
             ],
             [
              0.6666666666666666,
              "#ed7953"
             ],
             [
              0.7777777777777778,
              "#fb9f3a"
             ],
             [
              0.8888888888888888,
              "#fdca26"
             ],
             [
              1,
              "#f0f921"
             ]
            ],
            "type": "histogram2d"
           }
          ],
          "histogram2dcontour": [
           {
            "colorbar": {
             "outlinewidth": 0,
             "ticks": ""
            },
            "colorscale": [
             [
              0,
              "#0d0887"
             ],
             [
              0.1111111111111111,
              "#46039f"
             ],
             [
              0.2222222222222222,
              "#7201a8"
             ],
             [
              0.3333333333333333,
              "#9c179e"
             ],
             [
              0.4444444444444444,
              "#bd3786"
             ],
             [
              0.5555555555555556,
              "#d8576b"
             ],
             [
              0.6666666666666666,
              "#ed7953"
             ],
             [
              0.7777777777777778,
              "#fb9f3a"
             ],
             [
              0.8888888888888888,
              "#fdca26"
             ],
             [
              1,
              "#f0f921"
             ]
            ],
            "type": "histogram2dcontour"
           }
          ],
          "mesh3d": [
           {
            "colorbar": {
             "outlinewidth": 0,
             "ticks": ""
            },
            "type": "mesh3d"
           }
          ],
          "parcoords": [
           {
            "line": {
             "colorbar": {
              "outlinewidth": 0,
              "ticks": ""
             }
            },
            "type": "parcoords"
           }
          ],
          "pie": [
           {
            "automargin": true,
            "type": "pie"
           }
          ],
          "scatter": [
           {
            "fillpattern": {
             "fillmode": "overlay",
             "size": 10,
             "solidity": 0.2
            },
            "type": "scatter"
           }
          ],
          "scatter3d": [
           {
            "line": {
             "colorbar": {
              "outlinewidth": 0,
              "ticks": ""
             }
            },
            "marker": {
             "colorbar": {
              "outlinewidth": 0,
              "ticks": ""
             }
            },
            "type": "scatter3d"
           }
          ],
          "scattercarpet": [
           {
            "marker": {
             "colorbar": {
              "outlinewidth": 0,
              "ticks": ""
             }
            },
            "type": "scattercarpet"
           }
          ],
          "scattergeo": [
           {
            "marker": {
             "colorbar": {
              "outlinewidth": 0,
              "ticks": ""
             }
            },
            "type": "scattergeo"
           }
          ],
          "scattergl": [
           {
            "marker": {
             "colorbar": {
              "outlinewidth": 0,
              "ticks": ""
             }
            },
            "type": "scattergl"
           }
          ],
          "scattermap": [
           {
            "marker": {
             "colorbar": {
              "outlinewidth": 0,
              "ticks": ""
             }
            },
            "type": "scattermap"
           }
          ],
          "scattermapbox": [
           {
            "marker": {
             "colorbar": {
              "outlinewidth": 0,
              "ticks": ""
             }
            },
            "type": "scattermapbox"
           }
          ],
          "scatterpolar": [
           {
            "marker": {
             "colorbar": {
              "outlinewidth": 0,
              "ticks": ""
             }
            },
            "type": "scatterpolar"
           }
          ],
          "scatterpolargl": [
           {
            "marker": {
             "colorbar": {
              "outlinewidth": 0,
              "ticks": ""
             }
            },
            "type": "scatterpolargl"
           }
          ],
          "scatterternary": [
           {
            "marker": {
             "colorbar": {
              "outlinewidth": 0,
              "ticks": ""
             }
            },
            "type": "scatterternary"
           }
          ],
          "surface": [
           {
            "colorbar": {
             "outlinewidth": 0,
             "ticks": ""
            },
            "colorscale": [
             [
              0,
              "#0d0887"
             ],
             [
              0.1111111111111111,
              "#46039f"
             ],
             [
              0.2222222222222222,
              "#7201a8"
             ],
             [
              0.3333333333333333,
              "#9c179e"
             ],
             [
              0.4444444444444444,
              "#bd3786"
             ],
             [
              0.5555555555555556,
              "#d8576b"
             ],
             [
              0.6666666666666666,
              "#ed7953"
             ],
             [
              0.7777777777777778,
              "#fb9f3a"
             ],
             [
              0.8888888888888888,
              "#fdca26"
             ],
             [
              1,
              "#f0f921"
             ]
            ],
            "type": "surface"
           }
          ],
          "table": [
           {
            "cells": {
             "fill": {
              "color": "#EBF0F8"
             },
             "line": {
              "color": "white"
             }
            },
            "header": {
             "fill": {
              "color": "#C8D4E3"
             },
             "line": {
              "color": "white"
             }
            },
            "type": "table"
           }
          ]
         },
         "layout": {
          "annotationdefaults": {
           "arrowcolor": "#2a3f5f",
           "arrowhead": 0,
           "arrowwidth": 1
          },
          "autotypenumbers": "strict",
          "coloraxis": {
           "colorbar": {
            "outlinewidth": 0,
            "ticks": ""
           }
          },
          "colorscale": {
           "diverging": [
            [
             0,
             "#8e0152"
            ],
            [
             0.1,
             "#c51b7d"
            ],
            [
             0.2,
             "#de77ae"
            ],
            [
             0.3,
             "#f1b6da"
            ],
            [
             0.4,
             "#fde0ef"
            ],
            [
             0.5,
             "#f7f7f7"
            ],
            [
             0.6,
             "#e6f5d0"
            ],
            [
             0.7,
             "#b8e186"
            ],
            [
             0.8,
             "#7fbc41"
            ],
            [
             0.9,
             "#4d9221"
            ],
            [
             1,
             "#276419"
            ]
           ],
           "sequential": [
            [
             0,
             "#0d0887"
            ],
            [
             0.1111111111111111,
             "#46039f"
            ],
            [
             0.2222222222222222,
             "#7201a8"
            ],
            [
             0.3333333333333333,
             "#9c179e"
            ],
            [
             0.4444444444444444,
             "#bd3786"
            ],
            [
             0.5555555555555556,
             "#d8576b"
            ],
            [
             0.6666666666666666,
             "#ed7953"
            ],
            [
             0.7777777777777778,
             "#fb9f3a"
            ],
            [
             0.8888888888888888,
             "#fdca26"
            ],
            [
             1,
             "#f0f921"
            ]
           ],
           "sequentialminus": [
            [
             0,
             "#0d0887"
            ],
            [
             0.1111111111111111,
             "#46039f"
            ],
            [
             0.2222222222222222,
             "#7201a8"
            ],
            [
             0.3333333333333333,
             "#9c179e"
            ],
            [
             0.4444444444444444,
             "#bd3786"
            ],
            [
             0.5555555555555556,
             "#d8576b"
            ],
            [
             0.6666666666666666,
             "#ed7953"
            ],
            [
             0.7777777777777778,
             "#fb9f3a"
            ],
            [
             0.8888888888888888,
             "#fdca26"
            ],
            [
             1,
             "#f0f921"
            ]
           ]
          },
          "colorway": [
           "#636efa",
           "#EF553B",
           "#00cc96",
           "#ab63fa",
           "#FFA15A",
           "#19d3f3",
           "#FF6692",
           "#B6E880",
           "#FF97FF",
           "#FECB52"
          ],
          "font": {
           "color": "#2a3f5f"
          },
          "geo": {
           "bgcolor": "white",
           "lakecolor": "white",
           "landcolor": "#E5ECF6",
           "showlakes": true,
           "showland": true,
           "subunitcolor": "white"
          },
          "hoverlabel": {
           "align": "left"
          },
          "hovermode": "closest",
          "mapbox": {
           "style": "light"
          },
          "paper_bgcolor": "white",
          "plot_bgcolor": "#E5ECF6",
          "polar": {
           "angularaxis": {
            "gridcolor": "white",
            "linecolor": "white",
            "ticks": ""
           },
           "bgcolor": "#E5ECF6",
           "radialaxis": {
            "gridcolor": "white",
            "linecolor": "white",
            "ticks": ""
           }
          },
          "scene": {
           "xaxis": {
            "backgroundcolor": "#E5ECF6",
            "gridcolor": "white",
            "gridwidth": 2,
            "linecolor": "white",
            "showbackground": true,
            "ticks": "",
            "zerolinecolor": "white"
           },
           "yaxis": {
            "backgroundcolor": "#E5ECF6",
            "gridcolor": "white",
            "gridwidth": 2,
            "linecolor": "white",
            "showbackground": true,
            "ticks": "",
            "zerolinecolor": "white"
           },
           "zaxis": {
            "backgroundcolor": "#E5ECF6",
            "gridcolor": "white",
            "gridwidth": 2,
            "linecolor": "white",
            "showbackground": true,
            "ticks": "",
            "zerolinecolor": "white"
           }
          },
          "shapedefaults": {
           "line": {
            "color": "#2a3f5f"
           }
          },
          "ternary": {
           "aaxis": {
            "gridcolor": "white",
            "linecolor": "white",
            "ticks": ""
           },
           "baxis": {
            "gridcolor": "white",
            "linecolor": "white",
            "ticks": ""
           },
           "bgcolor": "#E5ECF6",
           "caxis": {
            "gridcolor": "white",
            "linecolor": "white",
            "ticks": ""
           }
          },
          "title": {
           "x": 0.05
          },
          "xaxis": {
           "automargin": true,
           "gridcolor": "white",
           "linecolor": "white",
           "ticks": "",
           "title": {
            "standoff": 15
           },
           "zerolinecolor": "white",
           "zerolinewidth": 2
          },
          "yaxis": {
           "automargin": true,
           "gridcolor": "white",
           "linecolor": "white",
           "ticks": "",
           "title": {
            "standoff": 15
           },
           "zerolinecolor": "white",
           "zerolinewidth": 2
          }
         }
        },
        "title": {
         "text": "Топ упоминаемых персон в канале: ENews112"
        },
        "xaxis": {
         "anchor": "y",
         "domain": [
          0,
          1
         ],
         "title": {
          "text": "Упоминания"
         }
        },
        "yaxis": {
         "anchor": "x",
         "categoryorder": "total ascending",
         "domain": [
          0,
          1
         ],
         "title": {
          "text": "Имя"
         }
        }
       }
      }
     },
     "metadata": {},
     "output_type": "display_data"
    },
    {
     "data": {
      "application/vnd.plotly.v1+json": {
       "config": {
        "plotlyServerURL": "https://plot.ly"
       },
       "data": [
        {
         "hovertemplate": "Упоминания=%{x}<br>Имя=%{y}<extra></extra>",
         "legendgroup": "",
         "marker": {
          "color": "#636efa",
          "pattern": {
           "shape": ""
          }
         },
         "name": "",
         "orientation": "h",
         "showlegend": false,
         "textposition": "auto",
         "type": "bar",
         "x": {
          "bdata": "BAQCAgEBAQE=",
          "dtype": "i1"
         },
         "xaxis": "x",
         "y": [
          "Трамп",
          "Путин",
          "Дональд Трамп",
          "Санаэ Такаити",
          "Владимир Путин",
          "Си Цзиньпин",
          "Линь Цзянь",
          "Такаити"
         ],
         "yaxis": "y"
        }
       ],
       "layout": {
        "barmode": "relative",
        "height": 300,
        "legend": {
         "tracegroupgap": 0
        },
        "template": {
         "data": {
          "bar": [
           {
            "error_x": {
             "color": "#2a3f5f"
            },
            "error_y": {
             "color": "#2a3f5f"
            },
            "marker": {
             "line": {
              "color": "#E5ECF6",
              "width": 0.5
             },
             "pattern": {
              "fillmode": "overlay",
              "size": 10,
              "solidity": 0.2
             }
            },
            "type": "bar"
           }
          ],
          "barpolar": [
           {
            "marker": {
             "line": {
              "color": "#E5ECF6",
              "width": 0.5
             },
             "pattern": {
              "fillmode": "overlay",
              "size": 10,
              "solidity": 0.2
             }
            },
            "type": "barpolar"
           }
          ],
          "carpet": [
           {
            "aaxis": {
             "endlinecolor": "#2a3f5f",
             "gridcolor": "white",
             "linecolor": "white",
             "minorgridcolor": "white",
             "startlinecolor": "#2a3f5f"
            },
            "baxis": {
             "endlinecolor": "#2a3f5f",
             "gridcolor": "white",
             "linecolor": "white",
             "minorgridcolor": "white",
             "startlinecolor": "#2a3f5f"
            },
            "type": "carpet"
           }
          ],
          "choropleth": [
           {
            "colorbar": {
             "outlinewidth": 0,
             "ticks": ""
            },
            "type": "choropleth"
           }
          ],
          "contour": [
           {
            "colorbar": {
             "outlinewidth": 0,
             "ticks": ""
            },
            "colorscale": [
             [
              0,
              "#0d0887"
             ],
             [
              0.1111111111111111,
              "#46039f"
             ],
             [
              0.2222222222222222,
              "#7201a8"
             ],
             [
              0.3333333333333333,
              "#9c179e"
             ],
             [
              0.4444444444444444,
              "#bd3786"
             ],
             [
              0.5555555555555556,
              "#d8576b"
             ],
             [
              0.6666666666666666,
              "#ed7953"
             ],
             [
              0.7777777777777778,
              "#fb9f3a"
             ],
             [
              0.8888888888888888,
              "#fdca26"
             ],
             [
              1,
              "#f0f921"
             ]
            ],
            "type": "contour"
           }
          ],
          "contourcarpet": [
           {
            "colorbar": {
             "outlinewidth": 0,
             "ticks": ""
            },
            "type": "contourcarpet"
           }
          ],
          "heatmap": [
           {
            "colorbar": {
             "outlinewidth": 0,
             "ticks": ""
            },
            "colorscale": [
             [
              0,
              "#0d0887"
             ],
             [
              0.1111111111111111,
              "#46039f"
             ],
             [
              0.2222222222222222,
              "#7201a8"
             ],
             [
              0.3333333333333333,
              "#9c179e"
             ],
             [
              0.4444444444444444,
              "#bd3786"
             ],
             [
              0.5555555555555556,
              "#d8576b"
             ],
             [
              0.6666666666666666,
              "#ed7953"
             ],
             [
              0.7777777777777778,
              "#fb9f3a"
             ],
             [
              0.8888888888888888,
              "#fdca26"
             ],
             [
              1,
              "#f0f921"
             ]
            ],
            "type": "heatmap"
           }
          ],
          "histogram": [
           {
            "marker": {
             "pattern": {
              "fillmode": "overlay",
              "size": 10,
              "solidity": 0.2
             }
            },
            "type": "histogram"
           }
          ],
          "histogram2d": [
           {
            "colorbar": {
             "outlinewidth": 0,
             "ticks": ""
            },
            "colorscale": [
             [
              0,
              "#0d0887"
             ],
             [
              0.1111111111111111,
              "#46039f"
             ],
             [
              0.2222222222222222,
              "#7201a8"
             ],
             [
              0.3333333333333333,
              "#9c179e"
             ],
             [
              0.4444444444444444,
              "#bd3786"
             ],
             [
              0.5555555555555556,
              "#d8576b"
             ],
             [
              0.6666666666666666,
              "#ed7953"
             ],
             [
              0.7777777777777778,
              "#fb9f3a"
             ],
             [
              0.8888888888888888,
              "#fdca26"
             ],
             [
              1,
              "#f0f921"
             ]
            ],
            "type": "histogram2d"
           }
          ],
          "histogram2dcontour": [
           {
            "colorbar": {
             "outlinewidth": 0,
             "ticks": ""
            },
            "colorscale": [
             [
              0,
              "#0d0887"
             ],
             [
              0.1111111111111111,
              "#46039f"
             ],
             [
              0.2222222222222222,
              "#7201a8"
             ],
             [
              0.3333333333333333,
              "#9c179e"
             ],
             [
              0.4444444444444444,
              "#bd3786"
             ],
             [
              0.5555555555555556,
              "#d8576b"
             ],
             [
              0.6666666666666666,
              "#ed7953"
             ],
             [
              0.7777777777777778,
              "#fb9f3a"
             ],
             [
              0.8888888888888888,
              "#fdca26"
             ],
             [
              1,
              "#f0f921"
             ]
            ],
            "type": "histogram2dcontour"
           }
          ],
          "mesh3d": [
           {
            "colorbar": {
             "outlinewidth": 0,
             "ticks": ""
            },
            "type": "mesh3d"
           }
          ],
          "parcoords": [
           {
            "line": {
             "colorbar": {
              "outlinewidth": 0,
              "ticks": ""
             }
            },
            "type": "parcoords"
           }
          ],
          "pie": [
           {
            "automargin": true,
            "type": "pie"
           }
          ],
          "scatter": [
           {
            "fillpattern": {
             "fillmode": "overlay",
             "size": 10,
             "solidity": 0.2
            },
            "type": "scatter"
           }
          ],
          "scatter3d": [
           {
            "line": {
             "colorbar": {
              "outlinewidth": 0,
              "ticks": ""
             }
            },
            "marker": {
             "colorbar": {
              "outlinewidth": 0,
              "ticks": ""
             }
            },
            "type": "scatter3d"
           }
          ],
          "scattercarpet": [
           {
            "marker": {
             "colorbar": {
              "outlinewidth": 0,
              "ticks": ""
             }
            },
            "type": "scattercarpet"
           }
          ],
          "scattergeo": [
           {
            "marker": {
             "colorbar": {
              "outlinewidth": 0,
              "ticks": ""
             }
            },
            "type": "scattergeo"
           }
          ],
          "scattergl": [
           {
            "marker": {
             "colorbar": {
              "outlinewidth": 0,
              "ticks": ""
             }
            },
            "type": "scattergl"
           }
          ],
          "scattermap": [
           {
            "marker": {
             "colorbar": {
              "outlinewidth": 0,
              "ticks": ""
             }
            },
            "type": "scattermap"
           }
          ],
          "scattermapbox": [
           {
            "marker": {
             "colorbar": {
              "outlinewidth": 0,
              "ticks": ""
             }
            },
            "type": "scattermapbox"
           }
          ],
          "scatterpolar": [
           {
            "marker": {
             "colorbar": {
              "outlinewidth": 0,
              "ticks": ""
             }
            },
            "type": "scatterpolar"
           }
          ],
          "scatterpolargl": [
           {
            "marker": {
             "colorbar": {
              "outlinewidth": 0,
              "ticks": ""
             }
            },
            "type": "scatterpolargl"
           }
          ],
          "scatterternary": [
           {
            "marker": {
             "colorbar": {
              "outlinewidth": 0,
              "ticks": ""
             }
            },
            "type": "scatterternary"
           }
          ],
          "surface": [
           {
            "colorbar": {
             "outlinewidth": 0,
             "ticks": ""
            },
            "colorscale": [
             [
              0,
              "#0d0887"
             ],
             [
              0.1111111111111111,
              "#46039f"
             ],
             [
              0.2222222222222222,
              "#7201a8"
             ],
             [
              0.3333333333333333,
              "#9c179e"
             ],
             [
              0.4444444444444444,
              "#bd3786"
             ],
             [
              0.5555555555555556,
              "#d8576b"
             ],
             [
              0.6666666666666666,
              "#ed7953"
             ],
             [
              0.7777777777777778,
              "#fb9f3a"
             ],
             [
              0.8888888888888888,
              "#fdca26"
             ],
             [
              1,
              "#f0f921"
             ]
            ],
            "type": "surface"
           }
          ],
          "table": [
           {
            "cells": {
             "fill": {
              "color": "#EBF0F8"
             },
             "line": {
              "color": "white"
             }
            },
            "header": {
             "fill": {
              "color": "#C8D4E3"
             },
             "line": {
              "color": "white"
             }
            },
            "type": "table"
           }
          ]
         },
         "layout": {
          "annotationdefaults": {
           "arrowcolor": "#2a3f5f",
           "arrowhead": 0,
           "arrowwidth": 1
          },
          "autotypenumbers": "strict",
          "coloraxis": {
           "colorbar": {
            "outlinewidth": 0,
            "ticks": ""
           }
          },
          "colorscale": {
           "diverging": [
            [
             0,
             "#8e0152"
            ],
            [
             0.1,
             "#c51b7d"
            ],
            [
             0.2,
             "#de77ae"
            ],
            [
             0.3,
             "#f1b6da"
            ],
            [
             0.4,
             "#fde0ef"
            ],
            [
             0.5,
             "#f7f7f7"
            ],
            [
             0.6,
             "#e6f5d0"
            ],
            [
             0.7,
             "#b8e186"
            ],
            [
             0.8,
             "#7fbc41"
            ],
            [
             0.9,
             "#4d9221"
            ],
            [
             1,
             "#276419"
            ]
           ],
           "sequential": [
            [
             0,
             "#0d0887"
            ],
            [
             0.1111111111111111,
             "#46039f"
            ],
            [
             0.2222222222222222,
             "#7201a8"
            ],
            [
             0.3333333333333333,
             "#9c179e"
            ],
            [
             0.4444444444444444,
             "#bd3786"
            ],
            [
             0.5555555555555556,
             "#d8576b"
            ],
            [
             0.6666666666666666,
             "#ed7953"
            ],
            [
             0.7777777777777778,
             "#fb9f3a"
            ],
            [
             0.8888888888888888,
             "#fdca26"
            ],
            [
             1,
             "#f0f921"
            ]
           ],
           "sequentialminus": [
            [
             0,
             "#0d0887"
            ],
            [
             0.1111111111111111,
             "#46039f"
            ],
            [
             0.2222222222222222,
             "#7201a8"
            ],
            [
             0.3333333333333333,
             "#9c179e"
            ],
            [
             0.4444444444444444,
             "#bd3786"
            ],
            [
             0.5555555555555556,
             "#d8576b"
            ],
            [
             0.6666666666666666,
             "#ed7953"
            ],
            [
             0.7777777777777778,
             "#fb9f3a"
            ],
            [
             0.8888888888888888,
             "#fdca26"
            ],
            [
             1,
             "#f0f921"
            ]
           ]
          },
          "colorway": [
           "#636efa",
           "#EF553B",
           "#00cc96",
           "#ab63fa",
           "#FFA15A",
           "#19d3f3",
           "#FF6692",
           "#B6E880",
           "#FF97FF",
           "#FECB52"
          ],
          "font": {
           "color": "#2a3f5f"
          },
          "geo": {
           "bgcolor": "white",
           "lakecolor": "white",
           "landcolor": "#E5ECF6",
           "showlakes": true,
           "showland": true,
           "subunitcolor": "white"
          },
          "hoverlabel": {
           "align": "left"
          },
          "hovermode": "closest",
          "mapbox": {
           "style": "light"
          },
          "paper_bgcolor": "white",
          "plot_bgcolor": "#E5ECF6",
          "polar": {
           "angularaxis": {
            "gridcolor": "white",
            "linecolor": "white",
            "ticks": ""
           },
           "bgcolor": "#E5ECF6",
           "radialaxis": {
            "gridcolor": "white",
            "linecolor": "white",
            "ticks": ""
           }
          },
          "scene": {
           "xaxis": {
            "backgroundcolor": "#E5ECF6",
            "gridcolor": "white",
            "gridwidth": 2,
            "linecolor": "white",
            "showbackground": true,
            "ticks": "",
            "zerolinecolor": "white"
           },
           "yaxis": {
            "backgroundcolor": "#E5ECF6",
            "gridcolor": "white",
            "gridwidth": 2,
            "linecolor": "white",
            "showbackground": true,
            "ticks": "",
            "zerolinecolor": "white"
           },
           "zaxis": {
            "backgroundcolor": "#E5ECF6",
            "gridcolor": "white",
            "gridwidth": 2,
            "linecolor": "white",
            "showbackground": true,
            "ticks": "",
            "zerolinecolor": "white"
           }
          },
          "shapedefaults": {
           "line": {
            "color": "#2a3f5f"
           }
          },
          "ternary": {
           "aaxis": {
            "gridcolor": "white",
            "linecolor": "white",
            "ticks": ""
           },
           "baxis": {
            "gridcolor": "white",
            "linecolor": "white",
            "ticks": ""
           },
           "bgcolor": "#E5ECF6",
           "caxis": {
            "gridcolor": "white",
            "linecolor": "white",
            "ticks": ""
           }
          },
          "title": {
           "x": 0.05
          },
          "xaxis": {
           "automargin": true,
           "gridcolor": "white",
           "linecolor": "white",
           "ticks": "",
           "title": {
            "standoff": 15
           },
           "zerolinecolor": "white",
           "zerolinewidth": 2
          },
          "yaxis": {
           "automargin": true,
           "gridcolor": "white",
           "linecolor": "white",
           "ticks": "",
           "title": {
            "standoff": 15
           },
           "zerolinecolor": "white",
           "zerolinewidth": 2
          }
         }
        },
        "title": {
         "text": "Топ упоминаемых персон в канале: headlines_for_traders"
        },
        "xaxis": {
         "anchor": "y",
         "domain": [
          0,
          1
         ],
         "title": {
          "text": "Упоминания"
         }
        },
        "yaxis": {
         "anchor": "x",
         "categoryorder": "total ascending",
         "domain": [
          0,
          1
         ],
         "title": {
          "text": "Имя"
         }
        }
       }
      }
     },
     "metadata": {},
     "output_type": "display_data"
    },
    {
     "data": {
      "application/vnd.plotly.v1+json": {
       "config": {
        "plotlyServerURL": "https://plot.ly"
       },
       "data": [
        {
         "hovertemplate": "Упоминания=%{x}<br>Имя=%{y}<extra></extra>",
         "legendgroup": "",
         "marker": {
          "color": "#636efa",
          "pattern": {
           "shape": ""
          }
         },
         "name": "",
         "orientation": "h",
         "showlegend": false,
         "textposition": "auto",
         "type": "bar",
         "x": {
          "bdata": "AwIBAQEBAQE=",
          "dtype": "i1"
         },
         "xaxis": "x",
         "y": [
          "Лекорню",
          "Шпор",
          "Рамзан Кадыров",
          "Р. Кадыров",
          "Магомед Даудов",
          "Константин Лопатенко",
          "Алексей Леонов",
          "Янник Аллено"
         ],
         "yaxis": "y"
        }
       ],
       "layout": {
        "barmode": "relative",
        "height": 300,
        "legend": {
         "tracegroupgap": 0
        },
        "template": {
         "data": {
          "bar": [
           {
            "error_x": {
             "color": "#2a3f5f"
            },
            "error_y": {
             "color": "#2a3f5f"
            },
            "marker": {
             "line": {
              "color": "#E5ECF6",
              "width": 0.5
             },
             "pattern": {
              "fillmode": "overlay",
              "size": 10,
              "solidity": 0.2
             }
            },
            "type": "bar"
           }
          ],
          "barpolar": [
           {
            "marker": {
             "line": {
              "color": "#E5ECF6",
              "width": 0.5
             },
             "pattern": {
              "fillmode": "overlay",
              "size": 10,
              "solidity": 0.2
             }
            },
            "type": "barpolar"
           }
          ],
          "carpet": [
           {
            "aaxis": {
             "endlinecolor": "#2a3f5f",
             "gridcolor": "white",
             "linecolor": "white",
             "minorgridcolor": "white",
             "startlinecolor": "#2a3f5f"
            },
            "baxis": {
             "endlinecolor": "#2a3f5f",
             "gridcolor": "white",
             "linecolor": "white",
             "minorgridcolor": "white",
             "startlinecolor": "#2a3f5f"
            },
            "type": "carpet"
           }
          ],
          "choropleth": [
           {
            "colorbar": {
             "outlinewidth": 0,
             "ticks": ""
            },
            "type": "choropleth"
           }
          ],
          "contour": [
           {
            "colorbar": {
             "outlinewidth": 0,
             "ticks": ""
            },
            "colorscale": [
             [
              0,
              "#0d0887"
             ],
             [
              0.1111111111111111,
              "#46039f"
             ],
             [
              0.2222222222222222,
              "#7201a8"
             ],
             [
              0.3333333333333333,
              "#9c179e"
             ],
             [
              0.4444444444444444,
              "#bd3786"
             ],
             [
              0.5555555555555556,
              "#d8576b"
             ],
             [
              0.6666666666666666,
              "#ed7953"
             ],
             [
              0.7777777777777778,
              "#fb9f3a"
             ],
             [
              0.8888888888888888,
              "#fdca26"
             ],
             [
              1,
              "#f0f921"
             ]
            ],
            "type": "contour"
           }
          ],
          "contourcarpet": [
           {
            "colorbar": {
             "outlinewidth": 0,
             "ticks": ""
            },
            "type": "contourcarpet"
           }
          ],
          "heatmap": [
           {
            "colorbar": {
             "outlinewidth": 0,
             "ticks": ""
            },
            "colorscale": [
             [
              0,
              "#0d0887"
             ],
             [
              0.1111111111111111,
              "#46039f"
             ],
             [
              0.2222222222222222,
              "#7201a8"
             ],
             [
              0.3333333333333333,
              "#9c179e"
             ],
             [
              0.4444444444444444,
              "#bd3786"
             ],
             [
              0.5555555555555556,
              "#d8576b"
             ],
             [
              0.6666666666666666,
              "#ed7953"
             ],
             [
              0.7777777777777778,
              "#fb9f3a"
             ],
             [
              0.8888888888888888,
              "#fdca26"
             ],
             [
              1,
              "#f0f921"
             ]
            ],
            "type": "heatmap"
           }
          ],
          "histogram": [
           {
            "marker": {
             "pattern": {
              "fillmode": "overlay",
              "size": 10,
              "solidity": 0.2
             }
            },
            "type": "histogram"
           }
          ],
          "histogram2d": [
           {
            "colorbar": {
             "outlinewidth": 0,
             "ticks": ""
            },
            "colorscale": [
             [
              0,
              "#0d0887"
             ],
             [
              0.1111111111111111,
              "#46039f"
             ],
             [
              0.2222222222222222,
              "#7201a8"
             ],
             [
              0.3333333333333333,
              "#9c179e"
             ],
             [
              0.4444444444444444,
              "#bd3786"
             ],
             [
              0.5555555555555556,
              "#d8576b"
             ],
             [
              0.6666666666666666,
              "#ed7953"
             ],
             [
              0.7777777777777778,
              "#fb9f3a"
             ],
             [
              0.8888888888888888,
              "#fdca26"
             ],
             [
              1,
              "#f0f921"
             ]
            ],
            "type": "histogram2d"
           }
          ],
          "histogram2dcontour": [
           {
            "colorbar": {
             "outlinewidth": 0,
             "ticks": ""
            },
            "colorscale": [
             [
              0,
              "#0d0887"
             ],
             [
              0.1111111111111111,
              "#46039f"
             ],
             [
              0.2222222222222222,
              "#7201a8"
             ],
             [
              0.3333333333333333,
              "#9c179e"
             ],
             [
              0.4444444444444444,
              "#bd3786"
             ],
             [
              0.5555555555555556,
              "#d8576b"
             ],
             [
              0.6666666666666666,
              "#ed7953"
             ],
             [
              0.7777777777777778,
              "#fb9f3a"
             ],
             [
              0.8888888888888888,
              "#fdca26"
             ],
             [
              1,
              "#f0f921"
             ]
            ],
            "type": "histogram2dcontour"
           }
          ],
          "mesh3d": [
           {
            "colorbar": {
             "outlinewidth": 0,
             "ticks": ""
            },
            "type": "mesh3d"
           }
          ],
          "parcoords": [
           {
            "line": {
             "colorbar": {
              "outlinewidth": 0,
              "ticks": ""
             }
            },
            "type": "parcoords"
           }
          ],
          "pie": [
           {
            "automargin": true,
            "type": "pie"
           }
          ],
          "scatter": [
           {
            "fillpattern": {
             "fillmode": "overlay",
             "size": 10,
             "solidity": 0.2
            },
            "type": "scatter"
           }
          ],
          "scatter3d": [
           {
            "line": {
             "colorbar": {
              "outlinewidth": 0,
              "ticks": ""
             }
            },
            "marker": {
             "colorbar": {
              "outlinewidth": 0,
              "ticks": ""
             }
            },
            "type": "scatter3d"
           }
          ],
          "scattercarpet": [
           {
            "marker": {
             "colorbar": {
              "outlinewidth": 0,
              "ticks": ""
             }
            },
            "type": "scattercarpet"
           }
          ],
          "scattergeo": [
           {
            "marker": {
             "colorbar": {
              "outlinewidth": 0,
              "ticks": ""
             }
            },
            "type": "scattergeo"
           }
          ],
          "scattergl": [
           {
            "marker": {
             "colorbar": {
              "outlinewidth": 0,
              "ticks": ""
             }
            },
            "type": "scattergl"
           }
          ],
          "scattermap": [
           {
            "marker": {
             "colorbar": {
              "outlinewidth": 0,
              "ticks": ""
             }
            },
            "type": "scattermap"
           }
          ],
          "scattermapbox": [
           {
            "marker": {
             "colorbar": {
              "outlinewidth": 0,
              "ticks": ""
             }
            },
            "type": "scattermapbox"
           }
          ],
          "scatterpolar": [
           {
            "marker": {
             "colorbar": {
              "outlinewidth": 0,
              "ticks": ""
             }
            },
            "type": "scatterpolar"
           }
          ],
          "scatterpolargl": [
           {
            "marker": {
             "colorbar": {
              "outlinewidth": 0,
              "ticks": ""
             }
            },
            "type": "scatterpolargl"
           }
          ],
          "scatterternary": [
           {
            "marker": {
             "colorbar": {
              "outlinewidth": 0,
              "ticks": ""
             }
            },
            "type": "scatterternary"
           }
          ],
          "surface": [
           {
            "colorbar": {
             "outlinewidth": 0,
             "ticks": ""
            },
            "colorscale": [
             [
              0,
              "#0d0887"
             ],
             [
              0.1111111111111111,
              "#46039f"
             ],
             [
              0.2222222222222222,
              "#7201a8"
             ],
             [
              0.3333333333333333,
              "#9c179e"
             ],
             [
              0.4444444444444444,
              "#bd3786"
             ],
             [
              0.5555555555555556,
              "#d8576b"
             ],
             [
              0.6666666666666666,
              "#ed7953"
             ],
             [
              0.7777777777777778,
              "#fb9f3a"
             ],
             [
              0.8888888888888888,
              "#fdca26"
             ],
             [
              1,
              "#f0f921"
             ]
            ],
            "type": "surface"
           }
          ],
          "table": [
           {
            "cells": {
             "fill": {
              "color": "#EBF0F8"
             },
             "line": {
              "color": "white"
             }
            },
            "header": {
             "fill": {
              "color": "#C8D4E3"
             },
             "line": {
              "color": "white"
             }
            },
            "type": "table"
           }
          ]
         },
         "layout": {
          "annotationdefaults": {
           "arrowcolor": "#2a3f5f",
           "arrowhead": 0,
           "arrowwidth": 1
          },
          "autotypenumbers": "strict",
          "coloraxis": {
           "colorbar": {
            "outlinewidth": 0,
            "ticks": ""
           }
          },
          "colorscale": {
           "diverging": [
            [
             0,
             "#8e0152"
            ],
            [
             0.1,
             "#c51b7d"
            ],
            [
             0.2,
             "#de77ae"
            ],
            [
             0.3,
             "#f1b6da"
            ],
            [
             0.4,
             "#fde0ef"
            ],
            [
             0.5,
             "#f7f7f7"
            ],
            [
             0.6,
             "#e6f5d0"
            ],
            [
             0.7,
             "#b8e186"
            ],
            [
             0.8,
             "#7fbc41"
            ],
            [
             0.9,
             "#4d9221"
            ],
            [
             1,
             "#276419"
            ]
           ],
           "sequential": [
            [
             0,
             "#0d0887"
            ],
            [
             0.1111111111111111,
             "#46039f"
            ],
            [
             0.2222222222222222,
             "#7201a8"
            ],
            [
             0.3333333333333333,
             "#9c179e"
            ],
            [
             0.4444444444444444,
             "#bd3786"
            ],
            [
             0.5555555555555556,
             "#d8576b"
            ],
            [
             0.6666666666666666,
             "#ed7953"
            ],
            [
             0.7777777777777778,
             "#fb9f3a"
            ],
            [
             0.8888888888888888,
             "#fdca26"
            ],
            [
             1,
             "#f0f921"
            ]
           ],
           "sequentialminus": [
            [
             0,
             "#0d0887"
            ],
            [
             0.1111111111111111,
             "#46039f"
            ],
            [
             0.2222222222222222,
             "#7201a8"
            ],
            [
             0.3333333333333333,
             "#9c179e"
            ],
            [
             0.4444444444444444,
             "#bd3786"
            ],
            [
             0.5555555555555556,
             "#d8576b"
            ],
            [
             0.6666666666666666,
             "#ed7953"
            ],
            [
             0.7777777777777778,
             "#fb9f3a"
            ],
            [
             0.8888888888888888,
             "#fdca26"
            ],
            [
             1,
             "#f0f921"
            ]
           ]
          },
          "colorway": [
           "#636efa",
           "#EF553B",
           "#00cc96",
           "#ab63fa",
           "#FFA15A",
           "#19d3f3",
           "#FF6692",
           "#B6E880",
           "#FF97FF",
           "#FECB52"
          ],
          "font": {
           "color": "#2a3f5f"
          },
          "geo": {
           "bgcolor": "white",
           "lakecolor": "white",
           "landcolor": "#E5ECF6",
           "showlakes": true,
           "showland": true,
           "subunitcolor": "white"
          },
          "hoverlabel": {
           "align": "left"
          },
          "hovermode": "closest",
          "mapbox": {
           "style": "light"
          },
          "paper_bgcolor": "white",
          "plot_bgcolor": "#E5ECF6",
          "polar": {
           "angularaxis": {
            "gridcolor": "white",
            "linecolor": "white",
            "ticks": ""
           },
           "bgcolor": "#E5ECF6",
           "radialaxis": {
            "gridcolor": "white",
            "linecolor": "white",
            "ticks": ""
           }
          },
          "scene": {
           "xaxis": {
            "backgroundcolor": "#E5ECF6",
            "gridcolor": "white",
            "gridwidth": 2,
            "linecolor": "white",
            "showbackground": true,
            "ticks": "",
            "zerolinecolor": "white"
           },
           "yaxis": {
            "backgroundcolor": "#E5ECF6",
            "gridcolor": "white",
            "gridwidth": 2,
            "linecolor": "white",
            "showbackground": true,
            "ticks": "",
            "zerolinecolor": "white"
           },
           "zaxis": {
            "backgroundcolor": "#E5ECF6",
            "gridcolor": "white",
            "gridwidth": 2,
            "linecolor": "white",
            "showbackground": true,
            "ticks": "",
            "zerolinecolor": "white"
           }
          },
          "shapedefaults": {
           "line": {
            "color": "#2a3f5f"
           }
          },
          "ternary": {
           "aaxis": {
            "gridcolor": "white",
            "linecolor": "white",
            "ticks": ""
           },
           "baxis": {
            "gridcolor": "white",
            "linecolor": "white",
            "ticks": ""
           },
           "bgcolor": "#E5ECF6",
           "caxis": {
            "gridcolor": "white",
            "linecolor": "white",
            "ticks": ""
           }
          },
          "title": {
           "x": 0.05
          },
          "xaxis": {
           "automargin": true,
           "gridcolor": "white",
           "linecolor": "white",
           "ticks": "",
           "title": {
            "standoff": 15
           },
           "zerolinecolor": "white",
           "zerolinewidth": 2
          },
          "yaxis": {
           "automargin": true,
           "gridcolor": "white",
           "linecolor": "white",
           "ticks": "",
           "title": {
            "standoff": 15
           },
           "zerolinecolor": "white",
           "zerolinewidth": 2
          }
         }
        },
        "title": {
         "text": "Топ упоминаемых персон в канале: aviadispet4er"
        },
        "xaxis": {
         "anchor": "y",
         "domain": [
          0,
          1
         ],
         "title": {
          "text": "Упоминания"
         }
        },
        "yaxis": {
         "anchor": "x",
         "categoryorder": "total ascending",
         "domain": [
          0,
          1
         ],
         "title": {
          "text": "Имя"
         }
        }
       }
      }
     },
     "metadata": {},
     "output_type": "display_data"
    },
    {
     "data": {
      "application/vnd.plotly.v1+json": {
       "config": {
        "plotlyServerURL": "https://plot.ly"
       },
       "data": [
        {
         "hovertemplate": "Упоминания=%{x}<br>Имя=%{y}<extra></extra>",
         "legendgroup": "",
         "marker": {
          "color": "#636efa",
          "pattern": {
           "shape": ""
          }
         },
         "name": "",
         "orientation": "h",
         "showlegend": false,
         "textposition": "auto",
         "type": "bar",
         "x": {
          "bdata": "AgEBAQEBAQE=",
          "dtype": "i1"
         },
         "xaxis": "x",
         "y": [
          "Москвавобъективе",
          "А.С. Пушкин",
          "Кусково",
          "Силине",
          "Рублев",
          "Делабарт",
          "Сергей Зорин",
          "Сергей Собянин"
         ],
         "yaxis": "y"
        }
       ],
       "layout": {
        "barmode": "relative",
        "height": 300,
        "legend": {
         "tracegroupgap": 0
        },
        "template": {
         "data": {
          "bar": [
           {
            "error_x": {
             "color": "#2a3f5f"
            },
            "error_y": {
             "color": "#2a3f5f"
            },
            "marker": {
             "line": {
              "color": "#E5ECF6",
              "width": 0.5
             },
             "pattern": {
              "fillmode": "overlay",
              "size": 10,
              "solidity": 0.2
             }
            },
            "type": "bar"
           }
          ],
          "barpolar": [
           {
            "marker": {
             "line": {
              "color": "#E5ECF6",
              "width": 0.5
             },
             "pattern": {
              "fillmode": "overlay",
              "size": 10,
              "solidity": 0.2
             }
            },
            "type": "barpolar"
           }
          ],
          "carpet": [
           {
            "aaxis": {
             "endlinecolor": "#2a3f5f",
             "gridcolor": "white",
             "linecolor": "white",
             "minorgridcolor": "white",
             "startlinecolor": "#2a3f5f"
            },
            "baxis": {
             "endlinecolor": "#2a3f5f",
             "gridcolor": "white",
             "linecolor": "white",
             "minorgridcolor": "white",
             "startlinecolor": "#2a3f5f"
            },
            "type": "carpet"
           }
          ],
          "choropleth": [
           {
            "colorbar": {
             "outlinewidth": 0,
             "ticks": ""
            },
            "type": "choropleth"
           }
          ],
          "contour": [
           {
            "colorbar": {
             "outlinewidth": 0,
             "ticks": ""
            },
            "colorscale": [
             [
              0,
              "#0d0887"
             ],
             [
              0.1111111111111111,
              "#46039f"
             ],
             [
              0.2222222222222222,
              "#7201a8"
             ],
             [
              0.3333333333333333,
              "#9c179e"
             ],
             [
              0.4444444444444444,
              "#bd3786"
             ],
             [
              0.5555555555555556,
              "#d8576b"
             ],
             [
              0.6666666666666666,
              "#ed7953"
             ],
             [
              0.7777777777777778,
              "#fb9f3a"
             ],
             [
              0.8888888888888888,
              "#fdca26"
             ],
             [
              1,
              "#f0f921"
             ]
            ],
            "type": "contour"
           }
          ],
          "contourcarpet": [
           {
            "colorbar": {
             "outlinewidth": 0,
             "ticks": ""
            },
            "type": "contourcarpet"
           }
          ],
          "heatmap": [
           {
            "colorbar": {
             "outlinewidth": 0,
             "ticks": ""
            },
            "colorscale": [
             [
              0,
              "#0d0887"
             ],
             [
              0.1111111111111111,
              "#46039f"
             ],
             [
              0.2222222222222222,
              "#7201a8"
             ],
             [
              0.3333333333333333,
              "#9c179e"
             ],
             [
              0.4444444444444444,
              "#bd3786"
             ],
             [
              0.5555555555555556,
              "#d8576b"
             ],
             [
              0.6666666666666666,
              "#ed7953"
             ],
             [
              0.7777777777777778,
              "#fb9f3a"
             ],
             [
              0.8888888888888888,
              "#fdca26"
             ],
             [
              1,
              "#f0f921"
             ]
            ],
            "type": "heatmap"
           }
          ],
          "histogram": [
           {
            "marker": {
             "pattern": {
              "fillmode": "overlay",
              "size": 10,
              "solidity": 0.2
             }
            },
            "type": "histogram"
           }
          ],
          "histogram2d": [
           {
            "colorbar": {
             "outlinewidth": 0,
             "ticks": ""
            },
            "colorscale": [
             [
              0,
              "#0d0887"
             ],
             [
              0.1111111111111111,
              "#46039f"
             ],
             [
              0.2222222222222222,
              "#7201a8"
             ],
             [
              0.3333333333333333,
              "#9c179e"
             ],
             [
              0.4444444444444444,
              "#bd3786"
             ],
             [
              0.5555555555555556,
              "#d8576b"
             ],
             [
              0.6666666666666666,
              "#ed7953"
             ],
             [
              0.7777777777777778,
              "#fb9f3a"
             ],
             [
              0.8888888888888888,
              "#fdca26"
             ],
             [
              1,
              "#f0f921"
             ]
            ],
            "type": "histogram2d"
           }
          ],
          "histogram2dcontour": [
           {
            "colorbar": {
             "outlinewidth": 0,
             "ticks": ""
            },
            "colorscale": [
             [
              0,
              "#0d0887"
             ],
             [
              0.1111111111111111,
              "#46039f"
             ],
             [
              0.2222222222222222,
              "#7201a8"
             ],
             [
              0.3333333333333333,
              "#9c179e"
             ],
             [
              0.4444444444444444,
              "#bd3786"
             ],
             [
              0.5555555555555556,
              "#d8576b"
             ],
             [
              0.6666666666666666,
              "#ed7953"
             ],
             [
              0.7777777777777778,
              "#fb9f3a"
             ],
             [
              0.8888888888888888,
              "#fdca26"
             ],
             [
              1,
              "#f0f921"
             ]
            ],
            "type": "histogram2dcontour"
           }
          ],
          "mesh3d": [
           {
            "colorbar": {
             "outlinewidth": 0,
             "ticks": ""
            },
            "type": "mesh3d"
           }
          ],
          "parcoords": [
           {
            "line": {
             "colorbar": {
              "outlinewidth": 0,
              "ticks": ""
             }
            },
            "type": "parcoords"
           }
          ],
          "pie": [
           {
            "automargin": true,
            "type": "pie"
           }
          ],
          "scatter": [
           {
            "fillpattern": {
             "fillmode": "overlay",
             "size": 10,
             "solidity": 0.2
            },
            "type": "scatter"
           }
          ],
          "scatter3d": [
           {
            "line": {
             "colorbar": {
              "outlinewidth": 0,
              "ticks": ""
             }
            },
            "marker": {
             "colorbar": {
              "outlinewidth": 0,
              "ticks": ""
             }
            },
            "type": "scatter3d"
           }
          ],
          "scattercarpet": [
           {
            "marker": {
             "colorbar": {
              "outlinewidth": 0,
              "ticks": ""
             }
            },
            "type": "scattercarpet"
           }
          ],
          "scattergeo": [
           {
            "marker": {
             "colorbar": {
              "outlinewidth": 0,
              "ticks": ""
             }
            },
            "type": "scattergeo"
           }
          ],
          "scattergl": [
           {
            "marker": {
             "colorbar": {
              "outlinewidth": 0,
              "ticks": ""
             }
            },
            "type": "scattergl"
           }
          ],
          "scattermap": [
           {
            "marker": {
             "colorbar": {
              "outlinewidth": 0,
              "ticks": ""
             }
            },
            "type": "scattermap"
           }
          ],
          "scattermapbox": [
           {
            "marker": {
             "colorbar": {
              "outlinewidth": 0,
              "ticks": ""
             }
            },
            "type": "scattermapbox"
           }
          ],
          "scatterpolar": [
           {
            "marker": {
             "colorbar": {
              "outlinewidth": 0,
              "ticks": ""
             }
            },
            "type": "scatterpolar"
           }
          ],
          "scatterpolargl": [
           {
            "marker": {
             "colorbar": {
              "outlinewidth": 0,
              "ticks": ""
             }
            },
            "type": "scatterpolargl"
           }
          ],
          "scatterternary": [
           {
            "marker": {
             "colorbar": {
              "outlinewidth": 0,
              "ticks": ""
             }
            },
            "type": "scatterternary"
           }
          ],
          "surface": [
           {
            "colorbar": {
             "outlinewidth": 0,
             "ticks": ""
            },
            "colorscale": [
             [
              0,
              "#0d0887"
             ],
             [
              0.1111111111111111,
              "#46039f"
             ],
             [
              0.2222222222222222,
              "#7201a8"
             ],
             [
              0.3333333333333333,
              "#9c179e"
             ],
             [
              0.4444444444444444,
              "#bd3786"
             ],
             [
              0.5555555555555556,
              "#d8576b"
             ],
             [
              0.6666666666666666,
              "#ed7953"
             ],
             [
              0.7777777777777778,
              "#fb9f3a"
             ],
             [
              0.8888888888888888,
              "#fdca26"
             ],
             [
              1,
              "#f0f921"
             ]
            ],
            "type": "surface"
           }
          ],
          "table": [
           {
            "cells": {
             "fill": {
              "color": "#EBF0F8"
             },
             "line": {
              "color": "white"
             }
            },
            "header": {
             "fill": {
              "color": "#C8D4E3"
             },
             "line": {
              "color": "white"
             }
            },
            "type": "table"
           }
          ]
         },
         "layout": {
          "annotationdefaults": {
           "arrowcolor": "#2a3f5f",
           "arrowhead": 0,
           "arrowwidth": 1
          },
          "autotypenumbers": "strict",
          "coloraxis": {
           "colorbar": {
            "outlinewidth": 0,
            "ticks": ""
           }
          },
          "colorscale": {
           "diverging": [
            [
             0,
             "#8e0152"
            ],
            [
             0.1,
             "#c51b7d"
            ],
            [
             0.2,
             "#de77ae"
            ],
            [
             0.3,
             "#f1b6da"
            ],
            [
             0.4,
             "#fde0ef"
            ],
            [
             0.5,
             "#f7f7f7"
            ],
            [
             0.6,
             "#e6f5d0"
            ],
            [
             0.7,
             "#b8e186"
            ],
            [
             0.8,
             "#7fbc41"
            ],
            [
             0.9,
             "#4d9221"
            ],
            [
             1,
             "#276419"
            ]
           ],
           "sequential": [
            [
             0,
             "#0d0887"
            ],
            [
             0.1111111111111111,
             "#46039f"
            ],
            [
             0.2222222222222222,
             "#7201a8"
            ],
            [
             0.3333333333333333,
             "#9c179e"
            ],
            [
             0.4444444444444444,
             "#bd3786"
            ],
            [
             0.5555555555555556,
             "#d8576b"
            ],
            [
             0.6666666666666666,
             "#ed7953"
            ],
            [
             0.7777777777777778,
             "#fb9f3a"
            ],
            [
             0.8888888888888888,
             "#fdca26"
            ],
            [
             1,
             "#f0f921"
            ]
           ],
           "sequentialminus": [
            [
             0,
             "#0d0887"
            ],
            [
             0.1111111111111111,
             "#46039f"
            ],
            [
             0.2222222222222222,
             "#7201a8"
            ],
            [
             0.3333333333333333,
             "#9c179e"
            ],
            [
             0.4444444444444444,
             "#bd3786"
            ],
            [
             0.5555555555555556,
             "#d8576b"
            ],
            [
             0.6666666666666666,
             "#ed7953"
            ],
            [
             0.7777777777777778,
             "#fb9f3a"
            ],
            [
             0.8888888888888888,
             "#fdca26"
            ],
            [
             1,
             "#f0f921"
            ]
           ]
          },
          "colorway": [
           "#636efa",
           "#EF553B",
           "#00cc96",
           "#ab63fa",
           "#FFA15A",
           "#19d3f3",
           "#FF6692",
           "#B6E880",
           "#FF97FF",
           "#FECB52"
          ],
          "font": {
           "color": "#2a3f5f"
          },
          "geo": {
           "bgcolor": "white",
           "lakecolor": "white",
           "landcolor": "#E5ECF6",
           "showlakes": true,
           "showland": true,
           "subunitcolor": "white"
          },
          "hoverlabel": {
           "align": "left"
          },
          "hovermode": "closest",
          "mapbox": {
           "style": "light"
          },
          "paper_bgcolor": "white",
          "plot_bgcolor": "#E5ECF6",
          "polar": {
           "angularaxis": {
            "gridcolor": "white",
            "linecolor": "white",
            "ticks": ""
           },
           "bgcolor": "#E5ECF6",
           "radialaxis": {
            "gridcolor": "white",
            "linecolor": "white",
            "ticks": ""
           }
          },
          "scene": {
           "xaxis": {
            "backgroundcolor": "#E5ECF6",
            "gridcolor": "white",
            "gridwidth": 2,
            "linecolor": "white",
            "showbackground": true,
            "ticks": "",
            "zerolinecolor": "white"
           },
           "yaxis": {
            "backgroundcolor": "#E5ECF6",
            "gridcolor": "white",
            "gridwidth": 2,
            "linecolor": "white",
            "showbackground": true,
            "ticks": "",
            "zerolinecolor": "white"
           },
           "zaxis": {
            "backgroundcolor": "#E5ECF6",
            "gridcolor": "white",
            "gridwidth": 2,
            "linecolor": "white",
            "showbackground": true,
            "ticks": "",
            "zerolinecolor": "white"
           }
          },
          "shapedefaults": {
           "line": {
            "color": "#2a3f5f"
           }
          },
          "ternary": {
           "aaxis": {
            "gridcolor": "white",
            "linecolor": "white",
            "ticks": ""
           },
           "baxis": {
            "gridcolor": "white",
            "linecolor": "white",
            "ticks": ""
           },
           "bgcolor": "#E5ECF6",
           "caxis": {
            "gridcolor": "white",
            "linecolor": "white",
            "ticks": ""
           }
          },
          "title": {
           "x": 0.05
          },
          "xaxis": {
           "automargin": true,
           "gridcolor": "white",
           "linecolor": "white",
           "ticks": "",
           "title": {
            "standoff": 15
           },
           "zerolinecolor": "white",
           "zerolinewidth": 2
          },
          "yaxis": {
           "automargin": true,
           "gridcolor": "white",
           "linecolor": "white",
           "ticks": "",
           "title": {
            "standoff": 15
           },
           "zerolinecolor": "white",
           "zerolinewidth": 2
          }
         }
        },
        "title": {
         "text": "Топ упоминаемых персон в канале: mosrutop"
        },
        "xaxis": {
         "anchor": "y",
         "domain": [
          0,
          1
         ],
         "title": {
          "text": "Упоминания"
         }
        },
        "yaxis": {
         "anchor": "x",
         "categoryorder": "total ascending",
         "domain": [
          0,
          1
         ],
         "title": {
          "text": "Имя"
         }
        }
       }
      }
     },
     "metadata": {},
     "output_type": "display_data"
    }
   ],
   "source": [
    "def visualize_person_analysis(person_analysis):\n",
    "    \"\"\"Визуализация результатов анализа упоминаний персон\"\"\"\n",
    "    \n",
    "    if not person_analysis['overall_top_persons']:\n",
    "        print(\"Нет данных об упоминаниях персон для визуализации\")\n",
    "        return\n",
    "    \n",
    "    # Топ персон overall\n",
    "    top_persons = person_analysis['overall_top_persons'][:15]\n",
    "    \n",
    "    fig = px.bar(\n",
    "        x=[count for _, count in top_persons],\n",
    "        y=[name for name, _ in top_persons],\n",
    "        orientation='h',\n",
    "        title=\"Топ-15 самых упоминаемых персон (все каналы)\",\n",
    "        labels={'x': 'Количество упоминаний', 'y': 'Имя'}\n",
    "    )\n",
    "    fig.update_layout(yaxis={'categoryorder': 'total ascending'})\n",
    "    fig.show()\n",
    "    \n",
    "    # Статистика по каналам\n",
    "    channels = list(person_analysis['channel_stats'].keys())\n",
    "    mentions_by_channel = [stats['total_mentions'] for stats in person_analysis['channel_stats'].values()]\n",
    "    unique_persons_by_channel = [stats['unique_persons'] for stats in person_analysis['channel_stats'].values()]\n",
    "    \n",
    "    # Создаем subplot для статистики по каналам\n",
    "    fig = make_subplots(\n",
    "        rows=1, cols=2,\n",
    "        subplot_titles=('Общее количество упоминаний по каналам', \n",
    "                       'Уникальные персоны по каналам')\n",
    "    )\n",
    "    \n",
    "    fig.add_trace(\n",
    "        go.Bar(x=channels, y=mentions_by_channel, name='Упоминания'),\n",
    "        row=1, col=1\n",
    "    )\n",
    "    \n",
    "    fig.add_trace(\n",
    "        go.Bar(x=channels, y=unique_persons_by_channel, name='Уникальные персоны'),\n",
    "        row=1, col=2\n",
    "    )\n",
    "    \n",
    "    fig.update_layout(height=500, showlegend=True, xaxis_tickangle=-45)\n",
    "    fig.show()\n",
    "    \n",
    "    # Топ персоны для каждого канала\n",
    "    for channel, stats in person_analysis['channel_stats'].items():\n",
    "        if stats['top_persons']:\n",
    "            top_channel_persons = stats['top_persons'][:8]\n",
    "            fig = px.bar(\n",
    "                x=[count for _, count in top_channel_persons],\n",
    "                y=[name for name, _ in top_channel_persons],\n",
    "                orientation='h',\n",
    "                title=f\"Топ упоминаемых персон в канале: {channel}\",\n",
    "                labels={'x': 'Упоминания', 'y': 'Имя'}\n",
    "            )\n",
    "            fig.update_layout(yaxis={'categoryorder': 'total ascending'}, height=300)\n",
    "            fig.show()\n",
    "\n",
    "# Визуализируем анализ персон\n",
    "visualize_person_analysis(person_analysis)"
   ]
  },
  {
   "cell_type": "markdown",
   "metadata": {},
   "source": [
    "## 9. Анализ TF-IDF\n"
   ]
  },
  {
   "cell_type": "markdown",
   "metadata": {},
   "source": [
    "### 9.1. TF-IDF для всего корпуса\n"
   ]
  },
  {
   "cell_type": "code",
   "execution_count": 25,
   "metadata": {},
   "outputs": [
    {
     "name": "stdout",
     "output_type": "stream",
     "text": [
      "🔍 Анализ TF-IDF для всего корпуса...\n",
      "🏆 ТОП-20 СЛОВ ПО TF-IDF (ВЕСЬ КОРПУС):\n",
      " 1. ru: 0.0339\n",
      " 2. новости: 0.0301\n",
      " 3. риа: 0.0285\n",
      " 4. риа новости: 0.0284\n",
      " 5. подписаться: 0.0257\n",
      " 6. подписаться риа: 0.0236\n",
      " 7. россии: 0.0235\n",
      " 8. https: 0.0221\n",
      " 9. kod: 0.0220\n",
      "10. kod ru: 0.0219\n",
      "11. тасс: 0.0218\n",
      "12. https kod: 0.0217\n",
      "13. это: 0.0203\n",
      "14. сша: 0.0192\n",
      "15. рбк: 0.0182\n",
      "16. telegram: 0.0181\n",
      "17. года: 0.0172\n",
      "18. рф: 0.0171\n",
      "19. сообщили: 0.0169\n",
      "20. подписывайтесь: 0.0168\n"
     ]
    }
   ],
   "source": [
    "from sklearn.feature_extraction.text import TfidfVectorizer\n",
    "import numpy as np\n",
    "\n",
    "def analyze_tfidf_corpus(texts, max_features=1000, max_df=0.8, min_df=2):\n",
    "    \"\"\"Анализ TF-IDF для всего корпуса текстов\"\"\"\n",
    "    \n",
    "    # Создаем TF-IDF векторaйзер с русскими стоп-словами\n",
    "    tfidf_vectorizer = TfidfVectorizer(\n",
    "        max_features=max_features,\n",
    "        max_df=max_df,  # игнорировать слова, встречающиеся в более чем 80% документов\n",
    "        min_df=min_df,  # игнорировать слова, встречающиеся менее чем в 2 документах\n",
    "        stop_words=list(russian_stopwords),\n",
    "        ngram_range=(1, 2)  # учитываем униграммы и биграммы\n",
    "    )\n",
    "    \n",
    "    # Обучаем и преобразуем тексты\n",
    "    tfidf_matrix = tfidf_vectorizer.fit_transform(texts)\n",
    "    feature_names = tfidf_vectorizer.get_feature_names_out()\n",
    "    \n",
    "    # Вычисляем средние TF-IDF по всему корпусу\n",
    "    tfidf_scores = np.asarray(tfidf_matrix.mean(axis=0)).flatten()\n",
    "    \n",
    "    # Сортируем слова по TF-IDF\n",
    "    sorted_indices = tfidf_scores.argsort()[::-1]\n",
    "    top_tfidf_words = [(feature_names[i], tfidf_scores[i]) for i in sorted_indices[:50]]\n",
    "    \n",
    "    return {\n",
    "        'top_words': top_tfidf_words,\n",
    "        'vectorizer': tfidf_vectorizer,\n",
    "        'matrix': tfidf_matrix,\n",
    "        'feature_names': feature_names\n",
    "    }\n",
    "\n",
    "# Анализ TF-IDF для всего корпуса\n",
    "print(\"🔍 Анализ TF-IDF для всего корпуса...\")\n",
    "tfidf_corpus = analyze_tfidf_corpus(texts_sample)\n",
    "\n",
    "print(\"🏆 ТОП-20 СЛОВ ПО TF-IDF (ВЕСЬ КОРПУС):\")\n",
    "for i, (word, score) in enumerate(tfidf_corpus['top_words'][:20], 1):\n",
    "    print(f\"{i:2d}. {word}: {score:.4f}\")"
   ]
  },
  {
   "cell_type": "markdown",
   "metadata": {},
   "source": [
    "### 9.2. Визуализация TF-IDF для всего корпуса\n"
   ]
  },
  {
   "cell_type": "code",
   "execution_count": 26,
   "metadata": {},
   "outputs": [
    {
     "data": {
      "application/vnd.plotly.v1+json": {
       "config": {
        "plotlyServerURL": "https://plot.ly"
       },
       "data": [
        {
         "hovertemplate": "TF-IDF Score=%{x}<br>Слова/Биграммы=%{y}<br>color=%{marker.color}<extra></extra>",
         "legendgroup": "",
         "marker": {
          "color": {
           "bdata": "gE9tOVJeoT/yGjK9J8yePxln4KPiOJ0/l0VaTWggnT9Ln8RiaVqaP09OqPvuMZg/D+rUhx0RmD+XdxG4y6uWP4TtHKg5hJY/QYhGBp52lj8wUN+HBl2WP0JPpe0oN5Y/da78o6TPlD9IuRunkKSTPw5K+Di/lpI/ldI7JdaTkj/JigfaRaeRP0Y86bCGhpE/U6aIVLFEkT/0wXOY4DWRP+pmldfUn5A/Zmlcx3ltjj8cB1oL/ymOPw13Dn7EJ44/DXcOfsQnjj8=",
           "dtype": "f8"
          },
          "coloraxis": "coloraxis",
          "pattern": {
           "shape": ""
          }
         },
         "name": "",
         "orientation": "h",
         "showlegend": false,
         "textposition": "auto",
         "type": "bar",
         "x": {
          "bdata": "gE9tOVJeoT/yGjK9J8yePxln4KPiOJ0/l0VaTWggnT9Ln8RiaVqaP09OqPvuMZg/D+rUhx0RmD+XdxG4y6uWP4TtHKg5hJY/QYhGBp52lj8wUN+HBl2WP0JPpe0oN5Y/da78o6TPlD9IuRunkKSTPw5K+Di/lpI/ldI7JdaTkj/JigfaRaeRP0Y86bCGhpE/U6aIVLFEkT/0wXOY4DWRP+pmldfUn5A/Zmlcx3ltjj8cB1oL/ymOPw13Dn7EJ44/DXcOfsQnjj8=",
          "dtype": "f8"
         },
         "xaxis": "x",
         "y": [
          "ru",
          "новости",
          "риа",
          "риа новости",
          "подписаться",
          "подписаться риа",
          "россии",
          "https",
          "kod",
          "kod ru",
          "тасс",
          "https kod",
          "это",
          "сша",
          "рбк",
          "telegram",
          "года",
          "рф",
          "сообщили",
          "подписывайтесь",
          "заявил",
          "также",
          "оставляйте",
          "бусты",
          "оставляйте бусты"
         ],
         "yaxis": "y"
        }
       ],
       "layout": {
        "barmode": "relative",
        "coloraxis": {
         "colorbar": {
          "title": {
           "text": "color"
          }
         },
         "colorscale": [
          [
           0,
           "#440154"
          ],
          [
           0.1111111111111111,
           "#482878"
          ],
          [
           0.2222222222222222,
           "#3e4989"
          ],
          [
           0.3333333333333333,
           "#31688e"
          ],
          [
           0.4444444444444444,
           "#26828e"
          ],
          [
           0.5555555555555556,
           "#1f9e89"
          ],
          [
           0.6666666666666666,
           "#35b779"
          ],
          [
           0.7777777777777778,
           "#6ece58"
          ],
          [
           0.8888888888888888,
           "#b5de2b"
          ],
          [
           1,
           "#fde725"
          ]
         ]
        },
        "legend": {
         "tracegroupgap": 0
        },
        "template": {
         "data": {
          "bar": [
           {
            "error_x": {
             "color": "#2a3f5f"
            },
            "error_y": {
             "color": "#2a3f5f"
            },
            "marker": {
             "line": {
              "color": "#E5ECF6",
              "width": 0.5
             },
             "pattern": {
              "fillmode": "overlay",
              "size": 10,
              "solidity": 0.2
             }
            },
            "type": "bar"
           }
          ],
          "barpolar": [
           {
            "marker": {
             "line": {
              "color": "#E5ECF6",
              "width": 0.5
             },
             "pattern": {
              "fillmode": "overlay",
              "size": 10,
              "solidity": 0.2
             }
            },
            "type": "barpolar"
           }
          ],
          "carpet": [
           {
            "aaxis": {
             "endlinecolor": "#2a3f5f",
             "gridcolor": "white",
             "linecolor": "white",
             "minorgridcolor": "white",
             "startlinecolor": "#2a3f5f"
            },
            "baxis": {
             "endlinecolor": "#2a3f5f",
             "gridcolor": "white",
             "linecolor": "white",
             "minorgridcolor": "white",
             "startlinecolor": "#2a3f5f"
            },
            "type": "carpet"
           }
          ],
          "choropleth": [
           {
            "colorbar": {
             "outlinewidth": 0,
             "ticks": ""
            },
            "type": "choropleth"
           }
          ],
          "contour": [
           {
            "colorbar": {
             "outlinewidth": 0,
             "ticks": ""
            },
            "colorscale": [
             [
              0,
              "#0d0887"
             ],
             [
              0.1111111111111111,
              "#46039f"
             ],
             [
              0.2222222222222222,
              "#7201a8"
             ],
             [
              0.3333333333333333,
              "#9c179e"
             ],
             [
              0.4444444444444444,
              "#bd3786"
             ],
             [
              0.5555555555555556,
              "#d8576b"
             ],
             [
              0.6666666666666666,
              "#ed7953"
             ],
             [
              0.7777777777777778,
              "#fb9f3a"
             ],
             [
              0.8888888888888888,
              "#fdca26"
             ],
             [
              1,
              "#f0f921"
             ]
            ],
            "type": "contour"
           }
          ],
          "contourcarpet": [
           {
            "colorbar": {
             "outlinewidth": 0,
             "ticks": ""
            },
            "type": "contourcarpet"
           }
          ],
          "heatmap": [
           {
            "colorbar": {
             "outlinewidth": 0,
             "ticks": ""
            },
            "colorscale": [
             [
              0,
              "#0d0887"
             ],
             [
              0.1111111111111111,
              "#46039f"
             ],
             [
              0.2222222222222222,
              "#7201a8"
             ],
             [
              0.3333333333333333,
              "#9c179e"
             ],
             [
              0.4444444444444444,
              "#bd3786"
             ],
             [
              0.5555555555555556,
              "#d8576b"
             ],
             [
              0.6666666666666666,
              "#ed7953"
             ],
             [
              0.7777777777777778,
              "#fb9f3a"
             ],
             [
              0.8888888888888888,
              "#fdca26"
             ],
             [
              1,
              "#f0f921"
             ]
            ],
            "type": "heatmap"
           }
          ],
          "histogram": [
           {
            "marker": {
             "pattern": {
              "fillmode": "overlay",
              "size": 10,
              "solidity": 0.2
             }
            },
            "type": "histogram"
           }
          ],
          "histogram2d": [
           {
            "colorbar": {
             "outlinewidth": 0,
             "ticks": ""
            },
            "colorscale": [
             [
              0,
              "#0d0887"
             ],
             [
              0.1111111111111111,
              "#46039f"
             ],
             [
              0.2222222222222222,
              "#7201a8"
             ],
             [
              0.3333333333333333,
              "#9c179e"
             ],
             [
              0.4444444444444444,
              "#bd3786"
             ],
             [
              0.5555555555555556,
              "#d8576b"
             ],
             [
              0.6666666666666666,
              "#ed7953"
             ],
             [
              0.7777777777777778,
              "#fb9f3a"
             ],
             [
              0.8888888888888888,
              "#fdca26"
             ],
             [
              1,
              "#f0f921"
             ]
            ],
            "type": "histogram2d"
           }
          ],
          "histogram2dcontour": [
           {
            "colorbar": {
             "outlinewidth": 0,
             "ticks": ""
            },
            "colorscale": [
             [
              0,
              "#0d0887"
             ],
             [
              0.1111111111111111,
              "#46039f"
             ],
             [
              0.2222222222222222,
              "#7201a8"
             ],
             [
              0.3333333333333333,
              "#9c179e"
             ],
             [
              0.4444444444444444,
              "#bd3786"
             ],
             [
              0.5555555555555556,
              "#d8576b"
             ],
             [
              0.6666666666666666,
              "#ed7953"
             ],
             [
              0.7777777777777778,
              "#fb9f3a"
             ],
             [
              0.8888888888888888,
              "#fdca26"
             ],
             [
              1,
              "#f0f921"
             ]
            ],
            "type": "histogram2dcontour"
           }
          ],
          "mesh3d": [
           {
            "colorbar": {
             "outlinewidth": 0,
             "ticks": ""
            },
            "type": "mesh3d"
           }
          ],
          "parcoords": [
           {
            "line": {
             "colorbar": {
              "outlinewidth": 0,
              "ticks": ""
             }
            },
            "type": "parcoords"
           }
          ],
          "pie": [
           {
            "automargin": true,
            "type": "pie"
           }
          ],
          "scatter": [
           {
            "fillpattern": {
             "fillmode": "overlay",
             "size": 10,
             "solidity": 0.2
            },
            "type": "scatter"
           }
          ],
          "scatter3d": [
           {
            "line": {
             "colorbar": {
              "outlinewidth": 0,
              "ticks": ""
             }
            },
            "marker": {
             "colorbar": {
              "outlinewidth": 0,
              "ticks": ""
             }
            },
            "type": "scatter3d"
           }
          ],
          "scattercarpet": [
           {
            "marker": {
             "colorbar": {
              "outlinewidth": 0,
              "ticks": ""
             }
            },
            "type": "scattercarpet"
           }
          ],
          "scattergeo": [
           {
            "marker": {
             "colorbar": {
              "outlinewidth": 0,
              "ticks": ""
             }
            },
            "type": "scattergeo"
           }
          ],
          "scattergl": [
           {
            "marker": {
             "colorbar": {
              "outlinewidth": 0,
              "ticks": ""
             }
            },
            "type": "scattergl"
           }
          ],
          "scattermap": [
           {
            "marker": {
             "colorbar": {
              "outlinewidth": 0,
              "ticks": ""
             }
            },
            "type": "scattermap"
           }
          ],
          "scattermapbox": [
           {
            "marker": {
             "colorbar": {
              "outlinewidth": 0,
              "ticks": ""
             }
            },
            "type": "scattermapbox"
           }
          ],
          "scatterpolar": [
           {
            "marker": {
             "colorbar": {
              "outlinewidth": 0,
              "ticks": ""
             }
            },
            "type": "scatterpolar"
           }
          ],
          "scatterpolargl": [
           {
            "marker": {
             "colorbar": {
              "outlinewidth": 0,
              "ticks": ""
             }
            },
            "type": "scatterpolargl"
           }
          ],
          "scatterternary": [
           {
            "marker": {
             "colorbar": {
              "outlinewidth": 0,
              "ticks": ""
             }
            },
            "type": "scatterternary"
           }
          ],
          "surface": [
           {
            "colorbar": {
             "outlinewidth": 0,
             "ticks": ""
            },
            "colorscale": [
             [
              0,
              "#0d0887"
             ],
             [
              0.1111111111111111,
              "#46039f"
             ],
             [
              0.2222222222222222,
              "#7201a8"
             ],
             [
              0.3333333333333333,
              "#9c179e"
             ],
             [
              0.4444444444444444,
              "#bd3786"
             ],
             [
              0.5555555555555556,
              "#d8576b"
             ],
             [
              0.6666666666666666,
              "#ed7953"
             ],
             [
              0.7777777777777778,
              "#fb9f3a"
             ],
             [
              0.8888888888888888,
              "#fdca26"
             ],
             [
              1,
              "#f0f921"
             ]
            ],
            "type": "surface"
           }
          ],
          "table": [
           {
            "cells": {
             "fill": {
              "color": "#EBF0F8"
             },
             "line": {
              "color": "white"
             }
            },
            "header": {
             "fill": {
              "color": "#C8D4E3"
             },
             "line": {
              "color": "white"
             }
            },
            "type": "table"
           }
          ]
         },
         "layout": {
          "annotationdefaults": {
           "arrowcolor": "#2a3f5f",
           "arrowhead": 0,
           "arrowwidth": 1
          },
          "autotypenumbers": "strict",
          "coloraxis": {
           "colorbar": {
            "outlinewidth": 0,
            "ticks": ""
           }
          },
          "colorscale": {
           "diverging": [
            [
             0,
             "#8e0152"
            ],
            [
             0.1,
             "#c51b7d"
            ],
            [
             0.2,
             "#de77ae"
            ],
            [
             0.3,
             "#f1b6da"
            ],
            [
             0.4,
             "#fde0ef"
            ],
            [
             0.5,
             "#f7f7f7"
            ],
            [
             0.6,
             "#e6f5d0"
            ],
            [
             0.7,
             "#b8e186"
            ],
            [
             0.8,
             "#7fbc41"
            ],
            [
             0.9,
             "#4d9221"
            ],
            [
             1,
             "#276419"
            ]
           ],
           "sequential": [
            [
             0,
             "#0d0887"
            ],
            [
             0.1111111111111111,
             "#46039f"
            ],
            [
             0.2222222222222222,
             "#7201a8"
            ],
            [
             0.3333333333333333,
             "#9c179e"
            ],
            [
             0.4444444444444444,
             "#bd3786"
            ],
            [
             0.5555555555555556,
             "#d8576b"
            ],
            [
             0.6666666666666666,
             "#ed7953"
            ],
            [
             0.7777777777777778,
             "#fb9f3a"
            ],
            [
             0.8888888888888888,
             "#fdca26"
            ],
            [
             1,
             "#f0f921"
            ]
           ],
           "sequentialminus": [
            [
             0,
             "#0d0887"
            ],
            [
             0.1111111111111111,
             "#46039f"
            ],
            [
             0.2222222222222222,
             "#7201a8"
            ],
            [
             0.3333333333333333,
             "#9c179e"
            ],
            [
             0.4444444444444444,
             "#bd3786"
            ],
            [
             0.5555555555555556,
             "#d8576b"
            ],
            [
             0.6666666666666666,
             "#ed7953"
            ],
            [
             0.7777777777777778,
             "#fb9f3a"
            ],
            [
             0.8888888888888888,
             "#fdca26"
            ],
            [
             1,
             "#f0f921"
            ]
           ]
          },
          "colorway": [
           "#636efa",
           "#EF553B",
           "#00cc96",
           "#ab63fa",
           "#FFA15A",
           "#19d3f3",
           "#FF6692",
           "#B6E880",
           "#FF97FF",
           "#FECB52"
          ],
          "font": {
           "color": "#2a3f5f"
          },
          "geo": {
           "bgcolor": "white",
           "lakecolor": "white",
           "landcolor": "#E5ECF6",
           "showlakes": true,
           "showland": true,
           "subunitcolor": "white"
          },
          "hoverlabel": {
           "align": "left"
          },
          "hovermode": "closest",
          "mapbox": {
           "style": "light"
          },
          "paper_bgcolor": "white",
          "plot_bgcolor": "#E5ECF6",
          "polar": {
           "angularaxis": {
            "gridcolor": "white",
            "linecolor": "white",
            "ticks": ""
           },
           "bgcolor": "#E5ECF6",
           "radialaxis": {
            "gridcolor": "white",
            "linecolor": "white",
            "ticks": ""
           }
          },
          "scene": {
           "xaxis": {
            "backgroundcolor": "#E5ECF6",
            "gridcolor": "white",
            "gridwidth": 2,
            "linecolor": "white",
            "showbackground": true,
            "ticks": "",
            "zerolinecolor": "white"
           },
           "yaxis": {
            "backgroundcolor": "#E5ECF6",
            "gridcolor": "white",
            "gridwidth": 2,
            "linecolor": "white",
            "showbackground": true,
            "ticks": "",
            "zerolinecolor": "white"
           },
           "zaxis": {
            "backgroundcolor": "#E5ECF6",
            "gridcolor": "white",
            "gridwidth": 2,
            "linecolor": "white",
            "showbackground": true,
            "ticks": "",
            "zerolinecolor": "white"
           }
          },
          "shapedefaults": {
           "line": {
            "color": "#2a3f5f"
           }
          },
          "ternary": {
           "aaxis": {
            "gridcolor": "white",
            "linecolor": "white",
            "ticks": ""
           },
           "baxis": {
            "gridcolor": "white",
            "linecolor": "white",
            "ticks": ""
           },
           "bgcolor": "#E5ECF6",
           "caxis": {
            "gridcolor": "white",
            "linecolor": "white",
            "ticks": ""
           }
          },
          "title": {
           "x": 0.05
          },
          "xaxis": {
           "automargin": true,
           "gridcolor": "white",
           "linecolor": "white",
           "ticks": "",
           "title": {
            "standoff": 15
           },
           "zerolinecolor": "white",
           "zerolinewidth": 2
          },
          "yaxis": {
           "automargin": true,
           "gridcolor": "white",
           "linecolor": "white",
           "ticks": "",
           "title": {
            "standoff": 15
           },
           "zerolinecolor": "white",
           "zerolinewidth": 2
          }
         }
        },
        "title": {
         "text": "Топ-25 слов по TF-IDF (весь корпус)"
        },
        "xaxis": {
         "anchor": "y",
         "domain": [
          0,
          1
         ],
         "title": {
          "text": "TF-IDF Score"
         }
        },
        "yaxis": {
         "anchor": "x",
         "categoryorder": "total ascending",
         "domain": [
          0,
          1
         ],
         "title": {
          "text": "Слова/Биграммы"
         }
        }
       }
      }
     },
     "metadata": {},
     "output_type": "display_data"
    }
   ],
   "source": [
    "def visualize_tfidf_corpus(tfidf_results, top_n=25):\n",
    "    \"\"\"Визуализация топ слов по TF-IDF для всего корпуса\"\"\"\n",
    "    \n",
    "    top_words = tfidf_results['top_words'][:top_n]\n",
    "    \n",
    "    fig = px.bar(\n",
    "        x=[score for _, score in top_words],\n",
    "        y=[word for word, _ in top_words],\n",
    "        orientation='h',\n",
    "        title=f\"Топ-{top_n} слов по TF-IDF (весь корпус)\",\n",
    "        labels={'x': 'TF-IDF Score', 'y': 'Слова/Биграммы'},\n",
    "        color=[score for _, score in top_words],\n",
    "        color_continuous_scale='viridis'\n",
    "    )\n",
    "    fig.update_layout(yaxis={'categoryorder': 'total ascending'})\n",
    "    fig.show()\n",
    "    \n",
    "    return top_words\n",
    "\n",
    "# Визуализируем TF-IDF для всего корпуса\n",
    "top_corpus_words = visualize_tfidf_corpus(tfidf_corpus)"
   ]
  },
  {
   "cell_type": "markdown",
   "metadata": {},
   "source": [
    "### 9.3. TF-IDF по каналам\n"
   ]
  },
  {
   "cell_type": "code",
   "execution_count": 27,
   "metadata": {},
   "outputs": [
    {
     "name": "stdout",
     "output_type": "stream",
     "text": [
      "\n",
      "📊 Анализ TF-IDF по каналам...\n",
      "Анализ TF-IDF для 9 каналов...\n",
      "  Обрабатываем канал: d_code (981 документов)\n",
      "  Обрабатываем канал: rbc_news (927 документов)\n",
      "  Обрабатываем канал: rian_ru (885 документов)\n",
      "  Обрабатываем канал: kommersant (920 документов)\n",
      "  Обрабатываем канал: tass_agency (948 документов)\n",
      "  Обрабатываем канал: ENews112 (567 документов)\n",
      "  Обрабатываем канал: headlines_for_traders (980 документов)\n",
      "  Обрабатываем канал: aviadispet4er (615 документов)\n",
      "  Обрабатываем канал: mosrutop (502 документов)\n"
     ]
    }
   ],
   "source": [
    "def analyze_tfidf_by_channel(df, text_column='text_cleaned', channel_column='channel_short', \n",
    "                           max_features_per_channel=100, min_docs_per_channel=10):\n",
    "    \"\"\"Анализ TF-IDF для каждого канала отдельно\"\"\"\n",
    "    \n",
    "    if channel_column not in df.columns:\n",
    "        print(f\"Колонка {channel_column} не найдена!\")\n",
    "        return {}\n",
    "    \n",
    "    channel_tfidf = {}\n",
    "    channels = df[channel_column].unique()\n",
    "    \n",
    "    print(f\"Анализ TF-IDF для {len(channels)} каналов...\")\n",
    "    \n",
    "    for channel in channels:\n",
    "        channel_texts = df[df[channel_column] == channel][text_column].dropna().astype(str)\n",
    "        \n",
    "        # Пропускаем каналы с малым количеством документов\n",
    "        if len(channel_texts) < min_docs_per_channel:\n",
    "            print(f\"  Пропускаем канал '{channel}': слишком мало документов ({len(channel_texts)})\")\n",
    "            continue\n",
    "        \n",
    "        print(f\"  Обрабатываем канал: {channel} ({len(channel_texts)} документов)\")\n",
    "        \n",
    "        try:\n",
    "            # TF-IDF для конкретного канала\n",
    "            tfidf_vectorizer = TfidfVectorizer(\n",
    "                max_features=max_features_per_channel,\n",
    "                max_df=0.9,\n",
    "                min_df=1,  # в маленьких каналах можем использовать min_df=1\n",
    "                stop_words=list(russian_stopwords),\n",
    "                ngram_range=(1, 2)\n",
    "            )\n",
    "            \n",
    "            tfidf_matrix = tfidf_vectorizer.fit_transform(channel_texts)\n",
    "            feature_names = tfidf_vectorizer.get_feature_names_out()\n",
    "            \n",
    "            # Средние TF-IDF для канала\n",
    "            tfidf_scores = np.asarray(tfidf_matrix.mean(axis=0)).flatten()\n",
    "            sorted_indices = tfidf_scores.argsort()[::-1]\n",
    "            \n",
    "            top_words = [(feature_names[i], tfidf_scores[i]) \n",
    "                        for i in sorted_indices[:20]]\n",
    "            \n",
    "            channel_tfidf[channel] = {\n",
    "                'top_words': top_words,\n",
    "                'num_documents': len(channel_texts),\n",
    "                'vectorizer': tfidf_vectorizer,\n",
    "                'matrix': tfidf_matrix\n",
    "            }\n",
    "            \n",
    "        except Exception as e:\n",
    "            print(f\"    Ошибка при обработке канала '{channel}': {e}\")\n",
    "            continue\n",
    "    \n",
    "    return channel_tfidf\n",
    "\n",
    "# Анализ TF-IDF по каналам\n",
    "print(\"\\n📊 Анализ TF-IDF по каналам...\")\n",
    "channel_tfidf_results = analyze_tfidf_by_channel(df)"
   ]
  },
  {
   "cell_type": "markdown",
   "metadata": {},
   "source": [
    "### 9.4. Визуализация TF-IDF по каналам\n"
   ]
  },
  {
   "cell_type": "code",
   "execution_count": 28,
   "metadata": {},
   "outputs": [
    {
     "name": "stdout",
     "output_type": "stream",
     "text": [
      "Визуализируем топ-8 каналов из 9\n"
     ]
    },
    {
     "data": {
      "application/vnd.plotly.v1+json": {
       "config": {
        "plotlyServerURL": "https://plot.ly"
       },
       "data": [
        {
         "name": "d_code",
         "orientation": "h",
         "type": "bar",
         "x": [
          0.1284681110955605,
          0.12843957966102548,
          0.12765941064357136,
          0.12739779390281827,
          0.12710532342965766,
          0.06424085743443575,
          0.057244132236355466,
          0.04671830511013512,
          0.04548637867994918,
          0.04075952858442585
         ],
         "xaxis": "x",
         "y": [
          "https",
          "https kod",
          "ru",
          "kod",
          "kod ru",
          "telegram",
          "это",
          "ссылке",
          "apple",
          "ии"
         ],
         "yaxis": "y"
        },
        {
         "name": "rbc_news",
         "orientation": "h",
         "type": "bar",
         "x": [
          0.08780622255871401,
          0.08376336630394458,
          0.08347668551334081,
          0.0734548665713868,
          0.07332527367403079,
          0.05998335427744727,
          0.05979803174767583,
          0.058938974466544856,
          0.058938974466544856,
          0.05783781019428125
         ],
         "xaxis": "x2",
         "y": [
          "telegram",
          "россии",
          "рбк telegram",
          "читать",
          "читать рбк",
          "это",
          "телеграм",
          "телеграм канале",
          "канале",
          "канале рбк"
         ],
         "yaxis": "y2"
        },
        {
         "name": "rian_ru",
         "orientation": "h",
         "type": "bar",
         "x": [
          0.07382756112363767,
          0.06010601447196349,
          0.05456783460140695,
          0.049530913595113274,
          0.046692646723454065,
          0.038217140252964986,
          0.03591917475096594,
          0.03379398696015437,
          0.03205704794596706,
          0.02944853250238772
         ],
         "xaxis": "x3",
         "y": [
          "россии",
          "заявил",
          "сообщил",
          "сша",
          "сообщили",
          "всу",
          "это",
          "путин",
          "области",
          "также"
         ],
         "yaxis": "y3"
        },
        {
         "name": "kommersant",
         "orientation": "h",
         "type": "bar",
         "x": [
          0.10994170505179436,
          0.10818085774985234,
          0.10818085774985234,
          0.10818085774985234,
          0.10742774811653971,
          0.05654210663335067,
          0.05495257797457515,
          0.053586757407190946,
          0.050626750596051,
          0.04967957532247098
         ],
         "xaxis": "x4",
         "y": [
          "подписывайтесь",
          "бусты",
          "оставляйте бусты",
          "оставляйте",
          "подписывайтесь оставляйте",
          "рф",
          "россии",
          "года",
          "сша",
          "сообщили"
         ],
         "yaxis": "y4"
        },
        {
         "name": "tass_agency",
         "orientation": "h",
         "type": "bar",
         "x": [
          0.13560457249715574,
          0.08124402870244046,
          0.08101626152012374,
          0.06104572783269816,
          0.05649885810227683,
          0.05649885810227683,
          0.05640193799326741,
          0.05520365306910514,
          0.05470540544229697,
          0.052297696560362865
         ],
         "xaxis": "x5",
         "y": [
          "тасс",
          "сообщили",
          "рф",
          "заявил",
          "подпишись",
          "подпишись тасс",
          "видео",
          "max",
          "тасс max",
          "сообщил"
         ],
         "yaxis": "y5"
        },
        {
         "name": "ENews112",
         "orientation": "h",
         "type": "bar",
         "x": [
          0.05532866172669807,
          0.04552895371411932,
          0.04219975579141065,
          0.042176718514418794,
          0.04133694921550706,
          0.03894903664693595,
          0.03816605110614609,
          0.037748690998955226,
          0.037316718453951084,
          0.037300063748725895
         ],
         "xaxis": "x6",
         "y": [
          "суд",
          "112",
          "мужчина",
          "рублей",
          "области",
          "сегодня",
          "человека",
          "время",
          "это",
          "года"
         ],
         "yaxis": "y6"
        },
        {
         "name": "headlines_for_traders",
         "orientation": "h",
         "type": "bar",
         "x": [
          0.11645400493258358,
          0.09885451792667306,
          0.05075436714433391,
          0.05066707353721399,
          0.04304339084756369,
          0.04304339084756369,
          0.03652585086910836,
          0.03430777258900403,
          0.03406020258508453,
          0.032605836993470735
         ],
         "xaxis": "x7",
         "y": [
          "ru",
          "com",
          "imoex",
          "сша",
          "rbc ru",
          "rbc",
          "10",
          "alert",
          "трамп",
          "россии"
         ],
         "yaxis": "y7"
        },
        {
         "name": "aviadispet4er",
         "orientation": "h",
         "type": "bar",
         "x": [
          0.06612447057915305,
          0.05360635422761403,
          0.04329532372560126,
          0.0427993518166331,
          0.04013066102157064,
          0.0394937061811786,
          0.03887393506296584,
          0.03763550491251276,
          0.037444565011325905,
          0.0367026369636964
         ],
         "xaxis": "x8",
         "y": [
          "это",
          "года",
          "авиакомпании",
          "россии",
          "году",
          "также",
          "авиации",
          "аэропорта",
          "сша",
          "время"
         ],
         "yaxis": "y8"
        }
       ],
       "layout": {
        "annotations": [
         {
          "font": {
           "size": 16
          },
          "showarrow": false,
          "text": "Канал: d_code",
          "x": 0.225,
          "xanchor": "center",
          "xref": "paper",
          "y": 1,
          "yanchor": "bottom",
          "yref": "paper"
         },
         {
          "font": {
           "size": 16
          },
          "showarrow": false,
          "text": "Канал: rbc_news",
          "x": 0.775,
          "xanchor": "center",
          "xref": "paper",
          "y": 1,
          "yanchor": "bottom",
          "yref": "paper"
         },
         {
          "font": {
           "size": 16
          },
          "showarrow": false,
          "text": "Канал: rian_ru",
          "x": 0.225,
          "xanchor": "center",
          "xref": "paper",
          "y": 0.7250000000000001,
          "yanchor": "bottom",
          "yref": "paper"
         },
         {
          "font": {
           "size": 16
          },
          "showarrow": false,
          "text": "Канал: kommersant",
          "x": 0.775,
          "xanchor": "center",
          "xref": "paper",
          "y": 0.7250000000000001,
          "yanchor": "bottom",
          "yref": "paper"
         },
         {
          "font": {
           "size": 16
          },
          "showarrow": false,
          "text": "Канал: tass_agency",
          "x": 0.225,
          "xanchor": "center",
          "xref": "paper",
          "y": 0.45,
          "yanchor": "bottom",
          "yref": "paper"
         },
         {
          "font": {
           "size": 16
          },
          "showarrow": false,
          "text": "Канал: ENews112",
          "x": 0.775,
          "xanchor": "center",
          "xref": "paper",
          "y": 0.45,
          "yanchor": "bottom",
          "yref": "paper"
         },
         {
          "font": {
           "size": 16
          },
          "showarrow": false,
          "text": "Канал: headlines_for_traders",
          "x": 0.225,
          "xanchor": "center",
          "xref": "paper",
          "y": 0.175,
          "yanchor": "bottom",
          "yref": "paper"
         },
         {
          "font": {
           "size": 16
          },
          "showarrow": false,
          "text": "Канал: aviadispet4er",
          "x": 0.775,
          "xanchor": "center",
          "xref": "paper",
          "y": 0.175,
          "yanchor": "bottom",
          "yref": "paper"
         }
        ],
        "height": 1200,
        "showlegend": false,
        "template": {
         "data": {
          "bar": [
           {
            "error_x": {
             "color": "#2a3f5f"
            },
            "error_y": {
             "color": "#2a3f5f"
            },
            "marker": {
             "line": {
              "color": "#E5ECF6",
              "width": 0.5
             },
             "pattern": {
              "fillmode": "overlay",
              "size": 10,
              "solidity": 0.2
             }
            },
            "type": "bar"
           }
          ],
          "barpolar": [
           {
            "marker": {
             "line": {
              "color": "#E5ECF6",
              "width": 0.5
             },
             "pattern": {
              "fillmode": "overlay",
              "size": 10,
              "solidity": 0.2
             }
            },
            "type": "barpolar"
           }
          ],
          "carpet": [
           {
            "aaxis": {
             "endlinecolor": "#2a3f5f",
             "gridcolor": "white",
             "linecolor": "white",
             "minorgridcolor": "white",
             "startlinecolor": "#2a3f5f"
            },
            "baxis": {
             "endlinecolor": "#2a3f5f",
             "gridcolor": "white",
             "linecolor": "white",
             "minorgridcolor": "white",
             "startlinecolor": "#2a3f5f"
            },
            "type": "carpet"
           }
          ],
          "choropleth": [
           {
            "colorbar": {
             "outlinewidth": 0,
             "ticks": ""
            },
            "type": "choropleth"
           }
          ],
          "contour": [
           {
            "colorbar": {
             "outlinewidth": 0,
             "ticks": ""
            },
            "colorscale": [
             [
              0,
              "#0d0887"
             ],
             [
              0.1111111111111111,
              "#46039f"
             ],
             [
              0.2222222222222222,
              "#7201a8"
             ],
             [
              0.3333333333333333,
              "#9c179e"
             ],
             [
              0.4444444444444444,
              "#bd3786"
             ],
             [
              0.5555555555555556,
              "#d8576b"
             ],
             [
              0.6666666666666666,
              "#ed7953"
             ],
             [
              0.7777777777777778,
              "#fb9f3a"
             ],
             [
              0.8888888888888888,
              "#fdca26"
             ],
             [
              1,
              "#f0f921"
             ]
            ],
            "type": "contour"
           }
          ],
          "contourcarpet": [
           {
            "colorbar": {
             "outlinewidth": 0,
             "ticks": ""
            },
            "type": "contourcarpet"
           }
          ],
          "heatmap": [
           {
            "colorbar": {
             "outlinewidth": 0,
             "ticks": ""
            },
            "colorscale": [
             [
              0,
              "#0d0887"
             ],
             [
              0.1111111111111111,
              "#46039f"
             ],
             [
              0.2222222222222222,
              "#7201a8"
             ],
             [
              0.3333333333333333,
              "#9c179e"
             ],
             [
              0.4444444444444444,
              "#bd3786"
             ],
             [
              0.5555555555555556,
              "#d8576b"
             ],
             [
              0.6666666666666666,
              "#ed7953"
             ],
             [
              0.7777777777777778,
              "#fb9f3a"
             ],
             [
              0.8888888888888888,
              "#fdca26"
             ],
             [
              1,
              "#f0f921"
             ]
            ],
            "type": "heatmap"
           }
          ],
          "histogram": [
           {
            "marker": {
             "pattern": {
              "fillmode": "overlay",
              "size": 10,
              "solidity": 0.2
             }
            },
            "type": "histogram"
           }
          ],
          "histogram2d": [
           {
            "colorbar": {
             "outlinewidth": 0,
             "ticks": ""
            },
            "colorscale": [
             [
              0,
              "#0d0887"
             ],
             [
              0.1111111111111111,
              "#46039f"
             ],
             [
              0.2222222222222222,
              "#7201a8"
             ],
             [
              0.3333333333333333,
              "#9c179e"
             ],
             [
              0.4444444444444444,
              "#bd3786"
             ],
             [
              0.5555555555555556,
              "#d8576b"
             ],
             [
              0.6666666666666666,
              "#ed7953"
             ],
             [
              0.7777777777777778,
              "#fb9f3a"
             ],
             [
              0.8888888888888888,
              "#fdca26"
             ],
             [
              1,
              "#f0f921"
             ]
            ],
            "type": "histogram2d"
           }
          ],
          "histogram2dcontour": [
           {
            "colorbar": {
             "outlinewidth": 0,
             "ticks": ""
            },
            "colorscale": [
             [
              0,
              "#0d0887"
             ],
             [
              0.1111111111111111,
              "#46039f"
             ],
             [
              0.2222222222222222,
              "#7201a8"
             ],
             [
              0.3333333333333333,
              "#9c179e"
             ],
             [
              0.4444444444444444,
              "#bd3786"
             ],
             [
              0.5555555555555556,
              "#d8576b"
             ],
             [
              0.6666666666666666,
              "#ed7953"
             ],
             [
              0.7777777777777778,
              "#fb9f3a"
             ],
             [
              0.8888888888888888,
              "#fdca26"
             ],
             [
              1,
              "#f0f921"
             ]
            ],
            "type": "histogram2dcontour"
           }
          ],
          "mesh3d": [
           {
            "colorbar": {
             "outlinewidth": 0,
             "ticks": ""
            },
            "type": "mesh3d"
           }
          ],
          "parcoords": [
           {
            "line": {
             "colorbar": {
              "outlinewidth": 0,
              "ticks": ""
             }
            },
            "type": "parcoords"
           }
          ],
          "pie": [
           {
            "automargin": true,
            "type": "pie"
           }
          ],
          "scatter": [
           {
            "fillpattern": {
             "fillmode": "overlay",
             "size": 10,
             "solidity": 0.2
            },
            "type": "scatter"
           }
          ],
          "scatter3d": [
           {
            "line": {
             "colorbar": {
              "outlinewidth": 0,
              "ticks": ""
             }
            },
            "marker": {
             "colorbar": {
              "outlinewidth": 0,
              "ticks": ""
             }
            },
            "type": "scatter3d"
           }
          ],
          "scattercarpet": [
           {
            "marker": {
             "colorbar": {
              "outlinewidth": 0,
              "ticks": ""
             }
            },
            "type": "scattercarpet"
           }
          ],
          "scattergeo": [
           {
            "marker": {
             "colorbar": {
              "outlinewidth": 0,
              "ticks": ""
             }
            },
            "type": "scattergeo"
           }
          ],
          "scattergl": [
           {
            "marker": {
             "colorbar": {
              "outlinewidth": 0,
              "ticks": ""
             }
            },
            "type": "scattergl"
           }
          ],
          "scattermap": [
           {
            "marker": {
             "colorbar": {
              "outlinewidth": 0,
              "ticks": ""
             }
            },
            "type": "scattermap"
           }
          ],
          "scattermapbox": [
           {
            "marker": {
             "colorbar": {
              "outlinewidth": 0,
              "ticks": ""
             }
            },
            "type": "scattermapbox"
           }
          ],
          "scatterpolar": [
           {
            "marker": {
             "colorbar": {
              "outlinewidth": 0,
              "ticks": ""
             }
            },
            "type": "scatterpolar"
           }
          ],
          "scatterpolargl": [
           {
            "marker": {
             "colorbar": {
              "outlinewidth": 0,
              "ticks": ""
             }
            },
            "type": "scatterpolargl"
           }
          ],
          "scatterternary": [
           {
            "marker": {
             "colorbar": {
              "outlinewidth": 0,
              "ticks": ""
             }
            },
            "type": "scatterternary"
           }
          ],
          "surface": [
           {
            "colorbar": {
             "outlinewidth": 0,
             "ticks": ""
            },
            "colorscale": [
             [
              0,
              "#0d0887"
             ],
             [
              0.1111111111111111,
              "#46039f"
             ],
             [
              0.2222222222222222,
              "#7201a8"
             ],
             [
              0.3333333333333333,
              "#9c179e"
             ],
             [
              0.4444444444444444,
              "#bd3786"
             ],
             [
              0.5555555555555556,
              "#d8576b"
             ],
             [
              0.6666666666666666,
              "#ed7953"
             ],
             [
              0.7777777777777778,
              "#fb9f3a"
             ],
             [
              0.8888888888888888,
              "#fdca26"
             ],
             [
              1,
              "#f0f921"
             ]
            ],
            "type": "surface"
           }
          ],
          "table": [
           {
            "cells": {
             "fill": {
              "color": "#EBF0F8"
             },
             "line": {
              "color": "white"
             }
            },
            "header": {
             "fill": {
              "color": "#C8D4E3"
             },
             "line": {
              "color": "white"
             }
            },
            "type": "table"
           }
          ]
         },
         "layout": {
          "annotationdefaults": {
           "arrowcolor": "#2a3f5f",
           "arrowhead": 0,
           "arrowwidth": 1
          },
          "autotypenumbers": "strict",
          "coloraxis": {
           "colorbar": {
            "outlinewidth": 0,
            "ticks": ""
           }
          },
          "colorscale": {
           "diverging": [
            [
             0,
             "#8e0152"
            ],
            [
             0.1,
             "#c51b7d"
            ],
            [
             0.2,
             "#de77ae"
            ],
            [
             0.3,
             "#f1b6da"
            ],
            [
             0.4,
             "#fde0ef"
            ],
            [
             0.5,
             "#f7f7f7"
            ],
            [
             0.6,
             "#e6f5d0"
            ],
            [
             0.7,
             "#b8e186"
            ],
            [
             0.8,
             "#7fbc41"
            ],
            [
             0.9,
             "#4d9221"
            ],
            [
             1,
             "#276419"
            ]
           ],
           "sequential": [
            [
             0,
             "#0d0887"
            ],
            [
             0.1111111111111111,
             "#46039f"
            ],
            [
             0.2222222222222222,
             "#7201a8"
            ],
            [
             0.3333333333333333,
             "#9c179e"
            ],
            [
             0.4444444444444444,
             "#bd3786"
            ],
            [
             0.5555555555555556,
             "#d8576b"
            ],
            [
             0.6666666666666666,
             "#ed7953"
            ],
            [
             0.7777777777777778,
             "#fb9f3a"
            ],
            [
             0.8888888888888888,
             "#fdca26"
            ],
            [
             1,
             "#f0f921"
            ]
           ],
           "sequentialminus": [
            [
             0,
             "#0d0887"
            ],
            [
             0.1111111111111111,
             "#46039f"
            ],
            [
             0.2222222222222222,
             "#7201a8"
            ],
            [
             0.3333333333333333,
             "#9c179e"
            ],
            [
             0.4444444444444444,
             "#bd3786"
            ],
            [
             0.5555555555555556,
             "#d8576b"
            ],
            [
             0.6666666666666666,
             "#ed7953"
            ],
            [
             0.7777777777777778,
             "#fb9f3a"
            ],
            [
             0.8888888888888888,
             "#fdca26"
            ],
            [
             1,
             "#f0f921"
            ]
           ]
          },
          "colorway": [
           "#636efa",
           "#EF553B",
           "#00cc96",
           "#ab63fa",
           "#FFA15A",
           "#19d3f3",
           "#FF6692",
           "#B6E880",
           "#FF97FF",
           "#FECB52"
          ],
          "font": {
           "color": "#2a3f5f"
          },
          "geo": {
           "bgcolor": "white",
           "lakecolor": "white",
           "landcolor": "#E5ECF6",
           "showlakes": true,
           "showland": true,
           "subunitcolor": "white"
          },
          "hoverlabel": {
           "align": "left"
          },
          "hovermode": "closest",
          "mapbox": {
           "style": "light"
          },
          "paper_bgcolor": "white",
          "plot_bgcolor": "#E5ECF6",
          "polar": {
           "angularaxis": {
            "gridcolor": "white",
            "linecolor": "white",
            "ticks": ""
           },
           "bgcolor": "#E5ECF6",
           "radialaxis": {
            "gridcolor": "white",
            "linecolor": "white",
            "ticks": ""
           }
          },
          "scene": {
           "xaxis": {
            "backgroundcolor": "#E5ECF6",
            "gridcolor": "white",
            "gridwidth": 2,
            "linecolor": "white",
            "showbackground": true,
            "ticks": "",
            "zerolinecolor": "white"
           },
           "yaxis": {
            "backgroundcolor": "#E5ECF6",
            "gridcolor": "white",
            "gridwidth": 2,
            "linecolor": "white",
            "showbackground": true,
            "ticks": "",
            "zerolinecolor": "white"
           },
           "zaxis": {
            "backgroundcolor": "#E5ECF6",
            "gridcolor": "white",
            "gridwidth": 2,
            "linecolor": "white",
            "showbackground": true,
            "ticks": "",
            "zerolinecolor": "white"
           }
          },
          "shapedefaults": {
           "line": {
            "color": "#2a3f5f"
           }
          },
          "ternary": {
           "aaxis": {
            "gridcolor": "white",
            "linecolor": "white",
            "ticks": ""
           },
           "baxis": {
            "gridcolor": "white",
            "linecolor": "white",
            "ticks": ""
           },
           "bgcolor": "#E5ECF6",
           "caxis": {
            "gridcolor": "white",
            "linecolor": "white",
            "ticks": ""
           }
          },
          "title": {
           "x": 0.05
          },
          "xaxis": {
           "automargin": true,
           "gridcolor": "white",
           "linecolor": "white",
           "ticks": "",
           "title": {
            "standoff": 15
           },
           "zerolinecolor": "white",
           "zerolinewidth": 2
          },
          "yaxis": {
           "automargin": true,
           "gridcolor": "white",
           "linecolor": "white",
           "ticks": "",
           "title": {
            "standoff": 15
           },
           "zerolinecolor": "white",
           "zerolinewidth": 2
          }
         }
        },
        "title": {
         "text": "Топ слова по TF-IDF по каналам"
        },
        "xaxis": {
         "anchor": "y",
         "domain": [
          0,
          0.45
         ]
        },
        "xaxis2": {
         "anchor": "y2",
         "domain": [
          0.55,
          1
         ]
        },
        "xaxis3": {
         "anchor": "y3",
         "domain": [
          0,
          0.45
         ]
        },
        "xaxis4": {
         "anchor": "y4",
         "domain": [
          0.55,
          1
         ]
        },
        "xaxis5": {
         "anchor": "y5",
         "domain": [
          0,
          0.45
         ]
        },
        "xaxis6": {
         "anchor": "y6",
         "domain": [
          0.55,
          1
         ]
        },
        "xaxis7": {
         "anchor": "y7",
         "domain": [
          0,
          0.45
         ]
        },
        "xaxis8": {
         "anchor": "y8",
         "domain": [
          0.55,
          1
         ]
        },
        "yaxis": {
         "anchor": "x",
         "autorange": "reversed",
         "domain": [
          0.825,
          1
         ]
        },
        "yaxis2": {
         "anchor": "x2",
         "autorange": "reversed",
         "domain": [
          0.825,
          1
         ]
        },
        "yaxis3": {
         "anchor": "x3",
         "autorange": "reversed",
         "domain": [
          0.55,
          0.7250000000000001
         ]
        },
        "yaxis4": {
         "anchor": "x4",
         "autorange": "reversed",
         "domain": [
          0.55,
          0.7250000000000001
         ]
        },
        "yaxis5": {
         "anchor": "x5",
         "autorange": "reversed",
         "domain": [
          0.275,
          0.45
         ]
        },
        "yaxis6": {
         "anchor": "x6",
         "autorange": "reversed",
         "domain": [
          0.275,
          0.45
         ]
        },
        "yaxis7": {
         "anchor": "x7",
         "autorange": "reversed",
         "domain": [
          0,
          0.175
         ]
        },
        "yaxis8": {
         "anchor": "x8",
         "autorange": "reversed",
         "domain": [
          0,
          0.175
         ]
        }
       }
      }
     },
     "metadata": {},
     "output_type": "display_data"
    }
   ],
   "source": [
    "def visualize_tfidf_by_channel(channel_tfidf, top_n=10):\n",
    "    \"\"\"Визуализация TF-IDF результатов по каналам\"\"\"\n",
    "    \n",
    "    if not channel_tfidf:\n",
    "        print(\"Нет данных для визуализации TF-IDF по каналам\")\n",
    "        return\n",
    "    \n",
    "    # Создаем subplot для топ каналов\n",
    "    channels = list(channel_tfidf.keys())\n",
    "    \n",
    "    # Ограничим количество каналов для визуализации\n",
    "    if len(channels) > 8:\n",
    "        print(f\"Визуализируем топ-8 каналов из {len(channels)}\")\n",
    "        channels = channels[:8]\n",
    "    \n",
    "    num_channels = len(channels)\n",
    "    cols = 2\n",
    "    rows = (num_channels + 1) // cols\n",
    "    \n",
    "    fig = make_subplots(\n",
    "        rows=rows, cols=cols,\n",
    "        subplot_titles=[f\"Канал: {channel}\" for channel in channels],\n",
    "        vertical_spacing=0.1\n",
    "    )\n",
    "    \n",
    "    for idx, channel in enumerate(channels):\n",
    "        row = (idx // cols) + 1\n",
    "        col = (idx % cols) + 1\n",
    "        \n",
    "        top_words = channel_tfidf[channel]['top_words'][:top_n]\n",
    "        words = [word for word, _ in top_words]\n",
    "        scores = [score for _, score in top_words]\n",
    "        \n",
    "        fig.add_trace(\n",
    "            go.Bar(x=scores, y=words, orientation='h', name=channel),\n",
    "            row=row, col=col\n",
    "        )\n",
    "    \n",
    "    fig.update_layout(\n",
    "        height=300 * rows,\n",
    "        title_text=\"Топ слова по TF-IDF по каналам\",\n",
    "        showlegend=False\n",
    "    )\n",
    "    fig.update_yaxes(autorange=\"reversed\")  # чтобы самый высокий TF-IDF был сверху\n",
    "    fig.show()\n",
    "\n",
    "# Визуализируем TF-IDF по каналам\n",
    "visualize_tfidf_by_channel(channel_tfidf_results)"
   ]
  },
  {
   "cell_type": "markdown",
   "metadata": {},
   "source": [
    "### 9.5. Сравнительный анализ TF-IDF между каналами\n"
   ]
  },
  {
   "cell_type": "code",
   "execution_count": 29,
   "metadata": {},
   "outputs": [
    {
     "name": "stdout",
     "output_type": "stream",
     "text": [
      "\n",
      "🔀 СРАВНИТЕЛЬНЫЙ АНАЛИЗ TF-IDF МЕЖДУ КАНАЛАМИ:\n"
     ]
    },
    {
     "data": {
      "application/vnd.plotly.v1+json": {
       "config": {
        "plotlyServerURL": "https://plot.ly"
       },
       "data": [
        {
         "coloraxis": "coloraxis",
         "hovertemplate": "Слова: %{x}<br>Каналы: %{y}<br>TF-IDF: %{z}<extra></extra>",
         "name": "0",
         "type": "heatmap",
         "x": [
          "аэропорта",
          "сообщил",
          "аэропорту",
          "rbc ru",
          "telegram",
          "max",
          "читать",
          "бусты",
          "года",
          "путин",
          "россии",
          "рф",
          "тасс max",
          "alert",
          "минобороны",
          "человека",
          "данным",
          "сообщила",
          "ноября",
          "мужчина",
          "москвы",
          "время",
          "imoex",
          "https kod",
          "дело",
          "москве",
          "kod",
          "подпишись",
          "ссылке",
          "com",
          "человек",
          "подписывайтесь оставляйте",
          "https",
          "рост",
          "оставляйте бусты",
          "ru",
          "mos ru",
          "руб",
          "подпишись тасс",
          "авиакомпании",
          "видео",
          "подписывайтесь",
          "112",
          "оставляйте",
          "apple",
          "00",
          "ъузнал",
          "rbc",
          "области",
          "аэропорт"
         ],
         "xaxis": "x",
         "y": [
          "d_code",
          "rbc_news",
          "rian_ru",
          "kommersant",
          "tass_agency",
          "ENews112",
          "headlines_for_traders",
          "aviadispet4er",
          "mosrutop"
         ],
         "yaxis": "y",
         "z": {
          "bdata": "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",
          "dtype": "f8",
          "shape": "9, 50"
         }
        }
       ],
       "layout": {
        "coloraxis": {
         "colorbar": {
          "title": {
           "text": "TF-IDF"
          }
         },
         "colorscale": [
          [
           0,
           "#440154"
          ],
          [
           0.1111111111111111,
           "#482878"
          ],
          [
           0.2222222222222222,
           "#3e4989"
          ],
          [
           0.3333333333333333,
           "#31688e"
          ],
          [
           0.4444444444444444,
           "#26828e"
          ],
          [
           0.5555555555555556,
           "#1f9e89"
          ],
          [
           0.6666666666666666,
           "#35b779"
          ],
          [
           0.7777777777777778,
           "#6ece58"
          ],
          [
           0.8888888888888888,
           "#b5de2b"
          ],
          [
           1,
           "#fde725"
          ]
         ]
        },
        "template": {
         "data": {
          "bar": [
           {
            "error_x": {
             "color": "#2a3f5f"
            },
            "error_y": {
             "color": "#2a3f5f"
            },
            "marker": {
             "line": {
              "color": "#E5ECF6",
              "width": 0.5
             },
             "pattern": {
              "fillmode": "overlay",
              "size": 10,
              "solidity": 0.2
             }
            },
            "type": "bar"
           }
          ],
          "barpolar": [
           {
            "marker": {
             "line": {
              "color": "#E5ECF6",
              "width": 0.5
             },
             "pattern": {
              "fillmode": "overlay",
              "size": 10,
              "solidity": 0.2
             }
            },
            "type": "barpolar"
           }
          ],
          "carpet": [
           {
            "aaxis": {
             "endlinecolor": "#2a3f5f",
             "gridcolor": "white",
             "linecolor": "white",
             "minorgridcolor": "white",
             "startlinecolor": "#2a3f5f"
            },
            "baxis": {
             "endlinecolor": "#2a3f5f",
             "gridcolor": "white",
             "linecolor": "white",
             "minorgridcolor": "white",
             "startlinecolor": "#2a3f5f"
            },
            "type": "carpet"
           }
          ],
          "choropleth": [
           {
            "colorbar": {
             "outlinewidth": 0,
             "ticks": ""
            },
            "type": "choropleth"
           }
          ],
          "contour": [
           {
            "colorbar": {
             "outlinewidth": 0,
             "ticks": ""
            },
            "colorscale": [
             [
              0,
              "#0d0887"
             ],
             [
              0.1111111111111111,
              "#46039f"
             ],
             [
              0.2222222222222222,
              "#7201a8"
             ],
             [
              0.3333333333333333,
              "#9c179e"
             ],
             [
              0.4444444444444444,
              "#bd3786"
             ],
             [
              0.5555555555555556,
              "#d8576b"
             ],
             [
              0.6666666666666666,
              "#ed7953"
             ],
             [
              0.7777777777777778,
              "#fb9f3a"
             ],
             [
              0.8888888888888888,
              "#fdca26"
             ],
             [
              1,
              "#f0f921"
             ]
            ],
            "type": "contour"
           }
          ],
          "contourcarpet": [
           {
            "colorbar": {
             "outlinewidth": 0,
             "ticks": ""
            },
            "type": "contourcarpet"
           }
          ],
          "heatmap": [
           {
            "colorbar": {
             "outlinewidth": 0,
             "ticks": ""
            },
            "colorscale": [
             [
              0,
              "#0d0887"
             ],
             [
              0.1111111111111111,
              "#46039f"
             ],
             [
              0.2222222222222222,
              "#7201a8"
             ],
             [
              0.3333333333333333,
              "#9c179e"
             ],
             [
              0.4444444444444444,
              "#bd3786"
             ],
             [
              0.5555555555555556,
              "#d8576b"
             ],
             [
              0.6666666666666666,
              "#ed7953"
             ],
             [
              0.7777777777777778,
              "#fb9f3a"
             ],
             [
              0.8888888888888888,
              "#fdca26"
             ],
             [
              1,
              "#f0f921"
             ]
            ],
            "type": "heatmap"
           }
          ],
          "histogram": [
           {
            "marker": {
             "pattern": {
              "fillmode": "overlay",
              "size": 10,
              "solidity": 0.2
             }
            },
            "type": "histogram"
           }
          ],
          "histogram2d": [
           {
            "colorbar": {
             "outlinewidth": 0,
             "ticks": ""
            },
            "colorscale": [
             [
              0,
              "#0d0887"
             ],
             [
              0.1111111111111111,
              "#46039f"
             ],
             [
              0.2222222222222222,
              "#7201a8"
             ],
             [
              0.3333333333333333,
              "#9c179e"
             ],
             [
              0.4444444444444444,
              "#bd3786"
             ],
             [
              0.5555555555555556,
              "#d8576b"
             ],
             [
              0.6666666666666666,
              "#ed7953"
             ],
             [
              0.7777777777777778,
              "#fb9f3a"
             ],
             [
              0.8888888888888888,
              "#fdca26"
             ],
             [
              1,
              "#f0f921"
             ]
            ],
            "type": "histogram2d"
           }
          ],
          "histogram2dcontour": [
           {
            "colorbar": {
             "outlinewidth": 0,
             "ticks": ""
            },
            "colorscale": [
             [
              0,
              "#0d0887"
             ],
             [
              0.1111111111111111,
              "#46039f"
             ],
             [
              0.2222222222222222,
              "#7201a8"
             ],
             [
              0.3333333333333333,
              "#9c179e"
             ],
             [
              0.4444444444444444,
              "#bd3786"
             ],
             [
              0.5555555555555556,
              "#d8576b"
             ],
             [
              0.6666666666666666,
              "#ed7953"
             ],
             [
              0.7777777777777778,
              "#fb9f3a"
             ],
             [
              0.8888888888888888,
              "#fdca26"
             ],
             [
              1,
              "#f0f921"
             ]
            ],
            "type": "histogram2dcontour"
           }
          ],
          "mesh3d": [
           {
            "colorbar": {
             "outlinewidth": 0,
             "ticks": ""
            },
            "type": "mesh3d"
           }
          ],
          "parcoords": [
           {
            "line": {
             "colorbar": {
              "outlinewidth": 0,
              "ticks": ""
             }
            },
            "type": "parcoords"
           }
          ],
          "pie": [
           {
            "automargin": true,
            "type": "pie"
           }
          ],
          "scatter": [
           {
            "fillpattern": {
             "fillmode": "overlay",
             "size": 10,
             "solidity": 0.2
            },
            "type": "scatter"
           }
          ],
          "scatter3d": [
           {
            "line": {
             "colorbar": {
              "outlinewidth": 0,
              "ticks": ""
             }
            },
            "marker": {
             "colorbar": {
              "outlinewidth": 0,
              "ticks": ""
             }
            },
            "type": "scatter3d"
           }
          ],
          "scattercarpet": [
           {
            "marker": {
             "colorbar": {
              "outlinewidth": 0,
              "ticks": ""
             }
            },
            "type": "scattercarpet"
           }
          ],
          "scattergeo": [
           {
            "marker": {
             "colorbar": {
              "outlinewidth": 0,
              "ticks": ""
             }
            },
            "type": "scattergeo"
           }
          ],
          "scattergl": [
           {
            "marker": {
             "colorbar": {
              "outlinewidth": 0,
              "ticks": ""
             }
            },
            "type": "scattergl"
           }
          ],
          "scattermap": [
           {
            "marker": {
             "colorbar": {
              "outlinewidth": 0,
              "ticks": ""
             }
            },
            "type": "scattermap"
           }
          ],
          "scattermapbox": [
           {
            "marker": {
             "colorbar": {
              "outlinewidth": 0,
              "ticks": ""
             }
            },
            "type": "scattermapbox"
           }
          ],
          "scatterpolar": [
           {
            "marker": {
             "colorbar": {
              "outlinewidth": 0,
              "ticks": ""
             }
            },
            "type": "scatterpolar"
           }
          ],
          "scatterpolargl": [
           {
            "marker": {
             "colorbar": {
              "outlinewidth": 0,
              "ticks": ""
             }
            },
            "type": "scatterpolargl"
           }
          ],
          "scatterternary": [
           {
            "marker": {
             "colorbar": {
              "outlinewidth": 0,
              "ticks": ""
             }
            },
            "type": "scatterternary"
           }
          ],
          "surface": [
           {
            "colorbar": {
             "outlinewidth": 0,
             "ticks": ""
            },
            "colorscale": [
             [
              0,
              "#0d0887"
             ],
             [
              0.1111111111111111,
              "#46039f"
             ],
             [
              0.2222222222222222,
              "#7201a8"
             ],
             [
              0.3333333333333333,
              "#9c179e"
             ],
             [
              0.4444444444444444,
              "#bd3786"
             ],
             [
              0.5555555555555556,
              "#d8576b"
             ],
             [
              0.6666666666666666,
              "#ed7953"
             ],
             [
              0.7777777777777778,
              "#fb9f3a"
             ],
             [
              0.8888888888888888,
              "#fdca26"
             ],
             [
              1,
              "#f0f921"
             ]
            ],
            "type": "surface"
           }
          ],
          "table": [
           {
            "cells": {
             "fill": {
              "color": "#EBF0F8"
             },
             "line": {
              "color": "white"
             }
            },
            "header": {
             "fill": {
              "color": "#C8D4E3"
             },
             "line": {
              "color": "white"
             }
            },
            "type": "table"
           }
          ]
         },
         "layout": {
          "annotationdefaults": {
           "arrowcolor": "#2a3f5f",
           "arrowhead": 0,
           "arrowwidth": 1
          },
          "autotypenumbers": "strict",
          "coloraxis": {
           "colorbar": {
            "outlinewidth": 0,
            "ticks": ""
           }
          },
          "colorscale": {
           "diverging": [
            [
             0,
             "#8e0152"
            ],
            [
             0.1,
             "#c51b7d"
            ],
            [
             0.2,
             "#de77ae"
            ],
            [
             0.3,
             "#f1b6da"
            ],
            [
             0.4,
             "#fde0ef"
            ],
            [
             0.5,
             "#f7f7f7"
            ],
            [
             0.6,
             "#e6f5d0"
            ],
            [
             0.7,
             "#b8e186"
            ],
            [
             0.8,
             "#7fbc41"
            ],
            [
             0.9,
             "#4d9221"
            ],
            [
             1,
             "#276419"
            ]
           ],
           "sequential": [
            [
             0,
             "#0d0887"
            ],
            [
             0.1111111111111111,
             "#46039f"
            ],
            [
             0.2222222222222222,
             "#7201a8"
            ],
            [
             0.3333333333333333,
             "#9c179e"
            ],
            [
             0.4444444444444444,
             "#bd3786"
            ],
            [
             0.5555555555555556,
             "#d8576b"
            ],
            [
             0.6666666666666666,
             "#ed7953"
            ],
            [
             0.7777777777777778,
             "#fb9f3a"
            ],
            [
             0.8888888888888888,
             "#fdca26"
            ],
            [
             1,
             "#f0f921"
            ]
           ],
           "sequentialminus": [
            [
             0,
             "#0d0887"
            ],
            [
             0.1111111111111111,
             "#46039f"
            ],
            [
             0.2222222222222222,
             "#7201a8"
            ],
            [
             0.3333333333333333,
             "#9c179e"
            ],
            [
             0.4444444444444444,
             "#bd3786"
            ],
            [
             0.5555555555555556,
             "#d8576b"
            ],
            [
             0.6666666666666666,
             "#ed7953"
            ],
            [
             0.7777777777777778,
             "#fb9f3a"
            ],
            [
             0.8888888888888888,
             "#fdca26"
            ],
            [
             1,
             "#f0f921"
            ]
           ]
          },
          "colorway": [
           "#636efa",
           "#EF553B",
           "#00cc96",
           "#ab63fa",
           "#FFA15A",
           "#19d3f3",
           "#FF6692",
           "#B6E880",
           "#FF97FF",
           "#FECB52"
          ],
          "font": {
           "color": "#2a3f5f"
          },
          "geo": {
           "bgcolor": "white",
           "lakecolor": "white",
           "landcolor": "#E5ECF6",
           "showlakes": true,
           "showland": true,
           "subunitcolor": "white"
          },
          "hoverlabel": {
           "align": "left"
          },
          "hovermode": "closest",
          "mapbox": {
           "style": "light"
          },
          "paper_bgcolor": "white",
          "plot_bgcolor": "#E5ECF6",
          "polar": {
           "angularaxis": {
            "gridcolor": "white",
            "linecolor": "white",
            "ticks": ""
           },
           "bgcolor": "#E5ECF6",
           "radialaxis": {
            "gridcolor": "white",
            "linecolor": "white",
            "ticks": ""
           }
          },
          "scene": {
           "xaxis": {
            "backgroundcolor": "#E5ECF6",
            "gridcolor": "white",
            "gridwidth": 2,
            "linecolor": "white",
            "showbackground": true,
            "ticks": "",
            "zerolinecolor": "white"
           },
           "yaxis": {
            "backgroundcolor": "#E5ECF6",
            "gridcolor": "white",
            "gridwidth": 2,
            "linecolor": "white",
            "showbackground": true,
            "ticks": "",
            "zerolinecolor": "white"
           },
           "zaxis": {
            "backgroundcolor": "#E5ECF6",
            "gridcolor": "white",
            "gridwidth": 2,
            "linecolor": "white",
            "showbackground": true,
            "ticks": "",
            "zerolinecolor": "white"
           }
          },
          "shapedefaults": {
           "line": {
            "color": "#2a3f5f"
           }
          },
          "ternary": {
           "aaxis": {
            "gridcolor": "white",
            "linecolor": "white",
            "ticks": ""
           },
           "baxis": {
            "gridcolor": "white",
            "linecolor": "white",
            "ticks": ""
           },
           "bgcolor": "#E5ECF6",
           "caxis": {
            "gridcolor": "white",
            "linecolor": "white",
            "ticks": ""
           }
          },
          "title": {
           "x": 0.05
          },
          "xaxis": {
           "automargin": true,
           "gridcolor": "white",
           "linecolor": "white",
           "ticks": "",
           "title": {
            "standoff": 15
           },
           "zerolinecolor": "white",
           "zerolinewidth": 2
          },
          "yaxis": {
           "automargin": true,
           "gridcolor": "white",
           "linecolor": "white",
           "ticks": "",
           "title": {
            "standoff": 15
           },
           "zerolinecolor": "white",
           "zerolinewidth": 2
          }
         }
        },
        "title": {
         "text": "Тепловая карта TF-IDF по каналам"
        },
        "xaxis": {
         "anchor": "y",
         "domain": [
          0,
          1
         ],
         "tickangle": 45,
         "title": {
          "text": "Слова"
         }
        },
        "yaxis": {
         "anchor": "x",
         "autorange": "reversed",
         "domain": [
          0,
          1
         ],
         "title": {
          "text": "Каналы"
         }
        }
       }
      }
     },
     "metadata": {},
     "output_type": "display_data"
    }
   ],
   "source": [
    "def compare_channels_tfidf(channel_tfidf, top_n=15):\n",
    "    \"\"\"Сравнительный анализ TF-IDF между каналами\"\"\"\n",
    "    \n",
    "    if not channel_tfidf:\n",
    "        return\n",
    "    \n",
    "    print(\"\\n🔀 СРАВНИТЕЛЬНЫЙ АНАЛИЗ TF-IDF МЕЖДУ КАНАЛАМИ:\")\n",
    "    \n",
    "    # Собираем все уникальные топ слова из всех каналов\n",
    "    all_top_words = set()\n",
    "    for channel_data in channel_tfidf.values():\n",
    "        all_top_words.update([word for word, _ in channel_data['top_words'][:top_n]])\n",
    "    \n",
    "    # Создаем матрицу сравнения\n",
    "    comparison_data = []\n",
    "    for word in list(all_top_words)[:50]:  # Ограничим для читаемости\n",
    "        row = {'word': word}\n",
    "        for channel, channel_data in channel_tfidf.items():\n",
    "            # Находим TF-IDF для слова в канале\n",
    "            word_score = 0\n",
    "            for w, score in channel_data['top_words']:\n",
    "                if w == word:\n",
    "                    word_score = score\n",
    "                    break\n",
    "            row[channel] = word_score\n",
    "        comparison_data.append(row)\n",
    "    \n",
    "    # Создаем DataFrame для визуализации\n",
    "    comparison_df = pd.DataFrame(comparison_data).set_index('word')\n",
    "    \n",
    "    # Визуализация тепловой карты\n",
    "    if len(comparison_df) > 0:\n",
    "        fig = px.imshow(\n",
    "            comparison_df.T,\n",
    "            title=\"Тепловая карта TF-IDF по каналам\",\n",
    "            labels=dict(x=\"Слова\", y=\"Каналы\", color=\"TF-IDF\"),\n",
    "            color_continuous_scale=\"viridis\",\n",
    "            aspect=\"auto\"\n",
    "        )\n",
    "        fig.update_xaxes(tickangle=45)\n",
    "        fig.show()\n",
    "    \n",
    "    return comparison_df\n",
    "\n",
    "# Сравнительный анализ\n",
    "comparison_df = compare_channels_tfidf(channel_tfidf_results)"
   ]
  },
  {
   "cell_type": "markdown",
   "metadata": {},
   "source": [
    "## 10. Финальный отчет\n"
   ]
  },
  {
   "cell_type": "code",
   "execution_count": 30,
   "metadata": {},
   "outputs": [
    {
     "name": "stdout",
     "output_type": "stream",
     "text": [
      "====================================================================================================\n",
      "🎯 ПОЛНЫЙ EDA ОТЧЕТ: ТЕКСТЫ, ПЕРСОНЫ И TF-IDF АНАЛИЗ\n",
      "====================================================================================================\n",
      "\n",
      "📈 ОСНОВНЫЕ МЕТРИКИ ТЕКСТА:\n",
      "• Документов: 7,325\n",
      "• Средняя длина: 59.4 слов\n",
      "• Самый длинный текст: 582 слов\n",
      "\n",
      "📚 ЛЕКСИЧЕСКОЕ РАЗНООБРАЗИЕ:\n",
      "• Размер словаря: 57,689 уникальных слов\n",
      "• Лексическое разнообразие: 0.1849\n",
      "\n",
      "👥 АНАЛИЗ УПОМИНАНИЙ ПЕРСОН:\n",
      "• Всего упоминаний персон: 402\n",
      "• Уникальных персон: 276\n",
      "• Топ персона: 'Трамп'\n",
      "\n",
      "🔍 TF-IDF АНАЛИЗ:\n",
      "• Проанализировано признаков: 1000\n",
      "• Топ-3 слова по TF-IDF:\n",
      "    1. 'ru': 0.0339\n",
      "    2. 'новости': 0.0301\n",
      "    3. 'риа': 0.0285\n",
      "• Каналов с TF-IDF анализом: 9\n",
      "• Самый специфичный канал: 'tass_agency' (топ слово: 'тасс')\n"
     ]
    }
   ],
   "source": [
    "def generate_final_comprehensive_report(df, person_analysis, token_stats, stats, \n",
    "                                     tfidf_corpus, channel_tfidf):\n",
    "    \"\"\"Финальный комплексный отчет со всеми анализами\"\"\"\n",
    "    \n",
    "    print(\"=\" * 100)\n",
    "    print(\"🎯 ПОЛНЫЙ EDA ОТЧЕТ: ТЕКСТЫ, ПЕРСОНЫ И TF-IDF АНАЛИЗ\")\n",
    "    print(\"=\" * 100)\n",
    "    \n",
    "    print(f\"\\n📈 ОСНОВНЫЕ МЕТРИКИ ТЕКСТА:\")\n",
    "    print(f\"• Документов: {stats['total_documents']:,}\")\n",
    "    print(f\"• Средняя длина: {stats['avg_words_per_doc']:.1f} слов\")\n",
    "    print(f\"• Самый длинный текст: {stats['max_words']} слов\")\n",
    "    \n",
    "    print(f\"\\n📚 ЛЕКСИЧЕСКОЕ РАЗНООБРАЗИЕ:\")\n",
    "    print(f\"• Размер словаря: {token_stats['vocab_size']:,} уникальных слов\")\n",
    "    print(f\"• Лексическое разнообразие: {token_stats['lexical_diversity']:.4f}\")\n",
    "    \n",
    "    print(f\"\\n👥 АНАЛИЗ УПОМИНАНИЙ ПЕРСОН:\")\n",
    "    print(f\"• Всего упоминаний персон: {person_analysis['total_mentions']}\")\n",
    "    print(f\"• Уникальных персон: {person_analysis['total_unique_persons']}\")\n",
    "    \n",
    "    if person_analysis['overall_top_persons']:\n",
    "        print(f\"• Топ персона: '{person_analysis['overall_top_persons'][0][0]}'\")\n",
    "    \n",
    "    print(f\"\\n🔍 TF-IDF АНАЛИЗ:\")\n",
    "    print(f\"• Проанализировано признаков: {len(tfidf_corpus['feature_names'])}\")\n",
    "    print(f\"• Топ-3 слова по TF-IDF:\")\n",
    "    for i, (word, score) in enumerate(tfidf_corpus['top_words'][:3], 1):\n",
    "        print(f\"    {i}. '{word}': {score:.4f}\")\n",
    "    \n",
    "    print(f\"• Каналов с TF-IDF анализом: {len(channel_tfidf)}\")\n",
    "    \n",
    "    # Находим канал с самым высоким TF-IDF для его топ слова\n",
    "    if channel_tfidf:\n",
    "        max_channel = max(channel_tfidf.items(), \n",
    "                         key=lambda x: x[1]['top_words'][0][1] if x[1]['top_words'] else 0)\n",
    "        if max_channel[1]['top_words']:\n",
    "            top_word, top_score = max_channel[1]['top_words'][0]\n",
    "            print(f\"• Самый специфичный канал: '{max_channel[0]}' (топ слово: '{top_word}')\")\n",
    "    \n",
    "\n",
    "# Финальный отчет\n",
    "generate_final_comprehensive_report(df, person_analysis, token_stats, stats, \n",
    "                                 tfidf_corpus, channel_tfidf_results)"
   ]
  }
 ],
 "metadata": {
  "colab": {
   "provenance": []
  },
  "kernelspec": {
   "display_name": ".venv",
   "language": "python",
   "name": "python3"
  },
  "language_info": {
   "codemirror_mode": {
    "name": "ipython",
    "version": 3
   },
   "file_extension": ".py",
   "mimetype": "text/x-python",
   "name": "python",
   "nbconvert_exporter": "python",
   "pygments_lexer": "ipython3",
   "version": "3.12.3"
  }
 },
 "nbformat": 4,
 "nbformat_minor": 4
}
